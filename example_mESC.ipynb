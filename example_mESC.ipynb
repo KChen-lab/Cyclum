{
 "cells": [
  {
   "cell_type": "markdown",
   "metadata": {},
   "source": [
    "# Import necessary packages"
   ]
  },
  {
   "cell_type": "code",
   "execution_count": 1,
   "metadata": {},
   "outputs": [],
   "source": [
    "%load_ext autoreload\n",
    "%autoreload 1"
   ]
  },
  {
   "cell_type": "code",
   "execution_count": 2,
   "metadata": {},
   "outputs": [],
   "source": [
    "import sys\n",
    "\n",
    "import pandas as pd\n",
    "import numpy as np\n",
    "import pickle as pkl\n",
    "import sklearn as skl\n",
    "import sklearn.preprocessing\n",
    "\n",
    "import matplotlib as mpl\n",
    "\n",
    "import matplotlib.pyplot as plt"
   ]
  },
  {
   "cell_type": "markdown",
   "metadata": {},
   "source": [
    "Warning information from TensorFlow may occur. It doesn't matter."
   ]
  },
  {
   "cell_type": "code",
   "execution_count": 3,
   "metadata": {
    "scrolled": true
   },
   "outputs": [
    {
     "name": "stderr",
     "output_type": "stream",
     "text": [
      "/home/shaoheng/.conda/envs/tensorflow-gpu/lib/python3.6/site-packages/h5py/__init__.py:36: FutureWarning: Conversion of the second argument of issubdtype from `float` to `np.floating` is deprecated. In future, it will be treated as `np.float64 == np.dtype(float).type`.\n",
      "  from ._conv import register_converters as _register_converters\n"
     ]
    }
   ],
   "source": [
    "import cyclum\n",
    "from cyclum import writer"
   ]
  },
  {
   "cell_type": "code",
   "execution_count": 4,
   "metadata": {},
   "outputs": [],
   "source": [
    "input_file_mask = 'data/mESC/mesc-tpm'\n",
    "output_file_mask = './results/mESC_original/mesc-tpm'"
   ]
  },
  {
   "cell_type": "markdown",
   "metadata": {},
   "source": [
    "# Read data\n",
    "Here we have label, so we load both. However, the label is not used until evaluation."
   ]
  },
  {
   "cell_type": "code",
   "execution_count": 5,
   "metadata": {},
   "outputs": [],
   "source": [
    "def preprocess(input_file_mask):\n",
    "    \"\"\"\n",
    "    Read in data and perform log transform (log2(x+1)), centering (mean = 1) and scaling (sd = 1).\n",
    "    \"\"\"\n",
    "    tpm = writer.read_df_from_binary(input_file_mask).T\n",
    "    sttpm = pd.DataFrame(data=skl.preprocessing.scale(np.log2(tpm.values + 1)), index=tpm.index, columns=tpm.columns)\n",
    "    \n",
    "    label = pd.read_csv(input_file_mask + '-label.txt', sep=\"\\t\", index_col=0).T\n",
    "    return sttpm, label\n",
    "\n",
    "sttpm, label = preprocess(input_file_mask)"
   ]
  },
  {
   "cell_type": "markdown",
   "metadata": {},
   "source": [
    "There is no convention whether cells should be columns or rows. Here we require cells to be rows."
   ]
  },
  {
   "cell_type": "code",
   "execution_count": 6,
   "metadata": {},
   "outputs": [
    {
     "data": {
      "text/html": [
       "<div>\n",
       "<style scoped>\n",
       "    .dataframe tbody tr th:only-of-type {\n",
       "        vertical-align: middle;\n",
       "    }\n",
       "\n",
       "    .dataframe tbody tr th {\n",
       "        vertical-align: top;\n",
       "    }\n",
       "\n",
       "    .dataframe thead th {\n",
       "        text-align: right;\n",
       "    }\n",
       "</style>\n",
       "<table border=\"1\" class=\"dataframe\">\n",
       "  <thead>\n",
       "    <tr style=\"text-align: right;\">\n",
       "      <th></th>\n",
       "      <th>Gnai3</th>\n",
       "      <th>Pbsn</th>\n",
       "      <th>Cdc45</th>\n",
       "      <th>H19</th>\n",
       "      <th>Scml2</th>\n",
       "      <th>Apoh</th>\n",
       "      <th>Narf</th>\n",
       "      <th>Cav2</th>\n",
       "      <th>Klf6</th>\n",
       "      <th>Scmh1</th>\n",
       "      <th>...</th>\n",
       "      <th>RP23-345J21.2</th>\n",
       "      <th>AC121960.1</th>\n",
       "      <th>AC136147.1</th>\n",
       "      <th>AC122013.1</th>\n",
       "      <th>AC132389.1</th>\n",
       "      <th>Gm11392</th>\n",
       "      <th>AC160109.2</th>\n",
       "      <th>AC154675.1</th>\n",
       "      <th>AC156980.1</th>\n",
       "      <th>RP23-429I18.1</th>\n",
       "    </tr>\n",
       "  </thead>\n",
       "  <tbody>\n",
       "    <tr>\n",
       "      <th>G1_cell1_count</th>\n",
       "      <td>-0.411123</td>\n",
       "      <td>-0.059028</td>\n",
       "      <td>-0.099416</td>\n",
       "      <td>5.385822</td>\n",
       "      <td>-0.691219</td>\n",
       "      <td>0.0</td>\n",
       "      <td>-0.690715</td>\n",
       "      <td>-0.059028</td>\n",
       "      <td>-1.051909</td>\n",
       "      <td>-0.350978</td>\n",
       "      <td>...</td>\n",
       "      <td>-0.146722</td>\n",
       "      <td>0.0</td>\n",
       "      <td>-0.079577</td>\n",
       "      <td>-0.374972</td>\n",
       "      <td>-0.824399</td>\n",
       "      <td>-0.059028</td>\n",
       "      <td>-0.079861</td>\n",
       "      <td>0.0</td>\n",
       "      <td>-0.144843</td>\n",
       "      <td>0.090295</td>\n",
       "    </tr>\n",
       "    <tr>\n",
       "      <th>G1_cell2_count</th>\n",
       "      <td>-0.180800</td>\n",
       "      <td>-0.059028</td>\n",
       "      <td>0.777223</td>\n",
       "      <td>-0.165725</td>\n",
       "      <td>-0.820206</td>\n",
       "      <td>0.0</td>\n",
       "      <td>0.362341</td>\n",
       "      <td>-0.059028</td>\n",
       "      <td>1.458881</td>\n",
       "      <td>0.207421</td>\n",
       "      <td>...</td>\n",
       "      <td>-0.146722</td>\n",
       "      <td>0.0</td>\n",
       "      <td>-0.079577</td>\n",
       "      <td>-0.374972</td>\n",
       "      <td>-0.824399</td>\n",
       "      <td>-0.059028</td>\n",
       "      <td>-0.079861</td>\n",
       "      <td>0.0</td>\n",
       "      <td>-0.144843</td>\n",
       "      <td>-1.271033</td>\n",
       "    </tr>\n",
       "    <tr>\n",
       "      <th>G1_cell3_count</th>\n",
       "      <td>-1.409101</td>\n",
       "      <td>-0.059028</td>\n",
       "      <td>-1.218187</td>\n",
       "      <td>-0.165725</td>\n",
       "      <td>-0.820206</td>\n",
       "      <td>0.0</td>\n",
       "      <td>-0.690715</td>\n",
       "      <td>-0.059028</td>\n",
       "      <td>-1.271394</td>\n",
       "      <td>-0.657735</td>\n",
       "      <td>...</td>\n",
       "      <td>2.593349</td>\n",
       "      <td>0.0</td>\n",
       "      <td>-0.079577</td>\n",
       "      <td>-0.374972</td>\n",
       "      <td>-0.592938</td>\n",
       "      <td>-0.059028</td>\n",
       "      <td>-0.079861</td>\n",
       "      <td>0.0</td>\n",
       "      <td>-0.144843</td>\n",
       "      <td>-1.271033</td>\n",
       "    </tr>\n",
       "    <tr>\n",
       "      <th>G1_cell4_count</th>\n",
       "      <td>-1.867558</td>\n",
       "      <td>-0.059028</td>\n",
       "      <td>0.923695</td>\n",
       "      <td>-0.165725</td>\n",
       "      <td>-0.820206</td>\n",
       "      <td>0.0</td>\n",
       "      <td>0.903266</td>\n",
       "      <td>-0.059028</td>\n",
       "      <td>1.430708</td>\n",
       "      <td>-0.657735</td>\n",
       "      <td>...</td>\n",
       "      <td>-0.146722</td>\n",
       "      <td>0.0</td>\n",
       "      <td>-0.079577</td>\n",
       "      <td>-0.374972</td>\n",
       "      <td>2.938898</td>\n",
       "      <td>-0.059028</td>\n",
       "      <td>-0.079861</td>\n",
       "      <td>0.0</td>\n",
       "      <td>-0.144843</td>\n",
       "      <td>-1.271033</td>\n",
       "    </tr>\n",
       "    <tr>\n",
       "      <th>G1_cell5_count</th>\n",
       "      <td>-1.646290</td>\n",
       "      <td>-0.059028</td>\n",
       "      <td>0.001887</td>\n",
       "      <td>-0.165725</td>\n",
       "      <td>-0.820206</td>\n",
       "      <td>0.0</td>\n",
       "      <td>-0.690715</td>\n",
       "      <td>-0.059028</td>\n",
       "      <td>-0.811233</td>\n",
       "      <td>-0.657735</td>\n",
       "      <td>...</td>\n",
       "      <td>-0.146722</td>\n",
       "      <td>0.0</td>\n",
       "      <td>-0.079577</td>\n",
       "      <td>-0.374972</td>\n",
       "      <td>-0.824399</td>\n",
       "      <td>-0.059028</td>\n",
       "      <td>-0.079861</td>\n",
       "      <td>0.0</td>\n",
       "      <td>-0.144843</td>\n",
       "      <td>-0.111558</td>\n",
       "    </tr>\n",
       "  </tbody>\n",
       "</table>\n",
       "<p>5 rows × 38293 columns</p>\n",
       "</div>"
      ],
      "text/plain": [
       "                   Gnai3      Pbsn     Cdc45       H19     Scml2  Apoh  \\\n",
       "G1_cell1_count -0.411123 -0.059028 -0.099416  5.385822 -0.691219   0.0   \n",
       "G1_cell2_count -0.180800 -0.059028  0.777223 -0.165725 -0.820206   0.0   \n",
       "G1_cell3_count -1.409101 -0.059028 -1.218187 -0.165725 -0.820206   0.0   \n",
       "G1_cell4_count -1.867558 -0.059028  0.923695 -0.165725 -0.820206   0.0   \n",
       "G1_cell5_count -1.646290 -0.059028  0.001887 -0.165725 -0.820206   0.0   \n",
       "\n",
       "                    Narf      Cav2      Klf6     Scmh1      ...        \\\n",
       "G1_cell1_count -0.690715 -0.059028 -1.051909 -0.350978      ...         \n",
       "G1_cell2_count  0.362341 -0.059028  1.458881  0.207421      ...         \n",
       "G1_cell3_count -0.690715 -0.059028 -1.271394 -0.657735      ...         \n",
       "G1_cell4_count  0.903266 -0.059028  1.430708 -0.657735      ...         \n",
       "G1_cell5_count -0.690715 -0.059028 -0.811233 -0.657735      ...         \n",
       "\n",
       "                RP23-345J21.2  AC121960.1  AC136147.1  AC122013.1  AC132389.1  \\\n",
       "G1_cell1_count      -0.146722         0.0   -0.079577   -0.374972   -0.824399   \n",
       "G1_cell2_count      -0.146722         0.0   -0.079577   -0.374972   -0.824399   \n",
       "G1_cell3_count       2.593349         0.0   -0.079577   -0.374972   -0.592938   \n",
       "G1_cell4_count      -0.146722         0.0   -0.079577   -0.374972    2.938898   \n",
       "G1_cell5_count      -0.146722         0.0   -0.079577   -0.374972   -0.824399   \n",
       "\n",
       "                 Gm11392  AC160109.2  AC154675.1  AC156980.1  RP23-429I18.1  \n",
       "G1_cell1_count -0.059028   -0.079861         0.0   -0.144843       0.090295  \n",
       "G1_cell2_count -0.059028   -0.079861         0.0   -0.144843      -1.271033  \n",
       "G1_cell3_count -0.059028   -0.079861         0.0   -0.144843      -1.271033  \n",
       "G1_cell4_count -0.059028   -0.079861         0.0   -0.144843      -1.271033  \n",
       "G1_cell5_count -0.059028   -0.079861         0.0   -0.144843      -0.111558  \n",
       "\n",
       "[5 rows x 38293 columns]"
      ]
     },
     "execution_count": 6,
     "metadata": {},
     "output_type": "execute_result"
    }
   ],
   "source": [
    "sttpm.head()"
   ]
  },
  {
   "cell_type": "code",
   "execution_count": 7,
   "metadata": {},
   "outputs": [
    {
     "data": {
      "text/html": [
       "<div>\n",
       "<style scoped>\n",
       "    .dataframe tbody tr th:only-of-type {\n",
       "        vertical-align: middle;\n",
       "    }\n",
       "\n",
       "    .dataframe tbody tr th {\n",
       "        vertical-align: top;\n",
       "    }\n",
       "\n",
       "    .dataframe thead th {\n",
       "        text-align: right;\n",
       "    }\n",
       "</style>\n",
       "<table border=\"1\" class=\"dataframe\">\n",
       "  <thead>\n",
       "    <tr style=\"text-align: right;\">\n",
       "      <th></th>\n",
       "      <th>stage</th>\n",
       "    </tr>\n",
       "  </thead>\n",
       "  <tbody>\n",
       "    <tr>\n",
       "      <th>G1_cell1_count</th>\n",
       "      <td>g0/g1</td>\n",
       "    </tr>\n",
       "    <tr>\n",
       "      <th>G1_cell2_count</th>\n",
       "      <td>g0/g1</td>\n",
       "    </tr>\n",
       "    <tr>\n",
       "      <th>G1_cell3_count</th>\n",
       "      <td>g0/g1</td>\n",
       "    </tr>\n",
       "    <tr>\n",
       "      <th>G1_cell4_count</th>\n",
       "      <td>g0/g1</td>\n",
       "    </tr>\n",
       "    <tr>\n",
       "      <th>G1_cell5_count</th>\n",
       "      <td>g0/g1</td>\n",
       "    </tr>\n",
       "  </tbody>\n",
       "</table>\n",
       "</div>"
      ],
      "text/plain": [
       "                stage\n",
       "G1_cell1_count  g0/g1\n",
       "G1_cell2_count  g0/g1\n",
       "G1_cell3_count  g0/g1\n",
       "G1_cell4_count  g0/g1\n",
       "G1_cell5_count  g0/g1"
      ]
     },
     "execution_count": 7,
     "metadata": {},
     "output_type": "execute_result"
    }
   ],
   "source": [
    "label.head()"
   ]
  },
  {
   "cell_type": "markdown",
   "metadata": {},
   "source": [
    "# Set up the model and fit the model\n",
    "\n",
    "Fitting the model may take some time. Using a GTX 960M GPU it takes 6 minutes."
   ]
  },
  {
   "cell_type": "code",
   "execution_count": 8,
   "metadata": {},
   "outputs": [],
   "source": [
    "model = cyclum.PreloadCyclum(sttpm.values, 3, 1)"
   ]
  },
  {
   "cell_type": "markdown",
   "metadata": {},
   "source": [
    " "
   ]
  },
  {
   "cell_type": "code",
   "execution_count": null,
   "metadata": {},
   "outputs": [
    {
     "name": "stdout",
     "output_type": "stream",
     "text": [
      "pretrain burnin\n",
      "step  2000: loss [0.1452561, 45035228.0, 141884.6] time 9.83\n",
      "pretrain train\n",
      "step  2000: loss [0.14524707, 45035230.0, 141884.84] time 7.32\n",
      "step  4000: loss [0.14524722, 45035230.0, 141884.84] time 6.24\n",
      "midtrain burnin\n",
      "step  2000: loss [0.14524722, 13479.106, 65288.434] time 31.53\n",
      "midtrain train\n",
      "step  2000: loss [0.14524722, 13475.677, 65288.434] time 31.44\n",
      "step  4000: loss [0.14524722, 13475.676, 65288.434] time 29.15\n",
      "finaltrain train\n",
      "step  2000: loss [0.23462683, 12895.94, 35502.785] time 41.88\n",
      "step  4000: loss [0.25569192, 12895.507, 18958.936] time 38.46\n",
      "step  6000: loss [0.276326, 12895.623, 9609.924] time 38.45\n",
      "finaltrain refine\n"
     ]
    }
   ],
   "source": [
    "pseudotime, rotation = model.fit()"
   ]
  },
  {
   "cell_type": "code",
   "execution_count": null,
   "metadata": {},
   "outputs": [],
   "source": [
    "%aimport cyclum.illustration"
   ]
  },
  {
   "cell_type": "code",
   "execution_count": null,
   "metadata": {},
   "outputs": [],
   "source": [
    "color_map = {'stage': {\"g0/g1\": \"red\", \"s\": \"green\", \"g2/m\": \"blue\"},\n",
    "                 'subcluster': {\"intact\": \"cyan\", \"perturbed\": \"violet\"}}\n",
    "cyclum.illustration.plot_round_distr_color(pseudotime, label['stage'], color_map['stage'])"
   ]
  },
  {
   "cell_type": "code",
   "execution_count": null,
   "metadata": {},
   "outputs": [],
   "source": []
  },
  {
   "cell_type": "code",
   "execution_count": null,
   "metadata": {},
   "outputs": [],
   "source": []
  }
 ],
 "metadata": {
  "kernelspec": {
   "display_name": "Python 3",
   "language": "python",
   "name": "python3"
  },
  "language_info": {
   "codemirror_mode": {
    "name": "ipython",
    "version": 3
   },
   "file_extension": ".py",
   "mimetype": "text/x-python",
   "name": "python",
   "nbconvert_exporter": "python",
   "pygments_lexer": "ipython3",
   "version": "3.6.8"
  }
 },
 "nbformat": 4,
 "nbformat_minor": 1
}
