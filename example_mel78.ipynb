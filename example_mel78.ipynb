{
 "cells": [
  {
   "cell_type": "markdown",
   "metadata": {},
   "source": [
    "# Analyze Melanoma Patient 78\n",
    "\n",
    "Here we perform analysis on the gene expressions of cells from the melanoma patient number 78. \n",
    "For simplicity we have converted the dataset into TPM.\n",
    "The original count data is available at Gene Expression Omnibus: [GSE72056](https://www.ncbi.nlm.nih.gov/geo/query/acc.cgi?acc=GSE72056)."
   ]
  },
  {
   "cell_type": "markdown",
   "metadata": {},
   "source": [
    "## Import necessary packages"
   ]
  },
  {
   "cell_type": "code",
   "execution_count": 1,
   "metadata": {},
   "outputs": [],
   "source": [
    "%load_ext autoreload\n",
    "%autoreload 1"
   ]
  },
  {
   "cell_type": "code",
   "execution_count": 2,
   "metadata": {},
   "outputs": [],
   "source": [
    "import sys\n",
    "\n",
    "import pandas as pd\n",
    "import numpy as np\n",
    "import pickle as pkl\n",
    "import sklearn as skl\n",
    "import sklearn.preprocessing\n",
    "import scipy.stats\n",
    "\n",
    "import matplotlib as mpl\n",
    "\n",
    "import matplotlib.pyplot as plt"
   ]
  },
  {
   "cell_type": "markdown",
   "metadata": {},
   "source": [
    "Warning information from TensorFlow may occur. It doesn't matter."
   ]
  },
  {
   "cell_type": "code",
   "execution_count": 3,
   "metadata": {
    "scrolled": false
   },
   "outputs": [
    {
     "name": "stderr",
     "output_type": "stream",
     "text": [
      "/home/shaoheng/.conda/envs/tensorflow-gpu/lib/python3.6/site-packages/h5py/__init__.py:36: FutureWarning: Conversion of the second argument of issubdtype from `float` to `np.floating` is deprecated. In future, it will be treated as `np.float64 == np.dtype(float).type`.\n",
      "  from ._conv import register_converters as _register_converters\n"
     ]
    }
   ],
   "source": [
    "import tensorflow as tf\n",
    "tf.set_random_seed(1)\n",
    "import cyclum\n",
    "from cyclum import writer"
   ]
  },
  {
   "cell_type": "code",
   "execution_count": 4,
   "metadata": {},
   "outputs": [],
   "source": [
    "input_file_mask = 'data/melanoma/M78_tumor'"
   ]
  },
  {
   "cell_type": "markdown",
   "metadata": {},
   "source": [
    "## Read data\n",
    "We do not have cell-cycle labels for the cells any more."
   ]
  },
  {
   "cell_type": "code",
   "execution_count": 5,
   "metadata": {},
   "outputs": [],
   "source": [
    "def preprocess(input_file_mask):\n",
    "    \"\"\"\n",
    "    Read in data and perform log transform (log2(x+1)), centering (mean = 1) and scaling (sd = 1).\n",
    "    \"\"\"\n",
    "    sttpm = writer.read_df_from_binary(input_file_mask)\n",
    "\n",
    "    label = pd.read_csv(input_file_mask + '-label.csv', sep=\"\\t\", index_col=0)\n",
    "    return sttpm, label\n",
    "\n",
    "sttpm, label = preprocess(input_file_mask)"
   ]
  },
  {
   "cell_type": "markdown",
   "metadata": {},
   "source": [
    "There is no convention whether cells should be columns or rows. Here we require cells to be rows."
   ]
  },
  {
   "cell_type": "code",
   "execution_count": 6,
   "metadata": {},
   "outputs": [
    {
     "data": {
      "text/html": [
       "<div>\n",
       "<style scoped>\n",
       "    .dataframe tbody tr th:only-of-type {\n",
       "        vertical-align: middle;\n",
       "    }\n",
       "\n",
       "    .dataframe tbody tr th {\n",
       "        vertical-align: top;\n",
       "    }\n",
       "\n",
       "    .dataframe thead th {\n",
       "        text-align: right;\n",
       "    }\n",
       "</style>\n",
       "<table border=\"1\" class=\"dataframe\">\n",
       "  <thead>\n",
       "    <tr style=\"text-align: right;\">\n",
       "      <th></th>\n",
       "      <th>C9orf152</th>\n",
       "      <th>RPS11</th>\n",
       "      <th>ELMO2</th>\n",
       "      <th>CREB3L1</th>\n",
       "      <th>PNMA1</th>\n",
       "      <th>MMP2</th>\n",
       "      <th>TMEM216</th>\n",
       "      <th>TRAF3IP2-AS1</th>\n",
       "      <th>LRRC37A5P</th>\n",
       "      <th>LOC653712</th>\n",
       "      <th>...</th>\n",
       "      <th>GPLD1</th>\n",
       "      <th>SNORD115-39</th>\n",
       "      <th>RAB8A</th>\n",
       "      <th>RXFP2</th>\n",
       "      <th>PCIF1</th>\n",
       "      <th>PIK3IP1</th>\n",
       "      <th>SNRPD2</th>\n",
       "      <th>SLC39A6</th>\n",
       "      <th>CTSC</th>\n",
       "      <th>AQP7</th>\n",
       "    </tr>\n",
       "  </thead>\n",
       "  <tbody>\n",
       "    <tr>\n",
       "      <th>cy78-CD45-neg-1-B04-S496-comb</th>\n",
       "      <td>-0.101847</td>\n",
       "      <td>0.007892</td>\n",
       "      <td>0.904987</td>\n",
       "      <td>0.0</td>\n",
       "      <td>0.940964</td>\n",
       "      <td>0.362364</td>\n",
       "      <td>1.468877</td>\n",
       "      <td>-0.794159</td>\n",
       "      <td>0.0</td>\n",
       "      <td>-0.137973</td>\n",
       "      <td>...</td>\n",
       "      <td>-0.443219</td>\n",
       "      <td>0.0</td>\n",
       "      <td>-0.001803</td>\n",
       "      <td>-0.087706</td>\n",
       "      <td>-1.099878</td>\n",
       "      <td>0.124245</td>\n",
       "      <td>0.069167</td>\n",
       "      <td>0.333042</td>\n",
       "      <td>-0.390829</td>\n",
       "      <td>-0.133081</td>\n",
       "    </tr>\n",
       "    <tr>\n",
       "      <th>cy78-CD45-neg-3-H06-S762-comb</th>\n",
       "      <td>-0.101847</td>\n",
       "      <td>-0.202088</td>\n",
       "      <td>0.875485</td>\n",
       "      <td>0.0</td>\n",
       "      <td>1.228029</td>\n",
       "      <td>2.059569</td>\n",
       "      <td>1.475918</td>\n",
       "      <td>-0.433542</td>\n",
       "      <td>0.0</td>\n",
       "      <td>-0.137973</td>\n",
       "      <td>...</td>\n",
       "      <td>0.074614</td>\n",
       "      <td>0.0</td>\n",
       "      <td>0.658312</td>\n",
       "      <td>-0.087706</td>\n",
       "      <td>0.795460</td>\n",
       "      <td>0.865745</td>\n",
       "      <td>0.430293</td>\n",
       "      <td>0.688241</td>\n",
       "      <td>-0.973564</td>\n",
       "      <td>-0.133081</td>\n",
       "    </tr>\n",
       "    <tr>\n",
       "      <th>cy78-CD45-neg-1-D07-S523-comb</th>\n",
       "      <td>-0.101847</td>\n",
       "      <td>0.048798</td>\n",
       "      <td>-0.044918</td>\n",
       "      <td>0.0</td>\n",
       "      <td>0.092909</td>\n",
       "      <td>-0.693664</td>\n",
       "      <td>1.148125</td>\n",
       "      <td>-0.361802</td>\n",
       "      <td>0.0</td>\n",
       "      <td>-0.137973</td>\n",
       "      <td>...</td>\n",
       "      <td>-0.939599</td>\n",
       "      <td>0.0</td>\n",
       "      <td>0.951421</td>\n",
       "      <td>-0.087706</td>\n",
       "      <td>0.263022</td>\n",
       "      <td>-0.508476</td>\n",
       "      <td>0.559235</td>\n",
       "      <td>0.116920</td>\n",
       "      <td>0.332409</td>\n",
       "      <td>-0.133081</td>\n",
       "    </tr>\n",
       "    <tr>\n",
       "      <th>cy78-CD45-neg-3-D01-S709-comb</th>\n",
       "      <td>-0.101847</td>\n",
       "      <td>0.025618</td>\n",
       "      <td>-1.046433</td>\n",
       "      <td>0.0</td>\n",
       "      <td>0.457558</td>\n",
       "      <td>-0.693664</td>\n",
       "      <td>1.070903</td>\n",
       "      <td>-0.206473</td>\n",
       "      <td>0.0</td>\n",
       "      <td>-0.137973</td>\n",
       "      <td>...</td>\n",
       "      <td>-0.432214</td>\n",
       "      <td>0.0</td>\n",
       "      <td>1.198078</td>\n",
       "      <td>-0.087706</td>\n",
       "      <td>1.066057</td>\n",
       "      <td>-0.508476</td>\n",
       "      <td>0.920172</td>\n",
       "      <td>0.153443</td>\n",
       "      <td>-1.072105</td>\n",
       "      <td>-0.133081</td>\n",
       "    </tr>\n",
       "    <tr>\n",
       "      <th>cy78-CD45-neg-2-B08-S596-comb</th>\n",
       "      <td>-0.101847</td>\n",
       "      <td>0.143624</td>\n",
       "      <td>1.412362</td>\n",
       "      <td>0.0</td>\n",
       "      <td>0.253140</td>\n",
       "      <td>-0.693664</td>\n",
       "      <td>-0.583134</td>\n",
       "      <td>-1.203133</td>\n",
       "      <td>0.0</td>\n",
       "      <td>-0.137973</td>\n",
       "      <td>...</td>\n",
       "      <td>1.698251</td>\n",
       "      <td>0.0</td>\n",
       "      <td>0.974617</td>\n",
       "      <td>-0.087706</td>\n",
       "      <td>-0.521885</td>\n",
       "      <td>0.187822</td>\n",
       "      <td>-0.166806</td>\n",
       "      <td>0.687519</td>\n",
       "      <td>-0.361164</td>\n",
       "      <td>-0.133081</td>\n",
       "    </tr>\n",
       "  </tbody>\n",
       "</table>\n",
       "<p>5 rows × 23686 columns</p>\n",
       "</div>"
      ],
      "text/plain": [
       "                               C9orf152     RPS11     ELMO2  CREB3L1  \\\n",
       "cy78-CD45-neg-1-B04-S496-comb -0.101847  0.007892  0.904987      0.0   \n",
       "cy78-CD45-neg-3-H06-S762-comb -0.101847 -0.202088  0.875485      0.0   \n",
       "cy78-CD45-neg-1-D07-S523-comb -0.101847  0.048798 -0.044918      0.0   \n",
       "cy78-CD45-neg-3-D01-S709-comb -0.101847  0.025618 -1.046433      0.0   \n",
       "cy78-CD45-neg-2-B08-S596-comb -0.101847  0.143624  1.412362      0.0   \n",
       "\n",
       "                                  PNMA1      MMP2   TMEM216  TRAF3IP2-AS1  \\\n",
       "cy78-CD45-neg-1-B04-S496-comb  0.940964  0.362364  1.468877     -0.794159   \n",
       "cy78-CD45-neg-3-H06-S762-comb  1.228029  2.059569  1.475918     -0.433542   \n",
       "cy78-CD45-neg-1-D07-S523-comb  0.092909 -0.693664  1.148125     -0.361802   \n",
       "cy78-CD45-neg-3-D01-S709-comb  0.457558 -0.693664  1.070903     -0.206473   \n",
       "cy78-CD45-neg-2-B08-S596-comb  0.253140 -0.693664 -0.583134     -1.203133   \n",
       "\n",
       "                               LRRC37A5P  LOC653712    ...        GPLD1  \\\n",
       "cy78-CD45-neg-1-B04-S496-comb        0.0  -0.137973    ...    -0.443219   \n",
       "cy78-CD45-neg-3-H06-S762-comb        0.0  -0.137973    ...     0.074614   \n",
       "cy78-CD45-neg-1-D07-S523-comb        0.0  -0.137973    ...    -0.939599   \n",
       "cy78-CD45-neg-3-D01-S709-comb        0.0  -0.137973    ...    -0.432214   \n",
       "cy78-CD45-neg-2-B08-S596-comb        0.0  -0.137973    ...     1.698251   \n",
       "\n",
       "                               SNORD115-39     RAB8A     RXFP2     PCIF1  \\\n",
       "cy78-CD45-neg-1-B04-S496-comb          0.0 -0.001803 -0.087706 -1.099878   \n",
       "cy78-CD45-neg-3-H06-S762-comb          0.0  0.658312 -0.087706  0.795460   \n",
       "cy78-CD45-neg-1-D07-S523-comb          0.0  0.951421 -0.087706  0.263022   \n",
       "cy78-CD45-neg-3-D01-S709-comb          0.0  1.198078 -0.087706  1.066057   \n",
       "cy78-CD45-neg-2-B08-S596-comb          0.0  0.974617 -0.087706 -0.521885   \n",
       "\n",
       "                                PIK3IP1    SNRPD2   SLC39A6      CTSC  \\\n",
       "cy78-CD45-neg-1-B04-S496-comb  0.124245  0.069167  0.333042 -0.390829   \n",
       "cy78-CD45-neg-3-H06-S762-comb  0.865745  0.430293  0.688241 -0.973564   \n",
       "cy78-CD45-neg-1-D07-S523-comb -0.508476  0.559235  0.116920  0.332409   \n",
       "cy78-CD45-neg-3-D01-S709-comb -0.508476  0.920172  0.153443 -1.072105   \n",
       "cy78-CD45-neg-2-B08-S596-comb  0.187822 -0.166806  0.687519 -0.361164   \n",
       "\n",
       "                                   AQP7  \n",
       "cy78-CD45-neg-1-B04-S496-comb -0.133081  \n",
       "cy78-CD45-neg-3-H06-S762-comb -0.133081  \n",
       "cy78-CD45-neg-1-D07-S523-comb -0.133081  \n",
       "cy78-CD45-neg-3-D01-S709-comb -0.133081  \n",
       "cy78-CD45-neg-2-B08-S596-comb -0.133081  \n",
       "\n",
       "[5 rows x 23686 columns]"
      ]
     },
     "execution_count": 6,
     "metadata": {},
     "output_type": "execute_result"
    }
   ],
   "source": [
    "sttpm.head()"
   ]
  },
  {
   "cell_type": "code",
   "execution_count": 7,
   "metadata": {},
   "outputs": [
    {
     "data": {
      "text/html": [
       "<div>\n",
       "<style scoped>\n",
       "    .dataframe tbody tr th:only-of-type {\n",
       "        vertical-align: middle;\n",
       "    }\n",
       "\n",
       "    .dataframe tbody tr th {\n",
       "        vertical-align: top;\n",
       "    }\n",
       "\n",
       "    .dataframe thead th {\n",
       "        text-align: right;\n",
       "    }\n",
       "</style>\n",
       "<table border=\"1\" class=\"dataframe\">\n",
       "  <thead>\n",
       "    <tr style=\"text-align: right;\">\n",
       "      <th></th>\n",
       "      <th>tumor</th>\n",
       "      <th>malignant(1=no,2=yes,0=unresolved)</th>\n",
       "      <th>non-malignant cell type (1=T,2=B,3=Macro.4=Endo.,5=CAF;6=NK)</th>\n",
       "    </tr>\n",
       "  </thead>\n",
       "  <tbody>\n",
       "    <tr>\n",
       "      <th>cy78-CD45-neg-1-B04-S496-comb</th>\n",
       "      <td>78</td>\n",
       "      <td>2</td>\n",
       "      <td>0</td>\n",
       "    </tr>\n",
       "    <tr>\n",
       "      <th>cy78-CD45-neg-3-H06-S762-comb</th>\n",
       "      <td>78</td>\n",
       "      <td>2</td>\n",
       "      <td>0</td>\n",
       "    </tr>\n",
       "    <tr>\n",
       "      <th>cy78-CD45-neg-1-D07-S523-comb</th>\n",
       "      <td>78</td>\n",
       "      <td>2</td>\n",
       "      <td>0</td>\n",
       "    </tr>\n",
       "    <tr>\n",
       "      <th>cy78-CD45-neg-3-D01-S709-comb</th>\n",
       "      <td>78</td>\n",
       "      <td>2</td>\n",
       "      <td>0</td>\n",
       "    </tr>\n",
       "    <tr>\n",
       "      <th>cy78-CD45-neg-2-B08-S596-comb</th>\n",
       "      <td>78</td>\n",
       "      <td>2</td>\n",
       "      <td>0</td>\n",
       "    </tr>\n",
       "  </tbody>\n",
       "</table>\n",
       "</div>"
      ],
      "text/plain": [
       "                               tumor  malignant(1=no,2=yes,0=unresolved)  \\\n",
       "cy78-CD45-neg-1-B04-S496-comb     78                                   2   \n",
       "cy78-CD45-neg-3-H06-S762-comb     78                                   2   \n",
       "cy78-CD45-neg-1-D07-S523-comb     78                                   2   \n",
       "cy78-CD45-neg-3-D01-S709-comb     78                                   2   \n",
       "cy78-CD45-neg-2-B08-S596-comb     78                                   2   \n",
       "\n",
       "                               non-malignant cell type (1=T,2=B,3=Macro.4=Endo.,5=CAF;6=NK)  \n",
       "cy78-CD45-neg-1-B04-S496-comb                                                  0             \n",
       "cy78-CD45-neg-3-H06-S762-comb                                                  0             \n",
       "cy78-CD45-neg-1-D07-S523-comb                                                  0             \n",
       "cy78-CD45-neg-3-D01-S709-comb                                                  0             \n",
       "cy78-CD45-neg-2-B08-S596-comb                                                  0             "
      ]
     },
     "execution_count": 7,
     "metadata": {},
     "output_type": "execute_result"
    }
   ],
   "source": [
    "label.head()"
   ]
  },
  {
   "cell_type": "markdown",
   "metadata": {},
   "source": [
    "## Set up the model and fit the model\n",
    "\n",
    "Fitting the model may take some time. Using a GTX 960M GPU it takes 6 minutes."
   ]
  },
  {
   "cell_type": "code",
   "execution_count": 8,
   "metadata": {},
   "outputs": [],
   "source": [
    "model = cyclum.PreloadCyclum(sttpm.values, q_circular=3, q_linear=0)"
   ]
  },
  {
   "cell_type": "markdown",
   "metadata": {},
   "source": [
    " "
   ]
  },
  {
   "cell_type": "code",
   "execution_count": 9,
   "metadata": {},
   "outputs": [
    {
     "name": "stdout",
     "output_type": "stream",
     "text": [
      "pretrain burnin\n",
      "step  2000: loss [0.49333668, 27318.037, 75596.17] time 5.09\n",
      "pretrain train\n",
      "step  2000: loss [0.49329627, 27318.31, 75596.17] time 3.80\n",
      "step  4000: loss [0.49329615, 27318.295, 75596.18] time 3.35\n",
      "midtrain burnin\n",
      "step  2000: loss [0.49329615, 9224.356, 39934.965] time 9.69\n",
      "midtrain train\n",
      "step  2000: loss [0.49329615, 9224.358, 39934.953] time 9.60\n",
      "step  4000: loss [0.49329615, 9224.36, 39934.95] time 8.79\n",
      "finaltrain train\n",
      "step  2000: loss [0.5430872, 9208.43, 22069.293] time 12.77\n",
      "step  4000: loss [0.5481686, 9208.404, 11894.999] time 11.64\n",
      "step  6000: loss [0.55096513, 9208.468, 6089.2246] time 11.65\n",
      "finaltrain refine\n",
      "step  2000: loss [0.5542275, 9208.411, 4898.9956] time 12.75\n",
      "step  4000: loss [0.5545521, 9208.403, 3995.3237] time 11.62\n",
      "step  6000: loss [0.5546467, 9208.404, 3257.5784] time 11.63\n",
      "step  8000: loss [0.5548571, 9208.413, 2659.4236] time 11.62\n",
      "step 10000: loss [0.5553257, 9208.426, 2173.033] time 11.63\n",
      "Full time 135.76\n"
     ]
    }
   ],
   "source": [
    "pseudotime, rotation = model.fit()\n",
    "model.close()"
   ]
  },
  {
   "cell_type": "markdown",
   "metadata": {},
   "source": [
    "## Illustrations\n",
    "We illustrate the results on a circle, to show its circular nature. \n",
    "There is virtually no start and end of the circle.\n",
    "Red, green and blue represents G0/G1, S and G2/M phase respectively.\n",
    "The inner lines represents single cells. The cells spread across the\n",
    "The areas outside"
   ]
  },
  {
   "cell_type": "code",
   "execution_count": 10,
   "metadata": {},
   "outputs": [],
   "source": [
    "%aimport cyclum.illustration"
   ]
  },
  {
   "cell_type": "code",
   "execution_count": 11,
   "metadata": {},
   "outputs": [
    {
     "data": {
      "image/png": "[encoded data removed]",
      "text/plain": [
       "<Figure size 432x288 with 1 Axes>"
      ]
     },
     "metadata": {},
     "output_type": "display_data"
    }
   ],
   "source": [
    "color_map = {'tumor': {78: \"red\"},}\n",
    "cyclum.illustration.plot_round_distr_color(pseudotime, label['tumor'], color_map['tumor'])\n",
    "pass"
   ]
  },
  {
   "cell_type": "code",
   "execution_count": 12,
   "metadata": {},
   "outputs": [],
   "source": [
    "sttpm2 = sttpm - np.concatenate([np.cos(pseudotime + i * 2 * np.pi / 3) for i in range(3)], axis=1) @ rotation"
   ]
  },
  {
   "cell_type": "markdown",
   "metadata": {},
   "source": [
    "## Propose genes\n",
    "We show the top 20 proposed gene here."
   ]
  },
  {
   "cell_type": "code",
   "execution_count": 13,
   "metadata": {
    "scrolled": false
   },
   "outputs": [
    {
     "name": "stdout",
     "output_type": "stream",
     "text": [
      "UGDH-AS1\n",
      "NME1\n",
      "LOC100131257\n",
      "FBLIM1\n",
      "ORC4\n",
      "ATP5G3\n",
      "MAB21L3\n",
      "ABCC9\n",
      "FABP5\n",
      "C1QBP\n",
      "LSM10\n",
      "REXO1L1\n",
      "ATP5G1\n",
      "TOMM5\n",
      "NDUFA8\n",
      "TLCD2\n",
      "S100A11\n",
      "COX6C\n",
      "LOC646214\n"
     ]
    }
   ],
   "source": [
    "weight = np.sqrt((rotation[0, ] - rotation[1, ] / 2 - rotation[2, ] / 2) ** 2 + \n",
    "                 3 * (rotation[1, ] - rotation[2, ]) ** 2 / 4 + 1e-12)\n",
    "order = list(reversed(np.argsort(weight)))\n",
    "for i in order[1:20]:\n",
    "    print(sttpm.columns.tolist()[i])"
   ]
  },
  {
   "cell_type": "markdown",
   "metadata": {},
   "source": [
    "## AXL/MITF program\n",
    "We show that cyclum helps clarify AXL/MITF contrast."
   ]
  },
  {
   "cell_type": "code",
   "execution_count": 14,
   "metadata": {},
   "outputs": [],
   "source": [
    "with open('data/melanoma/AXL_marker_genes.txt') as file:\n",
    "    axl_genes = file.read().splitlines()\n",
    "with open('data/melanoma/MITF_marker_genes.txt') as file:\n",
    "    mitf_genes = file.read().splitlines()"
   ]
  },
  {
   "cell_type": "code",
   "execution_count": 15,
   "metadata": {},
   "outputs": [],
   "source": [
    "sttpm3 = sttpm2[label['malignant(1=no,2=yes,0=unresolved)'] == 2]"
   ]
  },
  {
   "cell_type": "code",
   "execution_count": 20,
   "metadata": {
    "scrolled": false
   },
   "outputs": [
    {
     "data": {
      "text/plain": [
       "array([[ 1.        , -0.23826302],\n",
       "       [-0.23826302,  1.        ]])"
      ]
     },
     "execution_count": 20,
     "metadata": {},
     "output_type": "execute_result"
    },
    {
     "data": {
      "image/png": "[encoded data removed]",
      "text/plain": [
       "<Figure size 432x288 with 1 Axes>"
      ]
     },
     "metadata": {},
     "output_type": "display_data"
    }
   ],
   "source": [
    "axl_score = sttpm3[axl_genes].mean(axis=1) - sttpm3.mean(axis=1)\n",
    "mitf_score = sttpm3[mitf_genes].mean(axis=1) - sttpm3.mean(axis=1)\n",
    "plt.scatter(axl_score, mitf_score)\n",
    "np.corrcoef(axl_score, mitf_score)"
   ]
  },
  {
   "cell_type": "code",
   "execution_count": 19,
   "metadata": {},
   "outputs": [
    {
     "data": {
      "text/plain": [
       "array([[1.        , 0.23976131],\n",
       "       [0.23976131, 1.        ]])"
      ]
     },
     "execution_count": 19,
     "metadata": {},
     "output_type": "execute_result"
    },
    {
     "data": {
      "image/png": "[encoded data removed]",
      "text/plain": [
       "<Figure size 432x288 with 1 Axes>"
      ]
     },
     "metadata": {},
     "output_type": "display_data"
    }
   ],
   "source": [
    "sttpm4 = sttpm[label['malignant(1=no,2=yes,0=unresolved)'] == 2]\n",
    "axl_score = sttpm4[axl_genes].mean(axis=1) - sttpm4.mean(axis=1)\n",
    "mitf_score = sttpm4[mitf_genes].mean(axis=1) - sttpm4.mean(axis=1)\n",
    "plt.scatter(axl_score, mitf_score)\n",
    "np.corrcoef(axl_score, mitf_score)"
   ]
  },
  {
   "cell_type": "code",
   "execution_count": null,
   "metadata": {},
   "outputs": [],
   "source": []
  }
 ],
 "metadata": {
  "kernelspec": {
   "display_name": "Python 3",
   "language": "python",
   "name": "python3"
  },
  "language_info": {
   "codemirror_mode": {
    "name": "ipython",
    "version": 3
   },
   "file_extension": ".py",
   "mimetype": "text/x-python",
   "name": "python",
   "nbconvert_exporter": "python",
   "pygments_lexer": "ipython3",
   "version": "3.6.8"
  }
 },
 "nbformat": 4,
 "nbformat_minor": 1
}
