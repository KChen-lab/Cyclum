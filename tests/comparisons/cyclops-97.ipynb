{
 "cells": [
  {
   "cell_type": "markdown",
   "metadata": {
    "collapsed": true,
    "pycharm": {
     "name": "#%% md\n"
    }
   },
   "source": [
    "# mESC analysis using the object oriented core\n",
    "\n",
    "We use the mESC dataset. For simplicity we have converted the dataset into TPM.\n",
    "The original count data is available at ArrayExpress: \n",
    "[E-MTAB-2805](https://www.ebi.ac.uk/arrayexpress/experiments/E-MTAB-2805/). \n",
    "Tools to transform data are also provided and explained in the following sections."
   ]
  },
  {
   "cell_type": "code",
   "execution_count": 1,
   "outputs": [],
   "source": [
    "%matplotlib inline\n",
    "%load_ext autoreload\n",
    "%autoreload 1"
   ],
   "metadata": {
    "collapsed": false,
    "pycharm": {
     "name": "#%%\n",
     "is_executing": false
    }
   }
  },
  {
   "cell_type": "code",
   "execution_count": 2,
   "outputs": [],
   "source": [
    "import pandas as pd\n",
    "import numpy as np\n",
    "import sklearn as skl"
   ],
   "metadata": {
    "collapsed": false,
    "pycharm": {
     "name": "#%%\n",
     "is_executing": false
    }
   }
  },
  {
   "cell_type": "code",
   "execution_count": 3,
   "outputs": [
    {
     "name": "stderr",
     "text": [
      "Using TensorFlow backend.\n"
     ],
     "output_type": "stream"
    }
   ],
   "source": [
    "from cyclum.models.misc import cyclops\n",
    "from cyclum import writer\n"
   ],
   "metadata": {
    "collapsed": false,
    "pycharm": {
     "name": "#%%\n",
     "is_executing": false
    }
   }
  },
  {
   "cell_type": "markdown",
   "source": [
    "## Read data\n",
    "Here we have label, so we load both. However, the label is not used until evaluation."
   ],
   "metadata": {
    "collapsed": false
   }
  },
  {
   "cell_type": "code",
   "execution_count": 4,
   "outputs": [],
   "source": [
    "input_file_mask = '/home/shaoheng/Documents/data/mESC/mesc-tpm'\n",
    "\n",
    "def preprocess(input_file_mask):\n",
    "    \"\"\"\n",
    "    Read in data and perform log transform (log2(x+1)), centering (mean = 1) and scaling (sd = 1).\n",
    "    \"\"\"\n",
    "    tpm = writer.read_df_from_binary(input_file_mask).T\n",
    "    sttpm = pd.DataFrame(data=skl.preprocessing.scale(np.log2(tpm.values + 1)), index=tpm.index, columns=tpm.columns)\n",
    "    \n",
    "    label = pd.read_csv(input_file_mask + '-label.txt', sep=\"\\t\", index_col=0).T\n",
    "    return sttpm, label\n",
    "\n",
    "sttpm, label = preprocess(input_file_mask)"
   ],
   "metadata": {
    "collapsed": false,
    "pycharm": {
     "name": "#%%\n",
     "is_executing": false
    }
   }
  },
  {
   "cell_type": "code",
   "execution_count": 5,
   "outputs": [
    {
     "data": {
      "text/plain": "(288, 38293)"
     },
     "metadata": {},
     "output_type": "execute_result",
     "execution_count": 5
    }
   ],
   "source": [
    "sttpm.shape"
   ],
   "metadata": {
    "collapsed": false,
    "pycharm": {
     "name": "#%%\n",
     "is_executing": false
    }
   }
  },
  {
   "cell_type": "markdown",
   "source": [
    "There is no convention whether cells should be columns or rows. Here we require cells to be rows."
   ],
   "metadata": {
    "collapsed": false
   }
  },
  {
   "cell_type": "markdown",
   "source": [
    "## Set up the model and fit the model\n"
   ],
   "metadata": {
    "collapsed": false
   }
  },
  {
   "cell_type": "code",
   "execution_count": 6,
   "outputs": [
    {
     "name": "stdout",
     "text": [
      "[0.85776666 0.95548825 0.96553876 0.97004382 0.97152918 0.97273429\n 0.97381168 0.97455719 0.97518402 0.97572126 0.97617094 0.97655431\n 0.9769163  0.97727052 0.97755856 0.97782615 0.97808301 0.97833217\n 0.97857597 0.97880018 0.97901828 0.97923484 0.97943381 0.97962482\n 0.97980796 0.97999032 0.98016522 0.9803381  0.98050743 0.98067421\n 0.98083874 0.98099936 0.98115832 0.98131545 0.98146897 0.9816198\n 0.98177014 0.98191956 0.98206612 0.98221184 0.98235603 0.98249903\n 0.98264019 0.98277946 0.98291714 0.98305255 0.98318741 0.98332126\n 0.98345384 0.98358452 0.98371449 0.98384363 0.98397084 0.98409691\n 0.9842219  0.98434596 0.9844692  0.98459071 0.98471198 0.98483257\n 0.98495194 0.98507033 0.98518842 0.98530525 0.98542144 0.98553679\n 0.98565108 0.98576484 0.98587788 0.98598992 0.98610064 0.98621033\n 0.98631956 0.98642815 0.98653605 0.98664305 0.98674904 0.98685472\n 0.98695986 0.98706453 0.98716853 0.98727198 0.9873747  0.98747661\n 0.98757842 0.98767979 0.98777987 0.98787951 0.98797862 0.98807723\n 0.98817527 0.98827309 0.98836972 0.98846554 0.98856129 0.98865687\n 0.9887519  0.98884645 0.98894083 0.98903438 0.9891276  0.98922041\n 0.98931244 0.98940428 0.98949531 0.9895858  0.98967604 0.98976567\n 0.98985475 0.98994365 0.99003195 0.9901195  0.99020647 0.99029303\n 0.9903795  0.99046542 0.99055088 0.99063564 0.9907199  0.99080412\n 0.9908875  0.99097068 0.99105311 0.99113503 0.99121677 0.99129821\n 0.99137926 0.99146002 0.99154048 0.99162074 0.99170046 0.99177946\n 0.99185783 0.99193586 0.99201348 0.99209104 0.99216827 0.99224534\n 0.99232198 0.9923981  0.99247353 0.9925486  0.99262291 0.99269665\n 0.99277026 0.99284327 0.99291613 0.99298866 0.99306083 0.99313254\n 0.99320399 0.99327511 0.99334609 0.99341627 0.99348625 0.99355598\n 0.9936249  0.99369363 0.99376182 0.99382992 0.99389757 0.99396493\n 0.99403184 0.99409842 0.99416461 0.99423065 0.99429657 0.99436196\n 0.99442704 0.99449178 0.99455636 0.99462063 0.99468438 0.99474785\n 0.99481098 0.99487407 0.9949367  0.99499911 0.99506124 0.99512302\n 0.99518464 0.99524605 0.99530702 0.99536764 0.9954279  0.99548786\n 0.99554753 0.99560681 0.99566583 0.99572465 0.99578321 0.9958415\n 0.99589914 0.99595656 0.99601377 0.99607079 0.99612752 0.99618395\n 0.99624011 0.99629587 0.99635137 0.99640675 0.99646178 0.99651651\n 0.99657098 0.99662522 0.99667919 0.99673302 0.9967866  0.9968399\n 0.996893   0.99694603 0.99699861 0.9970509  0.99710294 0.99715467\n 0.99720604 0.99725716 0.99730792 0.99735847 0.99740877 0.99745886\n 0.99750864 0.99755811 0.99760746 0.9976563  0.99770498 0.99775349\n 0.99780184 0.99784987 0.99789777 0.99794533 0.99799265 0.99803975\n 0.99808629 0.99813249 0.99817854 0.99822442 0.9982699  0.99831534\n 0.9983603  0.99840485 0.99844919 0.99849328 0.99853692 0.99858006\n 0.99862312 0.998666   0.99870843 0.99875045 0.99879221 0.99883392\n 0.99887542 0.99891643 0.9989573  0.99899769 0.99903775 0.99907777\n 0.99911729 0.99915642 0.99919545 0.99923443 0.99927269 0.99931069\n 0.99934824 0.9993857  0.99942269 0.99945946 0.99949589 0.99953229\n 0.99956856 0.99960423 0.99963971 0.99967477 0.99970898 0.99974236\n 0.99977566 0.9998081  0.99983986 0.99987103 0.99989925 0.99992503\n 0.99994845 0.99996907 0.99998848 0.99999546 1.         1.        ]\n"
     ],
     "output_type": "stream"
    }
   ],
   "source": [
    "import numpy\n",
    "import sklearn.decomposition\n",
    "\n",
    "data = cyclops.prep(sttpm.values, variance_kept = 0.97)\n",
    "data=skl.preprocessing.scale(data)"
   ],
   "metadata": {
    "collapsed": false,
    "pycharm": {
     "name": "#%%\n",
     "is_executing": false
    }
   }
  },
  {
   "cell_type": "code",
   "execution_count": 7,
   "outputs": [
    {
     "name": "stdout",
     "text": [
      "WARNING:tensorflow:From /home/shaoheng/miniconda3/envs/tf-gpu/lib/python3.7/site-packages/keras/backend/tensorflow_backend.py:517: The name tf.placeholder is deprecated. Please use tf.compat.v1.placeholder instead.\n\n",
      "WARNING:tensorflow:From /home/shaoheng/miniconda3/envs/tf-gpu/lib/python3.7/site-packages/keras/backend/tensorflow_backend.py:4185: The name tf.truncated_normal is deprecated. Please use tf.random.truncated_normal instead.\n\n",
      "WARNING:tensorflow:From /home/shaoheng/miniconda3/envs/tf-gpu/lib/python3.7/site-packages/keras/backend/tensorflow_backend.py:74: The name tf.get_default_graph is deprecated. Please use tf.compat.v1.get_default_graph instead.\n\n"
     ],
     "output_type": "stream"
    },
    {
     "data": {
      "text/plain": "<IPython.core.display.SVG object>",
      "image/svg+xml": "<svg height=\"636pt\" viewBox=\"0.00 0.00 814.00 636.00\" width=\"814pt\" xmlns=\"http://www.w3.org/2000/svg\" xmlns:xlink=\"http://www.w3.org/1999/xlink\">\n<g class=\"graph\" id=\"graph0\" transform=\"scale(1 1) rotate(0) translate(4 632)\">\n<title>G</title>\n<polygon fill=\"#ffffff\" points=\"-4,4 -4,-632 810,-632 810,4 -4,4\" stroke=\"transparent\"/>\n<!-- 140640092797904 -->\n<g class=\"node\" id=\"node1\">\n<title>140640092797904</title>\n<polygon fill=\"none\" points=\"283.5,-581.5 283.5,-627.5 522.5,-627.5 522.5,-581.5 283.5,-581.5\" stroke=\"#000000\"/>\n<text fill=\"#000000\" font-family=\"Times,serif\" font-size=\"14.00\" text-anchor=\"middle\" x=\"340\" y=\"-600.8\">input: InputLayer</text>\n<polyline fill=\"none\" points=\"396.5,-581.5 396.5,-627.5 \" stroke=\"#000000\"/>\n<text fill=\"#000000\" font-family=\"Times,serif\" font-size=\"14.00\" text-anchor=\"middle\" x=\"424.5\" y=\"-612.3\">input:</text>\n<polyline fill=\"none\" points=\"396.5,-604.5 452.5,-604.5 \" stroke=\"#000000\"/>\n<text fill=\"#000000\" font-family=\"Times,serif\" font-size=\"14.00\" text-anchor=\"middle\" x=\"424.5\" y=\"-589.3\">output:</text>\n<polyline fill=\"none\" points=\"452.5,-581.5 452.5,-627.5 \" stroke=\"#000000\"/>\n<text fill=\"#000000\" font-family=\"Times,serif\" font-size=\"14.00\" text-anchor=\"middle\" x=\"487.5\" y=\"-612.3\">(None, 4)</text>\n<polyline fill=\"none\" points=\"452.5,-604.5 522.5,-604.5 \" stroke=\"#000000\"/>\n<text fill=\"#000000\" font-family=\"Times,serif\" font-size=\"14.00\" text-anchor=\"middle\" x=\"487.5\" y=\"-589.3\">(None, 4)</text>\n</g>\n<!-- 140640092795664 -->\n<g class=\"node\" id=\"node2\">\n<title>140640092795664</title>\n<polygon fill=\"none\" points=\"86,-498.5 86,-544.5 394,-544.5 394,-498.5 86,-498.5\" stroke=\"#000000\"/>\n<text fill=\"#000000\" font-family=\"Times,serif\" font-size=\"14.00\" text-anchor=\"middle\" x=\"177\" y=\"-517.8\">encoder_circular_in_0: Dense</text>\n<polyline fill=\"none\" points=\"268,-498.5 268,-544.5 \" stroke=\"#000000\"/>\n<text fill=\"#000000\" font-family=\"Times,serif\" font-size=\"14.00\" text-anchor=\"middle\" x=\"296\" y=\"-529.3\">input:</text>\n<polyline fill=\"none\" points=\"268,-521.5 324,-521.5 \" stroke=\"#000000\"/>\n<text fill=\"#000000\" font-family=\"Times,serif\" font-size=\"14.00\" text-anchor=\"middle\" x=\"296\" y=\"-506.3\">output:</text>\n<polyline fill=\"none\" points=\"324,-498.5 324,-544.5 \" stroke=\"#000000\"/>\n<text fill=\"#000000\" font-family=\"Times,serif\" font-size=\"14.00\" text-anchor=\"middle\" x=\"359\" y=\"-529.3\">(None, 4)</text>\n<polyline fill=\"none\" points=\"324,-521.5 394,-521.5 \" stroke=\"#000000\"/>\n<text fill=\"#000000\" font-family=\"Times,serif\" font-size=\"14.00\" text-anchor=\"middle\" x=\"359\" y=\"-506.3\">(None, 1)</text>\n</g>\n<!-- 140640092797904&#45;&gt;140640092795664 -->\n<g class=\"edge\" id=\"edge1\">\n<title>140640092797904-&gt;140640092795664</title>\n<path d=\"M357.5954,-581.3799C337.9838,-571.3936 314.8777,-559.6279 294.3617,-549.1811\" fill=\"none\" stroke=\"#000000\"/>\n<polygon fill=\"#000000\" points=\"295.9429,-546.0587 285.4435,-544.6399 292.7666,-552.2966 295.9429,-546.0587\" stroke=\"#000000\"/>\n</g>\n<!-- 140640123523280 -->\n<g class=\"node\" id=\"node3\">\n<title>140640123523280</title>\n<polygon fill=\"none\" points=\"412,-498.5 412,-544.5 720,-544.5 720,-498.5 412,-498.5\" stroke=\"#000000\"/>\n<text fill=\"#000000\" font-family=\"Times,serif\" font-size=\"14.00\" text-anchor=\"middle\" x=\"503\" y=\"-517.8\">encoder_circular_in_1: Dense</text>\n<polyline fill=\"none\" points=\"594,-498.5 594,-544.5 \" stroke=\"#000000\"/>\n<text fill=\"#000000\" font-family=\"Times,serif\" font-size=\"14.00\" text-anchor=\"middle\" x=\"622\" y=\"-529.3\">input:</text>\n<polyline fill=\"none\" points=\"594,-521.5 650,-521.5 \" stroke=\"#000000\"/>\n<text fill=\"#000000\" font-family=\"Times,serif\" font-size=\"14.00\" text-anchor=\"middle\" x=\"622\" y=\"-506.3\">output:</text>\n<polyline fill=\"none\" points=\"650,-498.5 650,-544.5 \" stroke=\"#000000\"/>\n<text fill=\"#000000\" font-family=\"Times,serif\" font-size=\"14.00\" text-anchor=\"middle\" x=\"685\" y=\"-529.3\">(None, 4)</text>\n<polyline fill=\"none\" points=\"650,-521.5 720,-521.5 \" stroke=\"#000000\"/>\n<text fill=\"#000000\" font-family=\"Times,serif\" font-size=\"14.00\" text-anchor=\"middle\" x=\"685\" y=\"-506.3\">(None, 1)</text>\n</g>\n<!-- 140640092797904&#45;&gt;140640123523280 -->\n<g class=\"edge\" id=\"edge2\">\n<title>140640092797904-&gt;140640123523280</title>\n<path d=\"M448.4046,-581.3799C468.0162,-571.3936 491.1223,-559.6279 511.6383,-549.1811\" fill=\"none\" stroke=\"#000000\"/>\n<polygon fill=\"#000000\" points=\"513.2334,-552.2966 520.5565,-544.6399 510.0571,-546.0587 513.2334,-552.2966\" stroke=\"#000000\"/>\n</g>\n<!-- 140640122982992 -->\n<g class=\"node\" id=\"node4\">\n<title>140640122982992</title>\n<polygon fill=\"none\" points=\"156,-415.5 156,-461.5 394,-461.5 394,-415.5 156,-415.5\" stroke=\"#000000\"/>\n<text fill=\"#000000\" font-family=\"Times,serif\" font-size=\"14.00\" text-anchor=\"middle\" x=\"212\" y=\"-434.8\">x00_sqr: Lambda</text>\n<polyline fill=\"none\" points=\"268,-415.5 268,-461.5 \" stroke=\"#000000\"/>\n<text fill=\"#000000\" font-family=\"Times,serif\" font-size=\"14.00\" text-anchor=\"middle\" x=\"296\" y=\"-446.3\">input:</text>\n<polyline fill=\"none\" points=\"268,-438.5 324,-438.5 \" stroke=\"#000000\"/>\n<text fill=\"#000000\" font-family=\"Times,serif\" font-size=\"14.00\" text-anchor=\"middle\" x=\"296\" y=\"-423.3\">output:</text>\n<polyline fill=\"none\" points=\"324,-415.5 324,-461.5 \" stroke=\"#000000\"/>\n<text fill=\"#000000\" font-family=\"Times,serif\" font-size=\"14.00\" text-anchor=\"middle\" x=\"359\" y=\"-446.3\">(None, 1)</text>\n<polyline fill=\"none\" points=\"324,-438.5 394,-438.5 \" stroke=\"#000000\"/>\n<text fill=\"#000000\" font-family=\"Times,serif\" font-size=\"14.00\" text-anchor=\"middle\" x=\"359\" y=\"-423.3\">(None, 1)</text>\n</g>\n<!-- 140640092795664&#45;&gt;140640122982992 -->\n<g class=\"edge\" id=\"edge3\">\n<title>140640092795664-&gt;140640122982992</title>\n<path d=\"M249.7495,-498.3799C253.3224,-489.907 257.4354,-480.1531 261.2907,-471.0107\" fill=\"none\" stroke=\"#000000\"/>\n<polygon fill=\"#000000\" points=\"264.5208,-472.3582 265.1814,-461.784 258.0709,-469.6383 264.5208,-472.3582\" stroke=\"#000000\"/>\n</g>\n<!-- 140640084080912 -->\n<g class=\"node\" id=\"node8\">\n<title>140640084080912</title>\n<polygon fill=\"none\" points=\"0,-166.5 0,-212.5 394,-212.5 394,-166.5 0,-166.5\" stroke=\"#000000\"/>\n<text fill=\"#000000\" font-family=\"Times,serif\" font-size=\"14.00\" text-anchor=\"middle\" x=\"100\" y=\"-185.8\">encoder_circular_out_0: Lambda</text>\n<polyline fill=\"none\" points=\"200,-166.5 200,-212.5 \" stroke=\"#000000\"/>\n<text fill=\"#000000\" font-family=\"Times,serif\" font-size=\"14.00\" text-anchor=\"middle\" x=\"228\" y=\"-197.3\">input:</text>\n<polyline fill=\"none\" points=\"200,-189.5 256,-189.5 \" stroke=\"#000000\"/>\n<text fill=\"#000000\" font-family=\"Times,serif\" font-size=\"14.00\" text-anchor=\"middle\" x=\"228\" y=\"-174.3\">output:</text>\n<polyline fill=\"none\" points=\"256,-166.5 256,-212.5 \" stroke=\"#000000\"/>\n<text fill=\"#000000\" font-family=\"Times,serif\" font-size=\"14.00\" text-anchor=\"middle\" x=\"325\" y=\"-197.3\">[(None, 1), (None, 1)]</text>\n<polyline fill=\"none\" points=\"256,-189.5 394,-189.5 \" stroke=\"#000000\"/>\n<text fill=\"#000000\" font-family=\"Times,serif\" font-size=\"14.00\" text-anchor=\"middle\" x=\"325\" y=\"-174.3\">(None, 1)</text>\n</g>\n<!-- 140640092795664&#45;&gt;140640084080912 -->\n<g class=\"edge\" id=\"edge8\">\n<title>140640092795664-&gt;140640084080912</title>\n<path d=\"M184.3367,-498.2781C169.547,-489.2414 155.3749,-477.3003 147,-462 103.9722,-383.391 150.0582,-274.8671 178.337,-221.6087\" fill=\"none\" stroke=\"#000000\"/>\n<polygon fill=\"#000000\" points=\"181.5158,-223.0894 183.215,-212.6318 175.3651,-219.7473 181.5158,-223.0894\" stroke=\"#000000\"/>\n</g>\n<!-- 140642060887376 -->\n<g class=\"node\" id=\"node5\">\n<title>140642060887376</title>\n<polygon fill=\"none\" points=\"412,-415.5 412,-461.5 650,-461.5 650,-415.5 412,-415.5\" stroke=\"#000000\"/>\n<text fill=\"#000000\" font-family=\"Times,serif\" font-size=\"14.00\" text-anchor=\"middle\" x=\"468\" y=\"-434.8\">x01_sqr: Lambda</text>\n<polyline fill=\"none\" points=\"524,-415.5 524,-461.5 \" stroke=\"#000000\"/>\n<text fill=\"#000000\" font-family=\"Times,serif\" font-size=\"14.00\" text-anchor=\"middle\" x=\"552\" y=\"-446.3\">input:</text>\n<polyline fill=\"none\" points=\"524,-438.5 580,-438.5 \" stroke=\"#000000\"/>\n<text fill=\"#000000\" font-family=\"Times,serif\" font-size=\"14.00\" text-anchor=\"middle\" x=\"552\" y=\"-423.3\">output:</text>\n<polyline fill=\"none\" points=\"580,-415.5 580,-461.5 \" stroke=\"#000000\"/>\n<text fill=\"#000000\" font-family=\"Times,serif\" font-size=\"14.00\" text-anchor=\"middle\" x=\"615\" y=\"-446.3\">(None, 1)</text>\n<polyline fill=\"none\" points=\"580,-438.5 650,-438.5 \" stroke=\"#000000\"/>\n<text fill=\"#000000\" font-family=\"Times,serif\" font-size=\"14.00\" text-anchor=\"middle\" x=\"615\" y=\"-423.3\">(None, 1)</text>\n</g>\n<!-- 140640123523280&#45;&gt;140642060887376 -->\n<g class=\"edge\" id=\"edge4\">\n<title>140640123523280-&gt;140642060887376</title>\n<path d=\"M556.2505,-498.3799C552.6776,-489.907 548.5646,-480.1531 544.7093,-471.0107\" fill=\"none\" stroke=\"#000000\"/>\n<polygon fill=\"#000000\" points=\"547.9291,-469.6383 540.8186,-461.784 541.4792,-472.3582 547.9291,-469.6383\" stroke=\"#000000\"/>\n</g>\n<!-- 140640084079312 -->\n<g class=\"node\" id=\"node9\">\n<title>140640084079312</title>\n<polygon fill=\"none\" points=\"412,-166.5 412,-212.5 806,-212.5 806,-166.5 412,-166.5\" stroke=\"#000000\"/>\n<text fill=\"#000000\" font-family=\"Times,serif\" font-size=\"14.00\" text-anchor=\"middle\" x=\"512\" y=\"-185.8\">encoder_circular_out_1: Lambda</text>\n<polyline fill=\"none\" points=\"612,-166.5 612,-212.5 \" stroke=\"#000000\"/>\n<text fill=\"#000000\" font-family=\"Times,serif\" font-size=\"14.00\" text-anchor=\"middle\" x=\"640\" y=\"-197.3\">input:</text>\n<polyline fill=\"none\" points=\"612,-189.5 668,-189.5 \" stroke=\"#000000\"/>\n<text fill=\"#000000\" font-family=\"Times,serif\" font-size=\"14.00\" text-anchor=\"middle\" x=\"640\" y=\"-174.3\">output:</text>\n<polyline fill=\"none\" points=\"668,-166.5 668,-212.5 \" stroke=\"#000000\"/>\n<text fill=\"#000000\" font-family=\"Times,serif\" font-size=\"14.00\" text-anchor=\"middle\" x=\"737\" y=\"-197.3\">[(None, 1), (None, 1)]</text>\n<polyline fill=\"none\" points=\"668,-189.5 806,-189.5 \" stroke=\"#000000\"/>\n<text fill=\"#000000\" font-family=\"Times,serif\" font-size=\"14.00\" text-anchor=\"middle\" x=\"737\" y=\"-174.3\">(None, 1)</text>\n</g>\n<!-- 140640123523280&#45;&gt;140640084079312 -->\n<g class=\"edge\" id=\"edge10\">\n<title>140640123523280-&gt;140640084079312</title>\n<path d=\"M621.6633,-498.2781C636.453,-489.2414 650.6251,-477.3003 659,-462 702.0278,-383.391 655.9418,-274.8671 627.663,-221.6087\" fill=\"none\" stroke=\"#000000\"/>\n<polygon fill=\"#000000\" points=\"630.6349,-219.7473 622.785,-212.6318 624.4842,-223.0894 630.6349,-219.7473\" stroke=\"#000000\"/>\n</g>\n<!-- 140640084080528 -->\n<g class=\"node\" id=\"node6\">\n<title>140640084080528</title>\n<polygon fill=\"none\" points=\"261.5,-332.5 261.5,-378.5 544.5,-378.5 544.5,-332.5 261.5,-332.5\" stroke=\"#000000\"/>\n<text fill=\"#000000\" font-family=\"Times,serif\" font-size=\"14.00\" text-anchor=\"middle\" x=\"306\" y=\"-351.8\">sqr_len: Add</text>\n<polyline fill=\"none\" points=\"350.5,-332.5 350.5,-378.5 \" stroke=\"#000000\"/>\n<text fill=\"#000000\" font-family=\"Times,serif\" font-size=\"14.00\" text-anchor=\"middle\" x=\"378.5\" y=\"-363.3\">input:</text>\n<polyline fill=\"none\" points=\"350.5,-355.5 406.5,-355.5 \" stroke=\"#000000\"/>\n<text fill=\"#000000\" font-family=\"Times,serif\" font-size=\"14.00\" text-anchor=\"middle\" x=\"378.5\" y=\"-340.3\">output:</text>\n<polyline fill=\"none\" points=\"406.5,-332.5 406.5,-378.5 \" stroke=\"#000000\"/>\n<text fill=\"#000000\" font-family=\"Times,serif\" font-size=\"14.00\" text-anchor=\"middle\" x=\"475.5\" y=\"-363.3\">[(None, 1), (None, 1)]</text>\n<polyline fill=\"none\" points=\"406.5,-355.5 544.5,-355.5 \" stroke=\"#000000\"/>\n<text fill=\"#000000\" font-family=\"Times,serif\" font-size=\"14.00\" text-anchor=\"middle\" x=\"475.5\" y=\"-340.3\">(None, 1)</text>\n</g>\n<!-- 140640122982992&#45;&gt;140640084080528 -->\n<g class=\"edge\" id=\"edge5\">\n<title>140640122982992-&gt;140640084080528</title>\n<path d=\"M310.6551,-415.3799C325.5098,-405.7475 342.9176,-394.4597 358.5906,-384.2967\" fill=\"none\" stroke=\"#000000\"/>\n<polygon fill=\"#000000\" points=\"360.6059,-387.1614 367.0921,-378.784 356.7975,-381.2881 360.6059,-387.1614\" stroke=\"#000000\"/>\n</g>\n<!-- 140642060887376&#45;&gt;140640084080528 -->\n<g class=\"edge\" id=\"edge6\">\n<title>140642060887376-&gt;140640084080528</title>\n<path d=\"M495.3449,-415.3799C480.4902,-405.7475 463.0824,-394.4597 447.4094,-384.2967\" fill=\"none\" stroke=\"#000000\"/>\n<polygon fill=\"#000000\" points=\"449.2025,-381.2881 438.9079,-378.784 445.3941,-387.1614 449.2025,-381.2881\" stroke=\"#000000\"/>\n</g>\n<!-- 140640084082640 -->\n<g class=\"node\" id=\"node7\">\n<title>140640084082640</title>\n<polygon fill=\"none\" points=\"297.5,-249.5 297.5,-295.5 508.5,-295.5 508.5,-249.5 297.5,-249.5\" stroke=\"#000000\"/>\n<text fill=\"#000000\" font-family=\"Times,serif\" font-size=\"14.00\" text-anchor=\"middle\" x=\"340\" y=\"-268.8\">len: Lambda</text>\n<polyline fill=\"none\" points=\"382.5,-249.5 382.5,-295.5 \" stroke=\"#000000\"/>\n<text fill=\"#000000\" font-family=\"Times,serif\" font-size=\"14.00\" text-anchor=\"middle\" x=\"410.5\" y=\"-280.3\">input:</text>\n<polyline fill=\"none\" points=\"382.5,-272.5 438.5,-272.5 \" stroke=\"#000000\"/>\n<text fill=\"#000000\" font-family=\"Times,serif\" font-size=\"14.00\" text-anchor=\"middle\" x=\"410.5\" y=\"-257.3\">output:</text>\n<polyline fill=\"none\" points=\"438.5,-249.5 438.5,-295.5 \" stroke=\"#000000\"/>\n<text fill=\"#000000\" font-family=\"Times,serif\" font-size=\"14.00\" text-anchor=\"middle\" x=\"473.5\" y=\"-280.3\">(None, 1)</text>\n<polyline fill=\"none\" points=\"438.5,-272.5 508.5,-272.5 \" stroke=\"#000000\"/>\n<text fill=\"#000000\" font-family=\"Times,serif\" font-size=\"14.00\" text-anchor=\"middle\" x=\"473.5\" y=\"-257.3\">(None, 1)</text>\n</g>\n<!-- 140640084080528&#45;&gt;140640084082640 -->\n<g class=\"edge\" id=\"edge7\">\n<title>140640084080528-&gt;140640084082640</title>\n<path d=\"M403,-332.3799C403,-324.1745 403,-314.7679 403,-305.8786\" fill=\"none\" stroke=\"#000000\"/>\n<polygon fill=\"#000000\" points=\"406.5001,-305.784 403,-295.784 399.5001,-305.784 406.5001,-305.784\" stroke=\"#000000\"/>\n</g>\n<!-- 140640084082640&#45;&gt;140640084080912 -->\n<g class=\"edge\" id=\"edge9\">\n<title>140640084082640-&gt;140640084080912</title>\n<path d=\"M345.8911,-249.4901C320.4395,-239.2353 290.2888,-227.0872 263.7985,-216.414\" fill=\"none\" stroke=\"#000000\"/>\n<polygon fill=\"#000000\" points=\"264.8035,-213.0455 254.22,-212.5547 262.1874,-219.5383 264.8035,-213.0455\" stroke=\"#000000\"/>\n</g>\n<!-- 140640084082640&#45;&gt;140640084079312 -->\n<g class=\"edge\" id=\"edge11\">\n<title>140640084082640-&gt;140640084079312</title>\n<path d=\"M460.1089,-249.4901C485.5605,-239.2353 515.7112,-227.0872 542.2015,-216.414\" fill=\"none\" stroke=\"#000000\"/>\n<polygon fill=\"#000000\" points=\"543.8126,-219.5383 551.78,-212.5547 541.1965,-213.0455 543.8126,-219.5383\" stroke=\"#000000\"/>\n</g>\n<!-- 140640083819856 -->\n<g class=\"node\" id=\"node10\">\n<title>140640083819856</title>\n<polygon fill=\"none\" points=\"229.5,-83.5 229.5,-129.5 576.5,-129.5 576.5,-83.5 229.5,-83.5\" stroke=\"#000000\"/>\n<text fill=\"#000000\" font-family=\"Times,serif\" font-size=\"14.00\" text-anchor=\"middle\" x=\"306\" y=\"-102.8\">embedding: Concatenate</text>\n<polyline fill=\"none\" points=\"382.5,-83.5 382.5,-129.5 \" stroke=\"#000000\"/>\n<text fill=\"#000000\" font-family=\"Times,serif\" font-size=\"14.00\" text-anchor=\"middle\" x=\"410.5\" y=\"-114.3\">input:</text>\n<polyline fill=\"none\" points=\"382.5,-106.5 438.5,-106.5 \" stroke=\"#000000\"/>\n<text fill=\"#000000\" font-family=\"Times,serif\" font-size=\"14.00\" text-anchor=\"middle\" x=\"410.5\" y=\"-91.3\">output:</text>\n<polyline fill=\"none\" points=\"438.5,-83.5 438.5,-129.5 \" stroke=\"#000000\"/>\n<text fill=\"#000000\" font-family=\"Times,serif\" font-size=\"14.00\" text-anchor=\"middle\" x=\"507.5\" y=\"-114.3\">[(None, 1), (None, 1)]</text>\n<polyline fill=\"none\" points=\"438.5,-106.5 576.5,-106.5 \" stroke=\"#000000\"/>\n<text fill=\"#000000\" font-family=\"Times,serif\" font-size=\"14.00\" text-anchor=\"middle\" x=\"507.5\" y=\"-91.3\">(None, 2)</text>\n</g>\n<!-- 140640084080912&#45;&gt;140640083819856 -->\n<g class=\"edge\" id=\"edge12\">\n<title>140640084080912-&gt;140640083819856</title>\n<path d=\"M254.1089,-166.4901C279.5605,-156.2353 309.7112,-144.0872 336.2015,-133.414\" fill=\"none\" stroke=\"#000000\"/>\n<polygon fill=\"#000000\" points=\"337.8126,-136.5383 345.78,-129.5547 335.1965,-130.0455 337.8126,-136.5383\" stroke=\"#000000\"/>\n</g>\n<!-- 140640084079312&#45;&gt;140640083819856 -->\n<g class=\"edge\" id=\"edge13\">\n<title>140640084079312-&gt;140640083819856</title>\n<path d=\"M551.8911,-166.4901C526.4395,-156.2353 496.2888,-144.0872 469.7985,-133.414\" fill=\"none\" stroke=\"#000000\"/>\n<polygon fill=\"#000000\" points=\"470.8035,-130.0455 460.22,-129.5547 468.1874,-136.5383 470.8035,-130.0455\" stroke=\"#000000\"/>\n</g>\n<!-- 140640084045456 -->\n<g class=\"node\" id=\"node11\">\n<title>140640084045456</title>\n<polygon fill=\"none\" points=\"293.5,-.5 293.5,-46.5 512.5,-46.5 512.5,-.5 293.5,-.5\" stroke=\"#000000\"/>\n<text fill=\"#000000\" font-family=\"Times,serif\" font-size=\"14.00\" text-anchor=\"middle\" x=\"340\" y=\"-19.8\">output: Dense</text>\n<polyline fill=\"none\" points=\"386.5,-.5 386.5,-46.5 \" stroke=\"#000000\"/>\n<text fill=\"#000000\" font-family=\"Times,serif\" font-size=\"14.00\" text-anchor=\"middle\" x=\"414.5\" y=\"-31.3\">input:</text>\n<polyline fill=\"none\" points=\"386.5,-23.5 442.5,-23.5 \" stroke=\"#000000\"/>\n<text fill=\"#000000\" font-family=\"Times,serif\" font-size=\"14.00\" text-anchor=\"middle\" x=\"414.5\" y=\"-8.3\">output:</text>\n<polyline fill=\"none\" points=\"442.5,-.5 442.5,-46.5 \" stroke=\"#000000\"/>\n<text fill=\"#000000\" font-family=\"Times,serif\" font-size=\"14.00\" text-anchor=\"middle\" x=\"477.5\" y=\"-31.3\">(None, 2)</text>\n<polyline fill=\"none\" points=\"442.5,-23.5 512.5,-23.5 \" stroke=\"#000000\"/>\n<text fill=\"#000000\" font-family=\"Times,serif\" font-size=\"14.00\" text-anchor=\"middle\" x=\"477.5\" y=\"-8.3\">(None, 4)</text>\n</g>\n<!-- 140640083819856&#45;&gt;140640084045456 -->\n<g class=\"edge\" id=\"edge14\">\n<title>140640083819856-&gt;140640084045456</title>\n<path d=\"M403,-83.3799C403,-75.1745 403,-65.7679 403,-56.8786\" fill=\"none\" stroke=\"#000000\"/>\n<polygon fill=\"#000000\" points=\"406.5001,-56.784 403,-46.784 399.5001,-56.784 406.5001,-56.784\" stroke=\"#000000\"/>\n</g>\n</g>\n</svg>"
     },
     "metadata": {},
     "output_type": "display_data"
    }
   ],
   "source": [
    "model = cyclops(data.shape[1])\n",
    "display(model.show_structure())"
   ],
   "metadata": {
    "collapsed": false,
    "pycharm": {
     "name": "#%%\n",
     "is_executing": false
    }
   }
  },
  {
   "cell_type": "code",
   "execution_count": 8,
   "outputs": [
    {
     "name": "stdout",
     "text": [
      "WARNING:tensorflow:From /home/shaoheng/miniconda3/envs/tf-gpu/lib/python3.7/site-packages/keras/optimizers.py:790: The name tf.train.Optimizer is deprecated. Please use tf.compat.v1.train.Optimizer instead.\n\n",
      "WARNING:tensorflow:From /home/shaoheng/miniconda3/envs/tf-gpu/lib/python3.7/site-packages/tensorflow/python/ops/math_grad.py:1250: add_dispatch_support.<locals>.wrapper (from tensorflow.python.ops.array_ops) is deprecated and will be removed in a future version.\nInstructions for updating:\nUse tf.where in 2.0, which has the same broadcast rule as np.where\n",
      "WARNING:tensorflow:From /home/shaoheng/miniconda3/envs/tf-gpu/lib/python3.7/site-packages/keras/backend/tensorflow_backend.py:986: The name tf.assign_add is deprecated. Please use tf.compat.v1.assign_add instead.\n\n",
      "WARNING:tensorflow:From /home/shaoheng/miniconda3/envs/tf-gpu/lib/python3.7/site-packages/keras/backend/tensorflow_backend.py:973: The name tf.assign is deprecated. Please use tf.compat.v1.assign instead.\n\n",
      "epoch: 100/2000, loss:  0.6557, time elapsed:  4.04s, time left:  76.85s\n",
      "epoch: 200/2000, loss:  0.6272, time elapsed:  6.74s, time left:  60.70s\n",
      "epoch: 300/2000, loss:  0.5982, time elapsed:  9.44s, time left:  53.50s\n",
      "epoch: 400/2000, loss:  0.5730, time elapsed:  12.09s, time left:  48.35s\n",
      "epoch: 500/2000, loss:  0.5565, time elapsed:  14.76s, time left:  44.28s\n",
      "epoch: 600/2000, loss:  0.5425, time elapsed:  17.42s, time left:  40.66s\n",
      "epoch: 700/2000, loss:  0.5327, time elapsed:  20.12s, time left:  37.36s\n",
      "epoch: 800/2000, loss:  0.5266, time elapsed:  22.75s, time left:  34.13s\n",
      "epoch: 900/2000, loss:  0.5233, time elapsed:  25.45s, time left:  31.11s\n",
      "epoch: 1000/2000, loss:  0.5215, time elapsed:  28.17s, time left:  28.17s\n",
      "epoch: 1100/2000, loss:  0.5208, time elapsed:  30.80s, time left:  25.20s\n",
      "epoch: 1200/2000, loss:  0.5204, time elapsed:  33.50s, time left:  22.34s\n",
      "epoch: 1300/2000, loss:  0.5201, time elapsed:  36.11s, time left:  19.44s\n",
      "epoch: 1400/2000, loss:  0.5199, time elapsed:  38.73s, time left:  16.60s\n",
      "epoch: 1500/2000, loss:  0.5198, time elapsed:  41.40s, time left:  13.80s\n",
      "epoch: 1600/2000, loss:  0.5196, time elapsed:  44.07s, time left:  11.02s\n",
      "epoch: 1700/2000, loss:  0.5196, time elapsed:  46.77s, time left:  8.25s\n",
      "epoch: 1800/2000, loss:  0.5194, time elapsed:  49.42s, time left:  5.49s\n",
      "epoch: 1900/2000, loss:  0.5193, time elapsed:  52.05s, time left:  2.74s\n",
      "epoch: 2000/2000, loss:  0.5192, time elapsed:  54.66s, time left:  0.00s\n"
     ],
     "output_type": "stream"
    },
    {
     "data": {
      "text/plain": "<keras.callbacks.History at 0x7fe9c8134850>"
     },
     "metadata": {},
     "output_type": "execute_result",
     "execution_count": 8
    }
   ],
   "source": [
    "model.train(data, epochs=2000, verbose=100, rate=2e-3)"
   ],
   "metadata": {
    "collapsed": false,
    "pycharm": {
     "name": "#%%\n",
     "is_executing": false
    }
   }
  },
  {
   "cell_type": "code",
   "execution_count": 9,
   "outputs": [],
   "source": [
    "pseudotime = model.predict_pseudotime(data)\n"
   ],
   "metadata": {
    "collapsed": false,
    "pycharm": {
     "name": "#%%\n",
     "is_executing": false
    }
   }
  },
  {
   "cell_type": "markdown",
   "source": [
    "## Illustrations\n",
    "We illustrate the results on a circle, to show its circular nature. \n",
    "There is virtually no start and end of the circle.\n",
    "Red, green and blue represents G0/G1, S and G2/M phase respectively.\n",
    "The inner lines represents single cells. The cells spread across the\n",
    "The areas outside"
   ],
   "metadata": {
    "collapsed": false
   }
  },
  {
   "cell_type": "code",
   "execution_count": 10,
   "outputs": [],
   "source": [
    "import cyclum.illustration"
   ],
   "metadata": {
    "collapsed": false,
    "pycharm": {
     "name": "#%%\n",
     "is_executing": false
    }
   }
  },
  {
   "cell_type": "code",
   "execution_count": 11,
   "outputs": [
    {
     "data": {
      "text/plain": "<Figure size 432x288 with 1 Axes>",
      "image/png": "[encoded data removed]"
     },
     "metadata": {
      "needs_background": "light"
     },
     "output_type": "display_data"
    }
   ],
   "source": [
    "color_map = {'stage': {\"g0/g1\": \"red\", \"s\": \"green\", \"g2/m\": \"blue\"},\n",
    "                 'subcluster': {\"intact\": \"cyan\", \"perturbed\": \"violet\"}}\n",
    "cyclum.illustration.plot_round_distr_color(pseudotime, label['stage'], color_map['stage'])\n",
    "pass"
   ],
   "metadata": {
    "collapsed": false,
    "pycharm": {
     "name": "#%%\n",
     "is_executing": false
    }
   }
  }
 ],
 "metadata": {
  "kernelspec": {
   "name": "optirun_python3",
   "language": "python",
   "display_name": "Python 3 [GPU]"
  },
  "language_info": {
   "codemirror_mode": {
    "name": "ipython",
    "version": 2
   },
   "file_extension": ".py",
   "mimetype": "text/x-python",
   "name": "python",
   "nbconvert_exporter": "python",
   "pygments_lexer": "ipython2",
   "version": "2.7.6"
  },
  "pycharm": {
   "stem_cell": {
    "cell_type": "raw",
    "source": [],
    "metadata": {
     "collapsed": false
    }
   }
  }
 },
 "nbformat": 4,
 "nbformat_minor": 0
}