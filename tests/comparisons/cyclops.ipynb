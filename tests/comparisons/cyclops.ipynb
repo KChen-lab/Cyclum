{
 "cells": [
  {
   "cell_type": "markdown",
   "metadata": {
    "collapsed": true,
    "pycharm": {
     "name": "#%% md\n"
    }
   },
   "source": [
    "# mESC analysis using the object oriented core\n",
    "\n",
    "We use the mESC dataset. For simplicity we have converted the dataset into TPM.\n",
    "The original count data is available at ArrayExpress: \n",
    "[E-MTAB-2805](https://www.ebi.ac.uk/arrayexpress/experiments/E-MTAB-2805/). \n",
    "Tools to transform data are also provided and explained in the following sections."
   ]
  },
  {
   "cell_type": "code",
   "execution_count": 7,
   "outputs": [
    {
     "name": "stdout",
     "text": [
      "The autoreload extension is already loaded. To reload it, use:\n  %reload_ext autoreload\n"
     ],
     "output_type": "stream"
    }
   ],
   "source": [
    "%matplotlib inline\n",
    "%load_ext autoreload\n",
    "%autoreload 1"
   ],
   "metadata": {
    "collapsed": false,
    "pycharm": {
     "name": "#%%\n",
     "is_executing": false
    }
   }
  },
  {
   "cell_type": "code",
   "execution_count": 8,
   "outputs": [],
   "source": [
    "import pandas as pd\n",
    "import numpy as np\n",
    "import sklearn as skl"
   ],
   "metadata": {
    "collapsed": false,
    "pycharm": {
     "name": "#%%\n",
     "is_executing": false
    }
   }
  },
  {
   "cell_type": "code",
   "execution_count": 9,
   "outputs": [],
   "source": [
    "from cyclum.models.misc import cyclops\n",
    "from cyclum import writer\n"
   ],
   "metadata": {
    "collapsed": false,
    "pycharm": {
     "name": "#%%\n",
     "is_executing": false
    }
   }
  },
  {
   "cell_type": "markdown",
   "source": [
    "## Read data\n",
    "Here we have label, so we load both. However, the label is not used until evaluation."
   ],
   "metadata": {
    "collapsed": false
   }
  },
  {
   "cell_type": "code",
   "execution_count": 10,
   "outputs": [],
   "source": [
    "input_file_mask = '/home/shaoheng/Documents/data/mESC/mesc-tpm'\n",
    "\n",
    "def preprocess(input_file_mask):\n",
    "    \"\"\"\n",
    "    Read in data and perform log transform (log2(x+1)), centering (mean = 1) and scaling (sd = 1).\n",
    "    \"\"\"\n",
    "    tpm = writer.read_df_from_binary(input_file_mask).T\n",
    "    sttpm = pd.DataFrame(data=skl.preprocessing.scale(np.log2(tpm.values + 1)), index=tpm.index, columns=tpm.columns)\n",
    "    \n",
    "    label = pd.read_csv(input_file_mask + '-label.txt', sep=\"\\t\", index_col=0).T\n",
    "    return sttpm, label\n",
    "\n",
    "sttpm, label = preprocess(input_file_mask)"
   ],
   "metadata": {
    "collapsed": false,
    "pycharm": {
     "name": "#%%\n",
     "is_executing": false
    }
   }
  },
  {
   "cell_type": "code",
   "execution_count": 11,
   "outputs": [
    {
     "data": {
      "text/plain": "(288, 38293)"
     },
     "metadata": {},
     "output_type": "execute_result",
     "execution_count": 11
    }
   ],
   "source": [
    "sttpm.shape"
   ],
   "metadata": {
    "collapsed": false,
    "pycharm": {
     "name": "#%%\n",
     "is_executing": false
    }
   }
  },
  {
   "cell_type": "markdown",
   "source": [
    "There is no convention whether cells should be columns or rows. Here we require cells to be rows."
   ],
   "metadata": {
    "collapsed": false
   }
  },
  {
   "cell_type": "markdown",
   "source": [
    "## Set up the model and fit the model\n"
   ],
   "metadata": {
    "collapsed": false
   }
  },
  {
   "cell_type": "code",
   "execution_count": 12,
   "outputs": [
    {
     "name": "stdout",
     "text": [
      "[0.85776666 0.95548825 0.96553876 0.97004382 0.97152918 0.97273429\n 0.97381168 0.97455719 0.97518402 0.97572126 0.97617094 0.97655431\n 0.9769163  0.97727052 0.97755856 0.97782615 0.97808301 0.97833217\n 0.97857597 0.97880018 0.97901828 0.97923484 0.97943381 0.97962482\n 0.97980796 0.97999032 0.98016522 0.9803381  0.98050743 0.98067421\n 0.98083874 0.98099936 0.98115832 0.98131545 0.98146897 0.9816198\n 0.98177014 0.98191956 0.98206612 0.98221184 0.98235603 0.98249903\n 0.98264019 0.98277946 0.98291714 0.98305255 0.98318741 0.98332126\n 0.98345384 0.98358452 0.98371449 0.98384363 0.98397084 0.98409691\n 0.9842219  0.98434596 0.9844692  0.98459071 0.98471198 0.98483257\n 0.98495194 0.98507033 0.98518842 0.98530525 0.98542144 0.98553679\n 0.98565108 0.98576484 0.98587788 0.98598992 0.98610064 0.98621033\n 0.98631956 0.98642815 0.98653605 0.98664305 0.98674904 0.98685472\n 0.98695986 0.98706453 0.98716853 0.98727198 0.9873747  0.98747661\n 0.98757842 0.98767979 0.98777987 0.98787951 0.98797862 0.98807723\n 0.98817527 0.98827309 0.98836972 0.98846554 0.98856129 0.98865687\n 0.9887519  0.98884645 0.98894083 0.98903438 0.9891276  0.98922041\n 0.98931244 0.98940428 0.98949531 0.9895858  0.98967604 0.98976567\n 0.98985475 0.98994365 0.99003195 0.9901195  0.99020647 0.99029303\n 0.9903795  0.99046542 0.99055088 0.99063564 0.9907199  0.99080412\n 0.9908875  0.99097068 0.99105311 0.99113503 0.99121677 0.99129821\n 0.99137926 0.99146002 0.99154048 0.99162074 0.99170046 0.99177946\n 0.99185783 0.99193586 0.99201348 0.99209104 0.99216827 0.99224534\n 0.99232198 0.9923981  0.99247353 0.9925486  0.99262291 0.99269665\n 0.99277026 0.99284327 0.99291613 0.99298866 0.99306083 0.99313254\n 0.99320399 0.99327511 0.99334609 0.99341627 0.99348625 0.99355598\n 0.9936249  0.99369363 0.99376182 0.99382992 0.99389757 0.99396493\n 0.99403184 0.99409842 0.99416461 0.99423065 0.99429657 0.99436196\n 0.99442704 0.99449178 0.99455636 0.99462063 0.99468438 0.99474785\n 0.99481098 0.99487407 0.9949367  0.99499911 0.99506124 0.99512302\n 0.99518464 0.99524605 0.99530702 0.99536764 0.9954279  0.99548786\n 0.99554753 0.99560681 0.99566583 0.99572465 0.99578321 0.9958415\n 0.99589914 0.99595656 0.99601377 0.99607079 0.99612752 0.99618395\n 0.99624011 0.99629587 0.99635137 0.99640675 0.99646178 0.99651651\n 0.99657098 0.99662522 0.99667919 0.99673302 0.9967866  0.9968399\n 0.996893   0.99694603 0.99699861 0.9970509  0.99710294 0.99715467\n 0.99720604 0.99725716 0.99730792 0.99735847 0.99740877 0.99745886\n 0.99750864 0.99755811 0.99760746 0.9976563  0.99770498 0.99775349\n 0.99780184 0.99784987 0.99789777 0.99794533 0.99799265 0.99803975\n 0.99808629 0.99813249 0.99817854 0.99822442 0.9982699  0.99831534\n 0.9983603  0.99840485 0.99844919 0.99849328 0.99853692 0.99858006\n 0.99862312 0.998666   0.99870843 0.99875045 0.99879221 0.99883392\n 0.99887542 0.99891643 0.9989573  0.99899769 0.99903775 0.99907777\n 0.99911729 0.99915642 0.99919545 0.99923443 0.99927269 0.99931069\n 0.99934824 0.9993857  0.99942269 0.99945946 0.99949589 0.99953229\n 0.99956856 0.99960423 0.99963971 0.99967477 0.99970898 0.99974236\n 0.99977566 0.9998081  0.99983986 0.99987103 0.99989925 0.99992503\n 0.99994845 0.99996907 0.99998848 0.99999546 1.         1.        ]\n"
     ],
     "output_type": "stream"
    }
   ],
   "source": [
    "import numpy\n",
    "import sklearn.decomposition\n",
    "\n",
    "data = cyclops.prep(sttpm.values)"
   ],
   "metadata": {
    "collapsed": false,
    "pycharm": {
     "name": "#%%\n",
     "is_executing": false
    }
   }
  },
  {
   "cell_type": "code",
   "execution_count": 13,
   "outputs": [
    {
     "name": "stdout",
     "text": [
      "WARNING:tensorflow:From /home/shaoheng/miniconda3/envs/tf-gpu/lib/python3.7/site-packages/keras/backend/tensorflow_backend.py:517: The name tf.placeholder is deprecated. Please use tf.compat.v1.placeholder instead.\n\n",
      "WARNING:tensorflow:From /home/shaoheng/miniconda3/envs/tf-gpu/lib/python3.7/site-packages/keras/backend/tensorflow_backend.py:4185: The name tf.truncated_normal is deprecated. Please use tf.random.truncated_normal instead.\n\n",
      "WARNING:tensorflow:From /home/shaoheng/miniconda3/envs/tf-gpu/lib/python3.7/site-packages/keras/backend/tensorflow_backend.py:74: The name tf.get_default_graph is deprecated. Please use tf.compat.v1.get_default_graph instead.\n\n"
     ],
     "output_type": "stream"
    },
    {
     "data": {
      "text/plain": "<IPython.core.display.SVG object>",
      "image/svg+xml": "<svg height=\"636pt\" viewBox=\"0.00 0.00 814.00 636.00\" width=\"814pt\" xmlns=\"http://www.w3.org/2000/svg\" xmlns:xlink=\"http://www.w3.org/1999/xlink\">\n<g class=\"graph\" id=\"graph0\" transform=\"scale(1 1) rotate(0) translate(4 632)\">\n<title>G</title>\n<polygon fill=\"#ffffff\" points=\"-4,4 -4,-632 810,-632 810,4 -4,4\" stroke=\"transparent\"/>\n<!-- 139637101122384 -->\n<g class=\"node\" id=\"node1\">\n<title>139637101122384</title>\n<polygon fill=\"none\" points=\"256.5,-581.5 256.5,-627.5 495.5,-627.5 495.5,-581.5 256.5,-581.5\" stroke=\"#000000\"/>\n<text fill=\"#000000\" font-family=\"Times,serif\" font-size=\"14.00\" text-anchor=\"middle\" x=\"313\" y=\"-600.8\">input: InputLayer</text>\n<polyline fill=\"none\" points=\"369.5,-581.5 369.5,-627.5 \" stroke=\"#000000\"/>\n<text fill=\"#000000\" font-family=\"Times,serif\" font-size=\"14.00\" text-anchor=\"middle\" x=\"397.5\" y=\"-612.3\">input:</text>\n<polyline fill=\"none\" points=\"369.5,-604.5 425.5,-604.5 \" stroke=\"#000000\"/>\n<text fill=\"#000000\" font-family=\"Times,serif\" font-size=\"14.00\" text-anchor=\"middle\" x=\"397.5\" y=\"-589.3\">output:</text>\n<polyline fill=\"none\" points=\"425.5,-581.5 425.5,-627.5 \" stroke=\"#000000\"/>\n<text fill=\"#000000\" font-family=\"Times,serif\" font-size=\"14.00\" text-anchor=\"middle\" x=\"460.5\" y=\"-612.3\">(None, 1)</text>\n<polyline fill=\"none\" points=\"425.5,-604.5 495.5,-604.5 \" stroke=\"#000000\"/>\n<text fill=\"#000000\" font-family=\"Times,serif\" font-size=\"14.00\" text-anchor=\"middle\" x=\"460.5\" y=\"-589.3\">(None, 1)</text>\n</g>\n<!-- 139637101124560 -->\n<g class=\"node\" id=\"node2\">\n<title>139637101124560</title>\n<polygon fill=\"none\" points=\"59,-498.5 59,-544.5 367,-544.5 367,-498.5 59,-498.5\" stroke=\"#000000\"/>\n<text fill=\"#000000\" font-family=\"Times,serif\" font-size=\"14.00\" text-anchor=\"middle\" x=\"150\" y=\"-517.8\">encoder_circular_in_0: Dense</text>\n<polyline fill=\"none\" points=\"241,-498.5 241,-544.5 \" stroke=\"#000000\"/>\n<text fill=\"#000000\" font-family=\"Times,serif\" font-size=\"14.00\" text-anchor=\"middle\" x=\"269\" y=\"-529.3\">input:</text>\n<polyline fill=\"none\" points=\"241,-521.5 297,-521.5 \" stroke=\"#000000\"/>\n<text fill=\"#000000\" font-family=\"Times,serif\" font-size=\"14.00\" text-anchor=\"middle\" x=\"269\" y=\"-506.3\">output:</text>\n<polyline fill=\"none\" points=\"297,-498.5 297,-544.5 \" stroke=\"#000000\"/>\n<text fill=\"#000000\" font-family=\"Times,serif\" font-size=\"14.00\" text-anchor=\"middle\" x=\"332\" y=\"-529.3\">(None, 1)</text>\n<polyline fill=\"none\" points=\"297,-521.5 367,-521.5 \" stroke=\"#000000\"/>\n<text fill=\"#000000\" font-family=\"Times,serif\" font-size=\"14.00\" text-anchor=\"middle\" x=\"332\" y=\"-506.3\">(None, 1)</text>\n</g>\n<!-- 139637101122384&#45;&gt;139637101124560 -->\n<g class=\"edge\" id=\"edge1\">\n<title>139637101122384-&gt;139637101124560</title>\n<path d=\"M330.5954,-581.3799C310.9838,-571.3936 287.8777,-559.6279 267.3617,-549.1811\" fill=\"none\" stroke=\"#000000\"/>\n<polygon fill=\"#000000\" points=\"268.9429,-546.0587 258.4435,-544.6399 265.7666,-552.2966 268.9429,-546.0587\" stroke=\"#000000\"/>\n</g>\n<!-- 139637098896464 -->\n<g class=\"node\" id=\"node3\">\n<title>139637098896464</title>\n<polygon fill=\"none\" points=\"385,-498.5 385,-544.5 693,-544.5 693,-498.5 385,-498.5\" stroke=\"#000000\"/>\n<text fill=\"#000000\" font-family=\"Times,serif\" font-size=\"14.00\" text-anchor=\"middle\" x=\"476\" y=\"-517.8\">encoder_circular_in_1: Dense</text>\n<polyline fill=\"none\" points=\"567,-498.5 567,-544.5 \" stroke=\"#000000\"/>\n<text fill=\"#000000\" font-family=\"Times,serif\" font-size=\"14.00\" text-anchor=\"middle\" x=\"595\" y=\"-529.3\">input:</text>\n<polyline fill=\"none\" points=\"567,-521.5 623,-521.5 \" stroke=\"#000000\"/>\n<text fill=\"#000000\" font-family=\"Times,serif\" font-size=\"14.00\" text-anchor=\"middle\" x=\"595\" y=\"-506.3\">output:</text>\n<polyline fill=\"none\" points=\"623,-498.5 623,-544.5 \" stroke=\"#000000\"/>\n<text fill=\"#000000\" font-family=\"Times,serif\" font-size=\"14.00\" text-anchor=\"middle\" x=\"658\" y=\"-529.3\">(None, 1)</text>\n<polyline fill=\"none\" points=\"623,-521.5 693,-521.5 \" stroke=\"#000000\"/>\n<text fill=\"#000000\" font-family=\"Times,serif\" font-size=\"14.00\" text-anchor=\"middle\" x=\"658\" y=\"-506.3\">(None, 1)</text>\n</g>\n<!-- 139637101122384&#45;&gt;139637098896464 -->\n<g class=\"edge\" id=\"edge2\">\n<title>139637101122384-&gt;139637098896464</title>\n<path d=\"M421.4046,-581.3799C441.0162,-571.3936 464.1223,-559.6279 484.6383,-549.1811\" fill=\"none\" stroke=\"#000000\"/>\n<polygon fill=\"#000000\" points=\"486.2334,-552.2966 493.5565,-544.6399 483.0571,-546.0587 486.2334,-552.2966\" stroke=\"#000000\"/>\n</g>\n<!-- 139637102770640 -->\n<g class=\"node\" id=\"node4\">\n<title>139637102770640</title>\n<polygon fill=\"none\" points=\"94,-415.5 94,-461.5 332,-461.5 332,-415.5 94,-415.5\" stroke=\"#000000\"/>\n<text fill=\"#000000\" font-family=\"Times,serif\" font-size=\"14.00\" text-anchor=\"middle\" x=\"150\" y=\"-434.8\">x00_sqr: Lambda</text>\n<polyline fill=\"none\" points=\"206,-415.5 206,-461.5 \" stroke=\"#000000\"/>\n<text fill=\"#000000\" font-family=\"Times,serif\" font-size=\"14.00\" text-anchor=\"middle\" x=\"234\" y=\"-446.3\">input:</text>\n<polyline fill=\"none\" points=\"206,-438.5 262,-438.5 \" stroke=\"#000000\"/>\n<text fill=\"#000000\" font-family=\"Times,serif\" font-size=\"14.00\" text-anchor=\"middle\" x=\"234\" y=\"-423.3\">output:</text>\n<polyline fill=\"none\" points=\"262,-415.5 262,-461.5 \" stroke=\"#000000\"/>\n<text fill=\"#000000\" font-family=\"Times,serif\" font-size=\"14.00\" text-anchor=\"middle\" x=\"297\" y=\"-446.3\">(None, 1)</text>\n<polyline fill=\"none\" points=\"262,-438.5 332,-438.5 \" stroke=\"#000000\"/>\n<text fill=\"#000000\" font-family=\"Times,serif\" font-size=\"14.00\" text-anchor=\"middle\" x=\"297\" y=\"-423.3\">(None, 1)</text>\n</g>\n<!-- 139637101124560&#45;&gt;139637102770640 -->\n<g class=\"edge\" id=\"edge3\">\n<title>139637101124560-&gt;139637102770640</title>\n<path d=\"M213,-498.3799C213,-490.1745 213,-480.7679 213,-471.8786\" fill=\"none\" stroke=\"#000000\"/>\n<polygon fill=\"#000000\" points=\"216.5001,-471.784 213,-461.784 209.5001,-471.784 216.5001,-471.784\" stroke=\"#000000\"/>\n</g>\n<!-- 139637103736656 -->\n<g class=\"node\" id=\"node5\">\n<title>139637103736656</title>\n<polygon fill=\"none\" points=\"420,-415.5 420,-461.5 658,-461.5 658,-415.5 420,-415.5\" stroke=\"#000000\"/>\n<text fill=\"#000000\" font-family=\"Times,serif\" font-size=\"14.00\" text-anchor=\"middle\" x=\"476\" y=\"-434.8\">x01_sqr: Lambda</text>\n<polyline fill=\"none\" points=\"532,-415.5 532,-461.5 \" stroke=\"#000000\"/>\n<text fill=\"#000000\" font-family=\"Times,serif\" font-size=\"14.00\" text-anchor=\"middle\" x=\"560\" y=\"-446.3\">input:</text>\n<polyline fill=\"none\" points=\"532,-438.5 588,-438.5 \" stroke=\"#000000\"/>\n<text fill=\"#000000\" font-family=\"Times,serif\" font-size=\"14.00\" text-anchor=\"middle\" x=\"560\" y=\"-423.3\">output:</text>\n<polyline fill=\"none\" points=\"588,-415.5 588,-461.5 \" stroke=\"#000000\"/>\n<text fill=\"#000000\" font-family=\"Times,serif\" font-size=\"14.00\" text-anchor=\"middle\" x=\"623\" y=\"-446.3\">(None, 1)</text>\n<polyline fill=\"none\" points=\"588,-438.5 658,-438.5 \" stroke=\"#000000\"/>\n<text fill=\"#000000\" font-family=\"Times,serif\" font-size=\"14.00\" text-anchor=\"middle\" x=\"623\" y=\"-423.3\">(None, 1)</text>\n</g>\n<!-- 139637098896464&#45;&gt;139637103736656 -->\n<g class=\"edge\" id=\"edge4\">\n<title>139637098896464-&gt;139637103736656</title>\n<path d=\"M539,-498.3799C539,-490.1745 539,-480.7679 539,-471.8786\" fill=\"none\" stroke=\"#000000\"/>\n<polygon fill=\"#000000\" points=\"542.5001,-471.784 539,-461.784 535.5001,-471.784 542.5001,-471.784\" stroke=\"#000000\"/>\n</g>\n<!-- 139638379519504 -->\n<g class=\"node\" id=\"node6\">\n<title>139638379519504</title>\n<polygon fill=\"none\" points=\"270.5,-332.5 270.5,-378.5 553.5,-378.5 553.5,-332.5 270.5,-332.5\" stroke=\"#000000\"/>\n<text fill=\"#000000\" font-family=\"Times,serif\" font-size=\"14.00\" text-anchor=\"middle\" x=\"315\" y=\"-351.8\">sqr_len: Add</text>\n<polyline fill=\"none\" points=\"359.5,-332.5 359.5,-378.5 \" stroke=\"#000000\"/>\n<text fill=\"#000000\" font-family=\"Times,serif\" font-size=\"14.00\" text-anchor=\"middle\" x=\"387.5\" y=\"-363.3\">input:</text>\n<polyline fill=\"none\" points=\"359.5,-355.5 415.5,-355.5 \" stroke=\"#000000\"/>\n<text fill=\"#000000\" font-family=\"Times,serif\" font-size=\"14.00\" text-anchor=\"middle\" x=\"387.5\" y=\"-340.3\">output:</text>\n<polyline fill=\"none\" points=\"415.5,-332.5 415.5,-378.5 \" stroke=\"#000000\"/>\n<text fill=\"#000000\" font-family=\"Times,serif\" font-size=\"14.00\" text-anchor=\"middle\" x=\"484.5\" y=\"-363.3\">[(None, 1), (None, 1)]</text>\n<polyline fill=\"none\" points=\"415.5,-355.5 553.5,-355.5 \" stroke=\"#000000\"/>\n<text fill=\"#000000\" font-family=\"Times,serif\" font-size=\"14.00\" text-anchor=\"middle\" x=\"484.5\" y=\"-340.3\">(None, 1)</text>\n</g>\n<!-- 139637102770640&#45;&gt;139638379519504 -->\n<g class=\"edge\" id=\"edge5\">\n<title>139637102770640-&gt;139638379519504</title>\n<path d=\"M268.1683,-415.4901C292.755,-405.2353 321.8812,-393.0872 347.4713,-382.414\" fill=\"none\" stroke=\"#000000\"/>\n<polygon fill=\"#000000\" points=\"348.8423,-385.6345 356.7244,-378.5547 346.1476,-379.1739 348.8423,-385.6345\" stroke=\"#000000\"/>\n</g>\n<!-- 139637070898448 -->\n<g class=\"node\" id=\"node8\">\n<title>139637070898448</title>\n<polygon fill=\"none\" points=\"0,-166.5 0,-212.5 394,-212.5 394,-166.5 0,-166.5\" stroke=\"#000000\"/>\n<text fill=\"#000000\" font-family=\"Times,serif\" font-size=\"14.00\" text-anchor=\"middle\" x=\"100\" y=\"-185.8\">encoder_circular_out_0: Lambda</text>\n<polyline fill=\"none\" points=\"200,-166.5 200,-212.5 \" stroke=\"#000000\"/>\n<text fill=\"#000000\" font-family=\"Times,serif\" font-size=\"14.00\" text-anchor=\"middle\" x=\"228\" y=\"-197.3\">input:</text>\n<polyline fill=\"none\" points=\"200,-189.5 256,-189.5 \" stroke=\"#000000\"/>\n<text fill=\"#000000\" font-family=\"Times,serif\" font-size=\"14.00\" text-anchor=\"middle\" x=\"228\" y=\"-174.3\">output:</text>\n<polyline fill=\"none\" points=\"256,-166.5 256,-212.5 \" stroke=\"#000000\"/>\n<text fill=\"#000000\" font-family=\"Times,serif\" font-size=\"14.00\" text-anchor=\"middle\" x=\"325\" y=\"-197.3\">[(None, 1), (None, 1)]</text>\n<polyline fill=\"none\" points=\"256,-189.5 394,-189.5 \" stroke=\"#000000\"/>\n<text fill=\"#000000\" font-family=\"Times,serif\" font-size=\"14.00\" text-anchor=\"middle\" x=\"325\" y=\"-174.3\">(None, 1)</text>\n</g>\n<!-- 139637102770640&#45;&gt;139637070898448 -->\n<g class=\"edge\" id=\"edge8\">\n<title>139637102770640-&gt;139637070898448</title>\n<path d=\"M211.4948,-415.0747C208.6405,-370.6558 202.4336,-274.0605 199.1448,-222.8789\" fill=\"none\" stroke=\"#000000\"/>\n<polygon fill=\"#000000\" points=\"202.6237,-222.4366 198.4896,-212.6817 195.6381,-222.8856 202.6237,-222.4366\" stroke=\"#000000\"/>\n</g>\n<!-- 139637103736656&#45;&gt;139638379519504 -->\n<g class=\"edge\" id=\"edge6\">\n<title>139637103736656-&gt;139638379519504</title>\n<path d=\"M503.6234,-415.3799C488.8848,-405.7475 471.613,-394.4597 456.0625,-384.2967\" fill=\"none\" stroke=\"#000000\"/>\n<polygon fill=\"#000000\" points=\"457.913,-381.325 447.6273,-378.784 454.0834,-387.1846 457.913,-381.325\" stroke=\"#000000\"/>\n</g>\n<!-- 139637098896848 -->\n<g class=\"node\" id=\"node9\">\n<title>139637098896848</title>\n<polygon fill=\"none\" points=\"412,-166.5 412,-212.5 806,-212.5 806,-166.5 412,-166.5\" stroke=\"#000000\"/>\n<text fill=\"#000000\" font-family=\"Times,serif\" font-size=\"14.00\" text-anchor=\"middle\" x=\"512\" y=\"-185.8\">encoder_circular_out_1: Lambda</text>\n<polyline fill=\"none\" points=\"612,-166.5 612,-212.5 \" stroke=\"#000000\"/>\n<text fill=\"#000000\" font-family=\"Times,serif\" font-size=\"14.00\" text-anchor=\"middle\" x=\"640\" y=\"-197.3\">input:</text>\n<polyline fill=\"none\" points=\"612,-189.5 668,-189.5 \" stroke=\"#000000\"/>\n<text fill=\"#000000\" font-family=\"Times,serif\" font-size=\"14.00\" text-anchor=\"middle\" x=\"640\" y=\"-174.3\">output:</text>\n<polyline fill=\"none\" points=\"668,-166.5 668,-212.5 \" stroke=\"#000000\"/>\n<text fill=\"#000000\" font-family=\"Times,serif\" font-size=\"14.00\" text-anchor=\"middle\" x=\"737\" y=\"-197.3\">[(None, 1), (None, 1)]</text>\n<polyline fill=\"none\" points=\"668,-189.5 806,-189.5 \" stroke=\"#000000\"/>\n<text fill=\"#000000\" font-family=\"Times,serif\" font-size=\"14.00\" text-anchor=\"middle\" x=\"737\" y=\"-174.3\">(None, 1)</text>\n</g>\n<!-- 139637103736656&#45;&gt;139637098896848 -->\n<g class=\"edge\" id=\"edge10\">\n<title>139637103736656-&gt;139637098896848</title>\n<path d=\"M549.2571,-415.3325C553.8421,-404.4413 559.083,-391.1957 563,-379 580.3169,-325.0827 594.6433,-260.7193 602.4938,-222.5809\" fill=\"none\" stroke=\"#000000\"/>\n<polygon fill=\"#000000\" points=\"605.9706,-223.0467 604.5334,-212.5498 599.1109,-221.6519 605.9706,-223.0467\" stroke=\"#000000\"/>\n</g>\n<!-- 139637098894672 -->\n<g class=\"node\" id=\"node7\">\n<title>139637098894672</title>\n<polygon fill=\"none\" points=\"306.5,-249.5 306.5,-295.5 517.5,-295.5 517.5,-249.5 306.5,-249.5\" stroke=\"#000000\"/>\n<text fill=\"#000000\" font-family=\"Times,serif\" font-size=\"14.00\" text-anchor=\"middle\" x=\"349\" y=\"-268.8\">len: Lambda</text>\n<polyline fill=\"none\" points=\"391.5,-249.5 391.5,-295.5 \" stroke=\"#000000\"/>\n<text fill=\"#000000\" font-family=\"Times,serif\" font-size=\"14.00\" text-anchor=\"middle\" x=\"419.5\" y=\"-280.3\">input:</text>\n<polyline fill=\"none\" points=\"391.5,-272.5 447.5,-272.5 \" stroke=\"#000000\"/>\n<text fill=\"#000000\" font-family=\"Times,serif\" font-size=\"14.00\" text-anchor=\"middle\" x=\"419.5\" y=\"-257.3\">output:</text>\n<polyline fill=\"none\" points=\"447.5,-249.5 447.5,-295.5 \" stroke=\"#000000\"/>\n<text fill=\"#000000\" font-family=\"Times,serif\" font-size=\"14.00\" text-anchor=\"middle\" x=\"482.5\" y=\"-280.3\">(None, 1)</text>\n<polyline fill=\"none\" points=\"447.5,-272.5 517.5,-272.5 \" stroke=\"#000000\"/>\n<text fill=\"#000000\" font-family=\"Times,serif\" font-size=\"14.00\" text-anchor=\"middle\" x=\"482.5\" y=\"-257.3\">(None, 1)</text>\n</g>\n<!-- 139638379519504&#45;&gt;139637098894672 -->\n<g class=\"edge\" id=\"edge7\">\n<title>139638379519504-&gt;139637098894672</title>\n<path d=\"M412,-332.3799C412,-324.1745 412,-314.7679 412,-305.8786\" fill=\"none\" stroke=\"#000000\"/>\n<polygon fill=\"#000000\" points=\"415.5001,-305.784 412,-295.784 408.5001,-305.784 415.5001,-305.784\" stroke=\"#000000\"/>\n</g>\n<!-- 139637098894672&#45;&gt;139637070898448 -->\n<g class=\"edge\" id=\"edge9\">\n<title>139637098894672-&gt;139637070898448</title>\n<path d=\"M352.396,-249.4901C325.716,-239.1904 294.0884,-226.9806 266.3533,-216.2736\" fill=\"none\" stroke=\"#000000\"/>\n<polygon fill=\"#000000\" points=\"267.3094,-212.891 256.7199,-212.5547 264.7884,-219.4213 267.3094,-212.891\" stroke=\"#000000\"/>\n</g>\n<!-- 139637098894672&#45;&gt;139637098896848 -->\n<g class=\"edge\" id=\"edge11\">\n<title>139637098894672-&gt;139637098896848</title>\n<path d=\"M466.6139,-249.4901C490.8467,-239.2803 519.5341,-227.1938 544.7863,-216.5545\" fill=\"none\" stroke=\"#000000\"/>\n<polygon fill=\"#000000\" points=\"546.4234,-219.6628 554.2799,-212.5547 543.7055,-213.212 546.4234,-219.6628\" stroke=\"#000000\"/>\n</g>\n<!-- 139637098893520 -->\n<g class=\"node\" id=\"node10\">\n<title>139637098893520</title>\n<polygon fill=\"none\" points=\"229.5,-83.5 229.5,-129.5 576.5,-129.5 576.5,-83.5 229.5,-83.5\" stroke=\"#000000\"/>\n<text fill=\"#000000\" font-family=\"Times,serif\" font-size=\"14.00\" text-anchor=\"middle\" x=\"306\" y=\"-102.8\">embedding: Concatenate</text>\n<polyline fill=\"none\" points=\"382.5,-83.5 382.5,-129.5 \" stroke=\"#000000\"/>\n<text fill=\"#000000\" font-family=\"Times,serif\" font-size=\"14.00\" text-anchor=\"middle\" x=\"410.5\" y=\"-114.3\">input:</text>\n<polyline fill=\"none\" points=\"382.5,-106.5 438.5,-106.5 \" stroke=\"#000000\"/>\n<text fill=\"#000000\" font-family=\"Times,serif\" font-size=\"14.00\" text-anchor=\"middle\" x=\"410.5\" y=\"-91.3\">output:</text>\n<polyline fill=\"none\" points=\"438.5,-83.5 438.5,-129.5 \" stroke=\"#000000\"/>\n<text fill=\"#000000\" font-family=\"Times,serif\" font-size=\"14.00\" text-anchor=\"middle\" x=\"507.5\" y=\"-114.3\">[(None, 1), (None, 1)]</text>\n<polyline fill=\"none\" points=\"438.5,-106.5 576.5,-106.5 \" stroke=\"#000000\"/>\n<text fill=\"#000000\" font-family=\"Times,serif\" font-size=\"14.00\" text-anchor=\"middle\" x=\"507.5\" y=\"-91.3\">(None, 2)</text>\n</g>\n<!-- 139637070898448&#45;&gt;139637098893520 -->\n<g class=\"edge\" id=\"edge12\">\n<title>139637070898448-&gt;139637098893520</title>\n<path d=\"M254.1089,-166.4901C279.5605,-156.2353 309.7112,-144.0872 336.2015,-133.414\" fill=\"none\" stroke=\"#000000\"/>\n<polygon fill=\"#000000\" points=\"337.8126,-136.5383 345.78,-129.5547 335.1965,-130.0455 337.8126,-136.5383\" stroke=\"#000000\"/>\n</g>\n<!-- 139637098896848&#45;&gt;139637098893520 -->\n<g class=\"edge\" id=\"edge13\">\n<title>139637098896848-&gt;139637098893520</title>\n<path d=\"M551.8911,-166.4901C526.4395,-156.2353 496.2888,-144.0872 469.7985,-133.414\" fill=\"none\" stroke=\"#000000\"/>\n<polygon fill=\"#000000\" points=\"470.8035,-130.0455 460.22,-129.5547 468.1874,-136.5383 470.8035,-130.0455\" stroke=\"#000000\"/>\n</g>\n<!-- 139637100907024 -->\n<g class=\"node\" id=\"node11\">\n<title>139637100907024</title>\n<polygon fill=\"none\" points=\"293.5,-.5 293.5,-46.5 512.5,-46.5 512.5,-.5 293.5,-.5\" stroke=\"#000000\"/>\n<text fill=\"#000000\" font-family=\"Times,serif\" font-size=\"14.00\" text-anchor=\"middle\" x=\"340\" y=\"-19.8\">output: Dense</text>\n<polyline fill=\"none\" points=\"386.5,-.5 386.5,-46.5 \" stroke=\"#000000\"/>\n<text fill=\"#000000\" font-family=\"Times,serif\" font-size=\"14.00\" text-anchor=\"middle\" x=\"414.5\" y=\"-31.3\">input:</text>\n<polyline fill=\"none\" points=\"386.5,-23.5 442.5,-23.5 \" stroke=\"#000000\"/>\n<text fill=\"#000000\" font-family=\"Times,serif\" font-size=\"14.00\" text-anchor=\"middle\" x=\"414.5\" y=\"-8.3\">output:</text>\n<polyline fill=\"none\" points=\"442.5,-.5 442.5,-46.5 \" stroke=\"#000000\"/>\n<text fill=\"#000000\" font-family=\"Times,serif\" font-size=\"14.00\" text-anchor=\"middle\" x=\"477.5\" y=\"-31.3\">(None, 2)</text>\n<polyline fill=\"none\" points=\"442.5,-23.5 512.5,-23.5 \" stroke=\"#000000\"/>\n<text fill=\"#000000\" font-family=\"Times,serif\" font-size=\"14.00\" text-anchor=\"middle\" x=\"477.5\" y=\"-8.3\">(None, 1)</text>\n</g>\n<!-- 139637098893520&#45;&gt;139637100907024 -->\n<g class=\"edge\" id=\"edge14\">\n<title>139637098893520-&gt;139637100907024</title>\n<path d=\"M403,-83.3799C403,-75.1745 403,-65.7679 403,-56.8786\" fill=\"none\" stroke=\"#000000\"/>\n<polygon fill=\"#000000\" points=\"406.5001,-56.784 403,-46.784 399.5001,-56.784 406.5001,-56.784\" stroke=\"#000000\"/>\n</g>\n</g>\n</svg>"
     },
     "metadata": {},
     "output_type": "display_data"
    }
   ],
   "source": [
    "model = cyclops(data.shape[1])\n",
    "display(model.show_structure())"
   ],
   "metadata": {
    "collapsed": false,
    "pycharm": {
     "name": "#%%\n",
     "is_executing": false
    }
   }
  },
  {
   "cell_type": "code",
   "execution_count": 14,
   "outputs": [
    {
     "name": "stdout",
     "text": [
      "WARNING:tensorflow:From /home/shaoheng/miniconda3/envs/tf-gpu/lib/python3.7/site-packages/keras/optimizers.py:790: The name tf.train.Optimizer is deprecated. Please use tf.compat.v1.train.Optimizer instead.\n\n",
      "WARNING:tensorflow:From /home/shaoheng/miniconda3/envs/tf-gpu/lib/python3.7/site-packages/tensorflow/python/ops/math_grad.py:1250: add_dispatch_support.<locals>.wrapper (from tensorflow.python.ops.array_ops) is deprecated and will be removed in a future version.\nInstructions for updating:\nUse tf.where in 2.0, which has the same broadcast rule as np.where\n",
      "WARNING:tensorflow:From /home/shaoheng/miniconda3/envs/tf-gpu/lib/python3.7/site-packages/keras/backend/tensorflow_backend.py:986: The name tf.assign_add is deprecated. Please use tf.compat.v1.assign_add instead.\n\n",
      "WARNING:tensorflow:From /home/shaoheng/miniconda3/envs/tf-gpu/lib/python3.7/site-packages/keras/backend/tensorflow_backend.py:973: The name tf.assign is deprecated. Please use tf.compat.v1.assign instead.\n\n",
      "epoch: 100/400, loss:  6356799345.7778, time elapsed:  4.23s, time left:  12.69s\n",
      "epoch: 200/400, loss:  6172286691.5556, time elapsed:  6.88s, time left:  6.88s\n",
      "epoch: 300/400, loss:  5624578389.3333, time elapsed:  9.44s, time left:  3.15s\n",
      "epoch: 400/400, loss:  5109661056.0000, time elapsed:  12.10s, time left:  0.00s\n"
     ],
     "output_type": "stream"
    },
    {
     "data": {
      "text/plain": "<keras.callbacks.History at 0x7effcbc6fe10>"
     },
     "metadata": {},
     "output_type": "execute_result",
     "execution_count": 14
    }
   ],
   "source": [
    "model.train(data, epochs=400, verbose=100, rate=2e-4)"
   ],
   "metadata": {
    "collapsed": false,
    "pycharm": {
     "name": "#%%\n",
     "is_executing": false
    }
   }
  },
  {
   "cell_type": "code",
   "execution_count": 16,
   "outputs": [],
   "source": [
    "pseudotime = model.predict_pseudotime(data)\n"
   ],
   "metadata": {
    "collapsed": false,
    "pycharm": {
     "name": "#%%\n",
     "is_executing": false
    }
   }
  },
  {
   "cell_type": "markdown",
   "source": [
    "## Illustrations\n",
    "We illustrate the results on a circle, to show its circular nature. \n",
    "There is virtually no start and end of the circle.\n",
    "Red, green and blue represents G0/G1, S and G2/M phase respectively.\n",
    "The inner lines represents single cells. The cells spread across the\n",
    "The areas outside"
   ],
   "metadata": {
    "collapsed": false
   }
  },
  {
   "cell_type": "code",
   "execution_count": 17,
   "outputs": [],
   "source": [
    "import cyclum.illustration"
   ],
   "metadata": {
    "collapsed": false,
    "pycharm": {
     "name": "#%%\n",
     "is_executing": false
    }
   }
  },
  {
   "cell_type": "code",
   "execution_count": 18,
   "outputs": [
    {
     "data": {
      "text/plain": "<Figure size 432x288 with 1 Axes>",
      "image/png": "[encoded data removed]"
     },
     "metadata": {
      "needs_background": "light"
     },
     "output_type": "display_data"
    }
   ],
   "source": [
    "color_map = {'stage': {\"g0/g1\": \"red\", \"s\": \"green\", \"g2/m\": \"blue\"},\n",
    "                 'subcluster': {\"intact\": \"cyan\", \"perturbed\": \"violet\"}}\n",
    "cyclum.illustration.plot_round_distr_color(pseudotime, label['stage'], color_map['stage'])\n",
    "pass"
   ],
   "metadata": {
    "collapsed": false,
    "pycharm": {
     "name": "#%%\n",
     "is_executing": false
    }
   }
  },
  {
   "cell_type": "code",
   "execution_count": null,
   "outputs": [],
   "source": [
    "from cyclum.hdfrw import mat2hdf\n",
    "\n",
    "mat2hdf(pseudotime, '/home/shaoheng/Documents/data/EMTAB2805/cyclops-pseudotime.h5')\n"
   ],
   "metadata": {
    "collapsed": false,
    "pycharm": {
     "name": "#%%\n"
    }
   }
  }
 ],
 "metadata": {
  "kernelspec": {
   "name": "optirun_python3",
   "language": "python",
   "display_name": "Python 3 [GPU]"
  },
  "language_info": {
   "codemirror_mode": {
    "name": "ipython",
    "version": 2
   },
   "file_extension": ".py",
   "mimetype": "text/x-python",
   "name": "python",
   "nbconvert_exporter": "python",
   "pygments_lexer": "ipython2",
   "version": "2.7.6"
  },
  "pycharm": {
   "stem_cell": {
    "cell_type": "raw",
    "source": [],
    "metadata": {
     "collapsed": false
    }
   }
  }
 },
 "nbformat": 4,
 "nbformat_minor": 0
}