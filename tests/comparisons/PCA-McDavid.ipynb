{
 "cells": [
  {
   "cell_type": "markdown",
   "metadata": {},
   "source": []
  },
  {
   "cell_type": "code",
   "execution_count": 1,
   "metadata": {
    "pycharm": {
     "is_executing": false,
     "name": "#%%\n"
    }
   },
   "outputs": [],
   "source": [
    "import pandas as pd\n",
    "from sklearn.preprocessing import scale\n"
   ]
  },
  {
   "cell_type": "code",
   "execution_count": 2,
   "metadata": {
    "pycharm": {
     "is_executing": false,
     "name": "#%%\n"
    }
   },
   "outputs": [],
   "source": [
    "from cyclum.hdfrw import mat2hdf\n",
    "from sklearn.decomposition import PCA"
   ]
  },
  {
   "cell_type": "markdown",
   "source": [
    "## PC3"
   ],
   "metadata": {
    "collapsed": false,
    "pycharm": {
     "name": "#%% md\n"
    }
   }
  },
  {
   "cell_type": "code",
   "execution_count": 3,
   "outputs": [
    {
     "name": "stdout",
     "text": [
      "Original dimesion 361 cells x 253 genes.\nG0/G1 [85], S [141], G2/M [135]\n"
     ],
     "output_type": "stream"
    }
   ],
   "source": [
    "raw_Y = pd.read_pickle('/home/shaoheng/Documents/data/McDavid/pc3_df.pkl').T\n",
    "\n",
    "cpt = pd.read_pickle('/home/shaoheng/Documents/data/McDavid/pc3_cpt.pkl').values\n",
    "print(\"Original dimesion %d cells x %d genes.\" % raw_Y.shape)\n",
    "print(f\"G0/G1 {sum(cpt == 'g0/g1')}, S {sum(cpt == 's')}, G2/M {sum(cpt == 'g2/m')}\")\n",
    "\n",
    "Y = scale(raw_Y)\n",
    "\n",
    "\n",
    "pca_model = PCA(5)\n",
    "pca_loads = pca_model.fit_transform(Y)\n",
    "mat2hdf(pca_loads, '/home/shaoheng/Documents/data/McDavid/pc3-pca.h5')\n"
   ],
   "metadata": {
    "collapsed": false,
    "pycharm": {
     "name": "#%%\n",
     "is_executing": false
    }
   }
  },
  {
   "cell_type": "markdown",
   "source": [
    "## MB"
   ],
   "metadata": {
    "collapsed": false
   }
  },
  {
   "cell_type": "code",
   "execution_count": 4,
   "outputs": [
    {
     "name": "stdout",
     "text": [
      "Original dimesion 342 cells x 253 genes.\nG0/G1 [123], S [103], G2/M [116]\n"
     ],
     "output_type": "stream"
    }
   ],
   "source": [
    "raw_Y = pd.read_pickle('/home/shaoheng/Documents/data/McDavid/mb_df.pkl').T\n",
    "\n",
    "cpt = pd.read_pickle('/home/shaoheng/Documents/data/McDavid/mb_cpt.pkl').values\n",
    "print(\"Original dimesion %d cells x %d genes.\" % raw_Y.shape)\n",
    "print(f\"G0/G1 {sum(cpt == 'g0/g1')}, S {sum(cpt == 's')}, G2/M {sum(cpt == 'g2/m')}\")\n",
    "\n",
    "Y = scale(raw_Y)\n",
    "\n",
    "\n",
    "pca_model = PCA(5)\n",
    "pca_loads = pca_model.fit_transform(Y)\n",
    "mat2hdf(pca_loads, '/home/shaoheng/Documents/data/McDavid/mb-pca.h5')"
   ],
   "metadata": {
    "collapsed": false,
    "pycharm": {
     "name": "#%%\n",
     "is_executing": false
    }
   }
  },
  {
   "cell_type": "markdown",
   "source": [
    "## PC3"
   ],
   "metadata": {
    "collapsed": false
   }
  },
  {
   "cell_type": "code",
   "execution_count": 5,
   "outputs": [
    {
     "name": "stdout",
     "text": [
      "Original dimesion 227 cells x 253 genes.\nG0/G1 [66], S [68], G2/M [93]\n"
     ],
     "output_type": "stream"
    }
   ],
   "source": [
    "raw_Y = pd.read_pickle('/home/shaoheng/Documents/data/McDavid/h9_df.pkl').T\n",
    "\n",
    "cpt = pd.read_pickle('/home/shaoheng/Documents/data/McDavid/h9_cpt.pkl').values\n",
    "print(\"Original dimesion %d cells x %d genes.\" % raw_Y.shape)\n",
    "print(f\"G0/G1 {sum(cpt == 'g0/g1')}, S {sum(cpt == 's')}, G2/M {sum(cpt == 'g2/m')}\")\n",
    "\n",
    "Y = scale(raw_Y)\n",
    "\n",
    "\n",
    "pca_model = PCA(5)\n",
    "pca_loads = pca_model.fit_transform(Y)\n",
    "mat2hdf(pca_loads, '/home/shaoheng/Documents/data/McDavid/h9-pca.h5')"
   ],
   "metadata": {
    "collapsed": false,
    "pycharm": {
     "name": "#%%\n",
     "is_executing": false
    }
   }
  }
 ],
 "metadata": {
  "kernelspec": {
   "name": "python3",
   "language": "python",
   "display_name": "Python 3"
  },
  "language_info": {
   "codemirror_mode": {
    "name": "ipython",
    "version": 3
   },
   "file_extension": ".py",
   "mimetype": "text/x-python",
   "name": "python",
   "nbconvert_exporter": "python",
   "pygments_lexer": "ipython3",
   "version": "3.7.4"
  },
  "pycharm": {
   "stem_cell": {
    "cell_type": "raw",
    "source": [],
    "metadata": {
     "collapsed": false
    }
   }
  }
 },
 "nbformat": 4,
 "nbformat_minor": 1
}