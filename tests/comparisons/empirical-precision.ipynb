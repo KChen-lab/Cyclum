{
 "cells": [
  {
   "cell_type": "code",
   "execution_count": 8,
   "metadata": {
    "collapsed": true,
    "pycharm": {
     "is_executing": false
    }
   },
   "outputs": [],
   "source": [
    "import pandas as pd\n",
    "from cyclum.hdfrw import hdf2mat\n",
    "import numpy as np\n",
    "from math import pi\n",
    "\n",
    "pseudotime = hdf2mat(\"/home/shaoheng/Documents/data/McDavid/pc3-pseudotime.h5\").values\n",
    "cpt = pd.read_pickle('/home/shaoheng/Documents/data/McDavid/pc3_cpt.pkl').values\n"
   ]
  },
  {
   "cell_type": "code",
   "execution_count": 47,
   "outputs": [
    {
     "data": {
      "text/plain": "0.6204986149584487"
     },
     "metadata": {},
     "output_type": "execute_result",
     "execution_count": 47
    }
   ],
   "source": [
    "def empirical_precision(pseudotime, label, granularity: int = 100):\n",
    "    \n",
    "    pseudotime = np.squeeze(np.array(pseudotime))\n",
    "    pseudotime = pseudotime % (2 * pi)\n",
    "    \n",
    "    n = label.shape[0]\n",
    "    \n",
    "    label = np.squeeze(np.array(label))\n",
    "    unique_label = np.unique(label)\n",
    "    \n",
    "    onehot_label = np.repeat(unique_label.reshape([-1, 1]), n, axis=1) == label\n",
    "    splits = np.linspace(0, 2 * pi, granularity)\n",
    "    \n",
    "    # 0---i-----j-----k---2pi:\n",
    "    # [k,2pi)U[0, i), [i, j), [j, k)\n",
    "\n",
    "    p = 0\n",
    "    \n",
    "    for i in range(granularity):  # 0 <= i < granularity\n",
    "        for j in range(i, granularity):  # i <= j < granularity\n",
    "            for k in range(j, granularity):  # j <= k < granularity\n",
    "                x = (pseudotime < splits[i]) | (pseudotime >= splits[k])\n",
    "                y = (pseudotime >= splits[i]) & (pseudotime < splits[j])\n",
    "                z = (pseudotime >= splits[j]) & (pseudotime < splits[k])\n",
    "                \n",
    "                r = np.vstack([x, y, z])\n",
    "                \n",
    "                p = max(p, np.sum(onehot_label[[0, 1, 2], :] & r) / n)\n",
    "                p = max(p, np.sum(onehot_label[[1, 2, 0], :] & r) / n)\n",
    "                p = max(p, np.sum(onehot_label[[2, 0, 1], :] & r) / n)\n",
    "                p = max(p, np.sum(onehot_label[[2, 1, 0], :] & r) / n)\n",
    "                p = max(p, np.sum(onehot_label[[1, 0, 2], :] & r) / n)\n",
    "                p = max(p, np.sum(onehot_label[[0, 2, 1], :] & r) / n)\n",
    "    return p  \n",
    " \n",
    "empirical_precision(pseudotime, cpt)\n"
   ],
   "metadata": {
    "collapsed": false,
    "pycharm": {
     "name": "#%%\n",
     "is_executing": false
    }
   }
  }
 ],
 "metadata": {
  "kernelspec": {
   "display_name": "Python 3",
   "language": "python",
   "name": "python3"
  },
  "language_info": {
   "codemirror_mode": {
    "name": "ipython",
    "version": 2
   },
   "file_extension": ".py",
   "mimetype": "text/x-python",
   "name": "python",
   "nbconvert_exporter": "python",
   "pygments_lexer": "ipython2",
   "version": "2.7.6"
  },
  "pycharm": {
   "stem_cell": {
    "cell_type": "raw",
    "source": [],
    "metadata": {
     "collapsed": false
    }
   }
  }
 },
 "nbformat": 4,
 "nbformat_minor": 0
}