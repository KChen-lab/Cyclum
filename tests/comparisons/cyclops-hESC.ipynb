{
 "cells": [
  {
   "cell_type": "markdown",
   "source": [
    "## Import necessary packages"
   ],
   "metadata": {
    "collapsed": false
   }
  },
  {
   "cell_type": "code",
   "execution_count": 1,
   "outputs": [],
   "source": [
    "%matplotlib inline\n",
    "%load_ext autoreload\n",
    "%autoreload 1"
   ],
   "metadata": {
    "collapsed": false,
    "pycharm": {
     "name": "#%%\n",
     "is_executing": false
    }
   }
  },
  {
   "cell_type": "code",
   "execution_count": 2,
   "outputs": [
    {
     "name": "stderr",
     "text": [
      "Using TensorFlow backend.\n"
     ],
     "output_type": "stream"
    }
   ],
   "source": [
    "import pandas as pd\n",
    "import numpy as np\n",
    "import sklearn as skl\n",
    "\n",
    "from sklearn import preprocessing\n",
    "import matplotlib.pyplot as plt\n",
    "\n",
    "from cyclum.models.misc import cyclops\n",
    "\n",
    "from cyclum.hdfrw import hdf2mat, mat2hdf"
   ],
   "metadata": {
    "collapsed": false,
    "pycharm": {
     "name": "#%%\n",
     "is_executing": false
    }
   }
  },
  {
   "cell_type": "code",
   "execution_count": 3,
   "outputs": [
    {
     "name": "stdout",
     "text": [
      "Running on 12280 cells and 33694 genes.\n"
     ],
     "output_type": "stream"
    }
   ],
   "source": [
    "df = hdf2mat('/home/shaoheng/Documents/data/hESC-droplet/GSE125416/GSE125416-regular.h5')\n",
    "print(f\"Running on {df.shape[0]} cells and {df.shape[1]} genes.\")"
   ],
   "metadata": {
    "collapsed": false,
    "pycharm": {
     "name": "#%%\n",
     "is_executing": false
    }
   }
  },
  {
   "cell_type": "code",
   "execution_count": 6,
   "outputs": [
    {
     "data": {
      "text/plain": "(33694,)"
     },
     "metadata": {},
     "output_type": "execute_result",
     "execution_count": 6
    }
   ],
   "source": [
    "df.std(axis=0).shape"
   ],
   "metadata": {
    "collapsed": false,
    "pycharm": {
     "name": "#%%\n",
     "is_executing": false
    }
   }
  },
  {
   "cell_type": "code",
   "execution_count": 3,
   "outputs": [],
   "source": [],
   "metadata": {
    "collapsed": false,
    "pycharm": {
     "name": "#%%\n",
     "is_executing": false
    }
   }
  },
  {
   "cell_type": "code",
   "execution_count": 7,
   "outputs": [
    {
     "name": "stdout",
     "text": [
      "[0.05286752 0.0704447  0.08345301 ... 0.99999957 0.99999979 1.        ]\n"
     ],
     "output_type": "stream"
    }
   ],
   "source": [
    "data = cyclops.prep(df.loc[:, df.std(axis=0) > 0].values, variance_kept = 0.85)\n",
    "data = skl.preprocessing.scale(data)"
   ],
   "metadata": {
    "collapsed": false,
    "pycharm": {
     "name": "#%%\n",
     "is_executing": false
    }
   }
  },
  {
   "cell_type": "code",
   "execution_count": 8,
   "outputs": [
    {
     "name": "stdout",
     "text": [
      "WARNING:tensorflow:From /home/shaoheng/miniconda3/envs/tf-gpu/lib/python3.7/site-packages/keras/backend/tensorflow_backend.py:517: The name tf.placeholder is deprecated. Please use tf.compat.v1.placeholder instead.\n\n",
      "WARNING:tensorflow:From /home/shaoheng/miniconda3/envs/tf-gpu/lib/python3.7/site-packages/keras/backend/tensorflow_backend.py:4185: The name tf.truncated_normal is deprecated. Please use tf.random.truncated_normal instead.\n\n",
      "WARNING:tensorflow:From /home/shaoheng/miniconda3/envs/tf-gpu/lib/python3.7/site-packages/keras/backend/tensorflow_backend.py:74: The name tf.get_default_graph is deprecated. Please use tf.compat.v1.get_default_graph instead.\n\n"
     ],
     "output_type": "stream"
    },
    {
     "data": {
      "text/plain": "<IPython.core.display.SVG object>",
      "image/svg+xml": "<svg height=\"636pt\" viewBox=\"0.00 0.00 814.00 636.00\" width=\"814pt\" xmlns=\"http://www.w3.org/2000/svg\" xmlns:xlink=\"http://www.w3.org/1999/xlink\">\n<g class=\"graph\" id=\"graph0\" transform=\"scale(1 1) rotate(0) translate(4 632)\">\n<title>G</title>\n<polygon fill=\"#ffffff\" points=\"-4,4 -4,-632 810,-632 810,4 -4,4\" stroke=\"transparent\"/>\n<!-- 139619939382800 -->\n<g class=\"node\" id=\"node1\">\n<title>139619939382800</title>\n<polygon fill=\"none\" points=\"273.5,-581.5 273.5,-627.5 532.5,-627.5 532.5,-581.5 273.5,-581.5\" stroke=\"#000000\"/>\n<text fill=\"#000000\" font-family=\"Times,serif\" font-size=\"14.00\" text-anchor=\"middle\" x=\"330\" y=\"-600.8\">input: InputLayer</text>\n<polyline fill=\"none\" points=\"386.5,-581.5 386.5,-627.5 \" stroke=\"#000000\"/>\n<text fill=\"#000000\" font-family=\"Times,serif\" font-size=\"14.00\" text-anchor=\"middle\" x=\"414.5\" y=\"-612.3\">input:</text>\n<polyline fill=\"none\" points=\"386.5,-604.5 442.5,-604.5 \" stroke=\"#000000\"/>\n<text fill=\"#000000\" font-family=\"Times,serif\" font-size=\"14.00\" text-anchor=\"middle\" x=\"414.5\" y=\"-589.3\">output:</text>\n<polyline fill=\"none\" points=\"442.5,-581.5 442.5,-627.5 \" stroke=\"#000000\"/>\n<text fill=\"#000000\" font-family=\"Times,serif\" font-size=\"14.00\" text-anchor=\"middle\" x=\"487.5\" y=\"-612.3\">(None, 3279)</text>\n<polyline fill=\"none\" points=\"442.5,-604.5 532.5,-604.5 \" stroke=\"#000000\"/>\n<text fill=\"#000000\" font-family=\"Times,serif\" font-size=\"14.00\" text-anchor=\"middle\" x=\"487.5\" y=\"-589.3\">(None, 3279)</text>\n</g>\n<!-- 139619939385168 -->\n<g class=\"node\" id=\"node2\">\n<title>139619939385168</title>\n<polygon fill=\"none\" points=\"66,-498.5 66,-544.5 394,-544.5 394,-498.5 66,-498.5\" stroke=\"#000000\"/>\n<text fill=\"#000000\" font-family=\"Times,serif\" font-size=\"14.00\" text-anchor=\"middle\" x=\"157\" y=\"-517.8\">encoder_circular_in_0: Dense</text>\n<polyline fill=\"none\" points=\"248,-498.5 248,-544.5 \" stroke=\"#000000\"/>\n<text fill=\"#000000\" font-family=\"Times,serif\" font-size=\"14.00\" text-anchor=\"middle\" x=\"276\" y=\"-529.3\">input:</text>\n<polyline fill=\"none\" points=\"248,-521.5 304,-521.5 \" stroke=\"#000000\"/>\n<text fill=\"#000000\" font-family=\"Times,serif\" font-size=\"14.00\" text-anchor=\"middle\" x=\"276\" y=\"-506.3\">output:</text>\n<polyline fill=\"none\" points=\"304,-498.5 304,-544.5 \" stroke=\"#000000\"/>\n<text fill=\"#000000\" font-family=\"Times,serif\" font-size=\"14.00\" text-anchor=\"middle\" x=\"349\" y=\"-529.3\">(None, 3279)</text>\n<polyline fill=\"none\" points=\"304,-521.5 394,-521.5 \" stroke=\"#000000\"/>\n<text fill=\"#000000\" font-family=\"Times,serif\" font-size=\"14.00\" text-anchor=\"middle\" x=\"349\" y=\"-506.3\">(None, 1)</text>\n</g>\n<!-- 139619939382800&#45;&gt;139619939385168 -->\n<g class=\"edge\" id=\"edge1\">\n<title>139619939382800-&gt;139619939385168</title>\n<path d=\"M354.8099,-581.3799C333.9017,-571.3488 309.2514,-559.5224 287.404,-549.0406\" fill=\"none\" stroke=\"#000000\"/>\n<polygon fill=\"#000000\" points=\"288.7615,-545.81 278.2315,-544.6399 285.7335,-552.1212 288.7615,-545.81\" stroke=\"#000000\"/>\n</g>\n<!-- 139619939357648 -->\n<g class=\"node\" id=\"node3\">\n<title>139619939357648</title>\n<polygon fill=\"none\" points=\"412,-498.5 412,-544.5 740,-544.5 740,-498.5 412,-498.5\" stroke=\"#000000\"/>\n<text fill=\"#000000\" font-family=\"Times,serif\" font-size=\"14.00\" text-anchor=\"middle\" x=\"503\" y=\"-517.8\">encoder_circular_in_1: Dense</text>\n<polyline fill=\"none\" points=\"594,-498.5 594,-544.5 \" stroke=\"#000000\"/>\n<text fill=\"#000000\" font-family=\"Times,serif\" font-size=\"14.00\" text-anchor=\"middle\" x=\"622\" y=\"-529.3\">input:</text>\n<polyline fill=\"none\" points=\"594,-521.5 650,-521.5 \" stroke=\"#000000\"/>\n<text fill=\"#000000\" font-family=\"Times,serif\" font-size=\"14.00\" text-anchor=\"middle\" x=\"622\" y=\"-506.3\">output:</text>\n<polyline fill=\"none\" points=\"650,-498.5 650,-544.5 \" stroke=\"#000000\"/>\n<text fill=\"#000000\" font-family=\"Times,serif\" font-size=\"14.00\" text-anchor=\"middle\" x=\"695\" y=\"-529.3\">(None, 3279)</text>\n<polyline fill=\"none\" points=\"650,-521.5 740,-521.5 \" stroke=\"#000000\"/>\n<text fill=\"#000000\" font-family=\"Times,serif\" font-size=\"14.00\" text-anchor=\"middle\" x=\"695\" y=\"-506.3\">(None, 1)</text>\n</g>\n<!-- 139619939382800&#45;&gt;139619939357648 -->\n<g class=\"edge\" id=\"edge2\">\n<title>139619939382800-&gt;139619939357648</title>\n<path d=\"M451.1901,-581.3799C472.0983,-571.3488 496.7486,-559.5224 518.596,-549.0406\" fill=\"none\" stroke=\"#000000\"/>\n<polygon fill=\"#000000\" points=\"520.2665,-552.1212 527.7685,-544.6399 517.2385,-545.81 520.2665,-552.1212\" stroke=\"#000000\"/>\n</g>\n<!-- 139619939357712 -->\n<g class=\"node\" id=\"node4\">\n<title>139619939357712</title>\n<polygon fill=\"none\" points=\"156,-415.5 156,-461.5 394,-461.5 394,-415.5 156,-415.5\" stroke=\"#000000\"/>\n<text fill=\"#000000\" font-family=\"Times,serif\" font-size=\"14.00\" text-anchor=\"middle\" x=\"212\" y=\"-434.8\">x00_sqr: Lambda</text>\n<polyline fill=\"none\" points=\"268,-415.5 268,-461.5 \" stroke=\"#000000\"/>\n<text fill=\"#000000\" font-family=\"Times,serif\" font-size=\"14.00\" text-anchor=\"middle\" x=\"296\" y=\"-446.3\">input:</text>\n<polyline fill=\"none\" points=\"268,-438.5 324,-438.5 \" stroke=\"#000000\"/>\n<text fill=\"#000000\" font-family=\"Times,serif\" font-size=\"14.00\" text-anchor=\"middle\" x=\"296\" y=\"-423.3\">output:</text>\n<polyline fill=\"none\" points=\"324,-415.5 324,-461.5 \" stroke=\"#000000\"/>\n<text fill=\"#000000\" font-family=\"Times,serif\" font-size=\"14.00\" text-anchor=\"middle\" x=\"359\" y=\"-446.3\">(None, 1)</text>\n<polyline fill=\"none\" points=\"324,-438.5 394,-438.5 \" stroke=\"#000000\"/>\n<text fill=\"#000000\" font-family=\"Times,serif\" font-size=\"14.00\" text-anchor=\"middle\" x=\"359\" y=\"-423.3\">(None, 1)</text>\n</g>\n<!-- 139619939385168&#45;&gt;139619939357712 -->\n<g class=\"edge\" id=\"edge3\">\n<title>139619939385168-&gt;139619939357712</title>\n<path d=\"M242.535,-498.3799C247.1771,-489.8178 252.5284,-479.9477 257.5301,-470.7222\" fill=\"none\" stroke=\"#000000\"/>\n<polygon fill=\"#000000\" points=\"260.6867,-472.2433 262.3761,-461.784 254.533,-468.9069 260.6867,-472.2433\" stroke=\"#000000\"/>\n</g>\n<!-- 139619939357392 -->\n<g class=\"node\" id=\"node8\">\n<title>139619939357392</title>\n<polygon fill=\"none\" points=\"0,-166.5 0,-212.5 394,-212.5 394,-166.5 0,-166.5\" stroke=\"#000000\"/>\n<text fill=\"#000000\" font-family=\"Times,serif\" font-size=\"14.00\" text-anchor=\"middle\" x=\"100\" y=\"-185.8\">encoder_circular_out_0: Lambda</text>\n<polyline fill=\"none\" points=\"200,-166.5 200,-212.5 \" stroke=\"#000000\"/>\n<text fill=\"#000000\" font-family=\"Times,serif\" font-size=\"14.00\" text-anchor=\"middle\" x=\"228\" y=\"-197.3\">input:</text>\n<polyline fill=\"none\" points=\"200,-189.5 256,-189.5 \" stroke=\"#000000\"/>\n<text fill=\"#000000\" font-family=\"Times,serif\" font-size=\"14.00\" text-anchor=\"middle\" x=\"228\" y=\"-174.3\">output:</text>\n<polyline fill=\"none\" points=\"256,-166.5 256,-212.5 \" stroke=\"#000000\"/>\n<text fill=\"#000000\" font-family=\"Times,serif\" font-size=\"14.00\" text-anchor=\"middle\" x=\"325\" y=\"-197.3\">[(None, 1), (None, 1)]</text>\n<polyline fill=\"none\" points=\"256,-189.5 394,-189.5 \" stroke=\"#000000\"/>\n<text fill=\"#000000\" font-family=\"Times,serif\" font-size=\"14.00\" text-anchor=\"middle\" x=\"325\" y=\"-174.3\">(None, 1)</text>\n</g>\n<!-- 139619939385168&#45;&gt;139619939357392 -->\n<g class=\"edge\" id=\"edge8\">\n<title>139619939385168-&gt;139619939357392</title>\n<path d=\"M181.9367,-498.2785C168.1081,-489.0397 154.6944,-476.9831 147,-462 106.1657,-382.4845 150.968,-274.8104 178.5916,-221.7652\" fill=\"none\" stroke=\"#000000\"/>\n<polygon fill=\"#000000\" points=\"181.7448,-223.2903 183.3593,-212.8192 175.5673,-219.9981 181.7448,-223.2903\" stroke=\"#000000\"/>\n</g>\n<!-- 139624530543568 -->\n<g class=\"node\" id=\"node5\">\n<title>139624530543568</title>\n<polygon fill=\"none\" points=\"412,-415.5 412,-461.5 650,-461.5 650,-415.5 412,-415.5\" stroke=\"#000000\"/>\n<text fill=\"#000000\" font-family=\"Times,serif\" font-size=\"14.00\" text-anchor=\"middle\" x=\"468\" y=\"-434.8\">x01_sqr: Lambda</text>\n<polyline fill=\"none\" points=\"524,-415.5 524,-461.5 \" stroke=\"#000000\"/>\n<text fill=\"#000000\" font-family=\"Times,serif\" font-size=\"14.00\" text-anchor=\"middle\" x=\"552\" y=\"-446.3\">input:</text>\n<polyline fill=\"none\" points=\"524,-438.5 580,-438.5 \" stroke=\"#000000\"/>\n<text fill=\"#000000\" font-family=\"Times,serif\" font-size=\"14.00\" text-anchor=\"middle\" x=\"552\" y=\"-423.3\">output:</text>\n<polyline fill=\"none\" points=\"580,-415.5 580,-461.5 \" stroke=\"#000000\"/>\n<text fill=\"#000000\" font-family=\"Times,serif\" font-size=\"14.00\" text-anchor=\"middle\" x=\"615\" y=\"-446.3\">(None, 1)</text>\n<polyline fill=\"none\" points=\"580,-438.5 650,-438.5 \" stroke=\"#000000\"/>\n<text fill=\"#000000\" font-family=\"Times,serif\" font-size=\"14.00\" text-anchor=\"middle\" x=\"615\" y=\"-423.3\">(None, 1)</text>\n</g>\n<!-- 139619939357648&#45;&gt;139624530543568 -->\n<g class=\"edge\" id=\"edge4\">\n<title>139619939357648-&gt;139624530543568</title>\n<path d=\"M563.465,-498.3799C558.8229,-489.8178 553.4716,-479.9477 548.4699,-470.7222\" fill=\"none\" stroke=\"#000000\"/>\n<polygon fill=\"#000000\" points=\"551.467,-468.9069 543.6239,-461.784 545.3133,-472.2433 551.467,-468.9069\" stroke=\"#000000\"/>\n</g>\n<!-- 139619939358928 -->\n<g class=\"node\" id=\"node9\">\n<title>139619939358928</title>\n<polygon fill=\"none\" points=\"412,-166.5 412,-212.5 806,-212.5 806,-166.5 412,-166.5\" stroke=\"#000000\"/>\n<text fill=\"#000000\" font-family=\"Times,serif\" font-size=\"14.00\" text-anchor=\"middle\" x=\"512\" y=\"-185.8\">encoder_circular_out_1: Lambda</text>\n<polyline fill=\"none\" points=\"612,-166.5 612,-212.5 \" stroke=\"#000000\"/>\n<text fill=\"#000000\" font-family=\"Times,serif\" font-size=\"14.00\" text-anchor=\"middle\" x=\"640\" y=\"-197.3\">input:</text>\n<polyline fill=\"none\" points=\"612,-189.5 668,-189.5 \" stroke=\"#000000\"/>\n<text fill=\"#000000\" font-family=\"Times,serif\" font-size=\"14.00\" text-anchor=\"middle\" x=\"640\" y=\"-174.3\">output:</text>\n<polyline fill=\"none\" points=\"668,-166.5 668,-212.5 \" stroke=\"#000000\"/>\n<text fill=\"#000000\" font-family=\"Times,serif\" font-size=\"14.00\" text-anchor=\"middle\" x=\"737\" y=\"-197.3\">[(None, 1), (None, 1)]</text>\n<polyline fill=\"none\" points=\"668,-189.5 806,-189.5 \" stroke=\"#000000\"/>\n<text fill=\"#000000\" font-family=\"Times,serif\" font-size=\"14.00\" text-anchor=\"middle\" x=\"737\" y=\"-174.3\">(None, 1)</text>\n</g>\n<!-- 139619939357648&#45;&gt;139619939358928 -->\n<g class=\"edge\" id=\"edge10\">\n<title>139619939357648-&gt;139619939358928</title>\n<path d=\"M624.0633,-498.2785C637.8919,-489.0397 651.3056,-476.9831 659,-462 699.8343,-382.4845 655.032,-274.8104 627.4084,-221.7652\" fill=\"none\" stroke=\"#000000\"/>\n<polygon fill=\"#000000\" points=\"630.4327,-219.9981 622.6407,-212.8192 624.2552,-223.2903 630.4327,-219.9981\" stroke=\"#000000\"/>\n</g>\n<!-- 139623256151824 -->\n<g class=\"node\" id=\"node6\">\n<title>139623256151824</title>\n<polygon fill=\"none\" points=\"261.5,-332.5 261.5,-378.5 544.5,-378.5 544.5,-332.5 261.5,-332.5\" stroke=\"#000000\"/>\n<text fill=\"#000000\" font-family=\"Times,serif\" font-size=\"14.00\" text-anchor=\"middle\" x=\"306\" y=\"-351.8\">sqr_len: Add</text>\n<polyline fill=\"none\" points=\"350.5,-332.5 350.5,-378.5 \" stroke=\"#000000\"/>\n<text fill=\"#000000\" font-family=\"Times,serif\" font-size=\"14.00\" text-anchor=\"middle\" x=\"378.5\" y=\"-363.3\">input:</text>\n<polyline fill=\"none\" points=\"350.5,-355.5 406.5,-355.5 \" stroke=\"#000000\"/>\n<text fill=\"#000000\" font-family=\"Times,serif\" font-size=\"14.00\" text-anchor=\"middle\" x=\"378.5\" y=\"-340.3\">output:</text>\n<polyline fill=\"none\" points=\"406.5,-332.5 406.5,-378.5 \" stroke=\"#000000\"/>\n<text fill=\"#000000\" font-family=\"Times,serif\" font-size=\"14.00\" text-anchor=\"middle\" x=\"475.5\" y=\"-363.3\">[(None, 1), (None, 1)]</text>\n<polyline fill=\"none\" points=\"406.5,-355.5 544.5,-355.5 \" stroke=\"#000000\"/>\n<text fill=\"#000000\" font-family=\"Times,serif\" font-size=\"14.00\" text-anchor=\"middle\" x=\"475.5\" y=\"-340.3\">(None, 1)</text>\n</g>\n<!-- 139619939357712&#45;&gt;139623256151824 -->\n<g class=\"edge\" id=\"edge5\">\n<title>139619939357712-&gt;139623256151824</title>\n<path d=\"M310.6551,-415.3799C325.5098,-405.7475 342.9176,-394.4597 358.5906,-384.2967\" fill=\"none\" stroke=\"#000000\"/>\n<polygon fill=\"#000000\" points=\"360.6059,-387.1614 367.0921,-378.784 356.7975,-381.2881 360.6059,-387.1614\" stroke=\"#000000\"/>\n</g>\n<!-- 139624530543568&#45;&gt;139623256151824 -->\n<g class=\"edge\" id=\"edge6\">\n<title>139624530543568-&gt;139623256151824</title>\n<path d=\"M495.3449,-415.3799C480.4902,-405.7475 463.0824,-394.4597 447.4094,-384.2967\" fill=\"none\" stroke=\"#000000\"/>\n<polygon fill=\"#000000\" points=\"449.2025,-381.2881 438.9079,-378.784 445.3941,-387.1614 449.2025,-381.2881\" stroke=\"#000000\"/>\n</g>\n<!-- 139619944535760 -->\n<g class=\"node\" id=\"node7\">\n<title>139619944535760</title>\n<polygon fill=\"none\" points=\"297.5,-249.5 297.5,-295.5 508.5,-295.5 508.5,-249.5 297.5,-249.5\" stroke=\"#000000\"/>\n<text fill=\"#000000\" font-family=\"Times,serif\" font-size=\"14.00\" text-anchor=\"middle\" x=\"340\" y=\"-268.8\">len: Lambda</text>\n<polyline fill=\"none\" points=\"382.5,-249.5 382.5,-295.5 \" stroke=\"#000000\"/>\n<text fill=\"#000000\" font-family=\"Times,serif\" font-size=\"14.00\" text-anchor=\"middle\" x=\"410.5\" y=\"-280.3\">input:</text>\n<polyline fill=\"none\" points=\"382.5,-272.5 438.5,-272.5 \" stroke=\"#000000\"/>\n<text fill=\"#000000\" font-family=\"Times,serif\" font-size=\"14.00\" text-anchor=\"middle\" x=\"410.5\" y=\"-257.3\">output:</text>\n<polyline fill=\"none\" points=\"438.5,-249.5 438.5,-295.5 \" stroke=\"#000000\"/>\n<text fill=\"#000000\" font-family=\"Times,serif\" font-size=\"14.00\" text-anchor=\"middle\" x=\"473.5\" y=\"-280.3\">(None, 1)</text>\n<polyline fill=\"none\" points=\"438.5,-272.5 508.5,-272.5 \" stroke=\"#000000\"/>\n<text fill=\"#000000\" font-family=\"Times,serif\" font-size=\"14.00\" text-anchor=\"middle\" x=\"473.5\" y=\"-257.3\">(None, 1)</text>\n</g>\n<!-- 139623256151824&#45;&gt;139619944535760 -->\n<g class=\"edge\" id=\"edge7\">\n<title>139623256151824-&gt;139619944535760</title>\n<path d=\"M403,-332.3799C403,-324.1745 403,-314.7679 403,-305.8786\" fill=\"none\" stroke=\"#000000\"/>\n<polygon fill=\"#000000\" points=\"406.5001,-305.784 403,-295.784 399.5001,-305.784 406.5001,-305.784\" stroke=\"#000000\"/>\n</g>\n<!-- 139619944535760&#45;&gt;139619939357392 -->\n<g class=\"edge\" id=\"edge9\">\n<title>139619944535760-&gt;139619939357392</title>\n<path d=\"M345.8911,-249.4901C320.4395,-239.2353 290.2888,-227.0872 263.7985,-216.414\" fill=\"none\" stroke=\"#000000\"/>\n<polygon fill=\"#000000\" points=\"264.8035,-213.0455 254.22,-212.5547 262.1874,-219.5383 264.8035,-213.0455\" stroke=\"#000000\"/>\n</g>\n<!-- 139619944535760&#45;&gt;139619939358928 -->\n<g class=\"edge\" id=\"edge11\">\n<title>139619944535760-&gt;139619939358928</title>\n<path d=\"M460.1089,-249.4901C485.5605,-239.2353 515.7112,-227.0872 542.2015,-216.414\" fill=\"none\" stroke=\"#000000\"/>\n<polygon fill=\"#000000\" points=\"543.8126,-219.5383 551.78,-212.5547 541.1965,-213.0455 543.8126,-219.5383\" stroke=\"#000000\"/>\n</g>\n<!-- 139619939359568 -->\n<g class=\"node\" id=\"node10\">\n<title>139619939359568</title>\n<polygon fill=\"none\" points=\"229.5,-83.5 229.5,-129.5 576.5,-129.5 576.5,-83.5 229.5,-83.5\" stroke=\"#000000\"/>\n<text fill=\"#000000\" font-family=\"Times,serif\" font-size=\"14.00\" text-anchor=\"middle\" x=\"306\" y=\"-102.8\">embedding: Concatenate</text>\n<polyline fill=\"none\" points=\"382.5,-83.5 382.5,-129.5 \" stroke=\"#000000\"/>\n<text fill=\"#000000\" font-family=\"Times,serif\" font-size=\"14.00\" text-anchor=\"middle\" x=\"410.5\" y=\"-114.3\">input:</text>\n<polyline fill=\"none\" points=\"382.5,-106.5 438.5,-106.5 \" stroke=\"#000000\"/>\n<text fill=\"#000000\" font-family=\"Times,serif\" font-size=\"14.00\" text-anchor=\"middle\" x=\"410.5\" y=\"-91.3\">output:</text>\n<polyline fill=\"none\" points=\"438.5,-83.5 438.5,-129.5 \" stroke=\"#000000\"/>\n<text fill=\"#000000\" font-family=\"Times,serif\" font-size=\"14.00\" text-anchor=\"middle\" x=\"507.5\" y=\"-114.3\">[(None, 1), (None, 1)]</text>\n<polyline fill=\"none\" points=\"438.5,-106.5 576.5,-106.5 \" stroke=\"#000000\"/>\n<text fill=\"#000000\" font-family=\"Times,serif\" font-size=\"14.00\" text-anchor=\"middle\" x=\"507.5\" y=\"-91.3\">(None, 2)</text>\n</g>\n<!-- 139619939357392&#45;&gt;139619939359568 -->\n<g class=\"edge\" id=\"edge12\">\n<title>139619939357392-&gt;139619939359568</title>\n<path d=\"M254.1089,-166.4901C279.5605,-156.2353 309.7112,-144.0872 336.2015,-133.414\" fill=\"none\" stroke=\"#000000\"/>\n<polygon fill=\"#000000\" points=\"337.8126,-136.5383 345.78,-129.5547 335.1965,-130.0455 337.8126,-136.5383\" stroke=\"#000000\"/>\n</g>\n<!-- 139619939358928&#45;&gt;139619939359568 -->\n<g class=\"edge\" id=\"edge13\">\n<title>139619939358928-&gt;139619939359568</title>\n<path d=\"M551.8911,-166.4901C526.4395,-156.2353 496.2888,-144.0872 469.7985,-133.414\" fill=\"none\" stroke=\"#000000\"/>\n<polygon fill=\"#000000\" points=\"470.8035,-130.0455 460.22,-129.5547 468.1874,-136.5383 470.8035,-130.0455\" stroke=\"#000000\"/>\n</g>\n<!-- 139619939407184 -->\n<g class=\"node\" id=\"node11\">\n<title>139619939407184</title>\n<polygon fill=\"none\" points=\"283.5,-.5 283.5,-46.5 522.5,-46.5 522.5,-.5 283.5,-.5\" stroke=\"#000000\"/>\n<text fill=\"#000000\" font-family=\"Times,serif\" font-size=\"14.00\" text-anchor=\"middle\" x=\"330\" y=\"-19.8\">output: Dense</text>\n<polyline fill=\"none\" points=\"376.5,-.5 376.5,-46.5 \" stroke=\"#000000\"/>\n<text fill=\"#000000\" font-family=\"Times,serif\" font-size=\"14.00\" text-anchor=\"middle\" x=\"404.5\" y=\"-31.3\">input:</text>\n<polyline fill=\"none\" points=\"376.5,-23.5 432.5,-23.5 \" stroke=\"#000000\"/>\n<text fill=\"#000000\" font-family=\"Times,serif\" font-size=\"14.00\" text-anchor=\"middle\" x=\"404.5\" y=\"-8.3\">output:</text>\n<polyline fill=\"none\" points=\"432.5,-.5 432.5,-46.5 \" stroke=\"#000000\"/>\n<text fill=\"#000000\" font-family=\"Times,serif\" font-size=\"14.00\" text-anchor=\"middle\" x=\"477.5\" y=\"-31.3\">(None, 2)</text>\n<polyline fill=\"none\" points=\"432.5,-23.5 522.5,-23.5 \" stroke=\"#000000\"/>\n<text fill=\"#000000\" font-family=\"Times,serif\" font-size=\"14.00\" text-anchor=\"middle\" x=\"477.5\" y=\"-8.3\">(None, 3279)</text>\n</g>\n<!-- 139619939359568&#45;&gt;139619939407184 -->\n<g class=\"edge\" id=\"edge14\">\n<title>139619939359568-&gt;139619939407184</title>\n<path d=\"M403,-83.3799C403,-75.1745 403,-65.7679 403,-56.8786\" fill=\"none\" stroke=\"#000000\"/>\n<polygon fill=\"#000000\" points=\"406.5001,-56.784 403,-46.784 399.5001,-56.784 406.5001,-56.784\" stroke=\"#000000\"/>\n</g>\n</g>\n</svg>"
     },
     "metadata": {},
     "output_type": "display_data"
    }
   ],
   "source": [
    "model = cyclops(data.shape[1])\n",
    "display(model.show_structure())"
   ],
   "metadata": {
    "collapsed": false,
    "pycharm": {
     "name": "#%%\n",
     "is_executing": false
    }
   }
  },
  {
   "cell_type": "code",
   "execution_count": 9,
   "outputs": [
    {
     "name": "stdout",
     "text": [
      "WARNING:tensorflow:From /home/shaoheng/miniconda3/envs/tf-gpu/lib/python3.7/site-packages/keras/optimizers.py:790: The name tf.train.Optimizer is deprecated. Please use tf.compat.v1.train.Optimizer instead.\n\n",
      "WARNING:tensorflow:From /home/shaoheng/miniconda3/envs/tf-gpu/lib/python3.7/site-packages/tensorflow/python/ops/math_grad.py:1250: add_dispatch_support.<locals>.wrapper (from tensorflow.python.ops.array_ops) is deprecated and will be removed in a future version.\nInstructions for updating:\nUse tf.where in 2.0, which has the same broadcast rule as np.where\n",
      "WARNING:tensorflow:From /home/shaoheng/miniconda3/envs/tf-gpu/lib/python3.7/site-packages/keras/backend/tensorflow_backend.py:986: The name tf.assign_add is deprecated. Please use tf.compat.v1.assign_add instead.\n\n",
      "WARNING:tensorflow:From /home/shaoheng/miniconda3/envs/tf-gpu/lib/python3.7/site-packages/keras/backend/tensorflow_backend.py:973: The name tf.assign is deprecated. Please use tf.compat.v1.assign instead.\n\n",
      "epoch: 20/400, loss:  0.9995, time elapsed:  61.85s, time left:  1175.15s\n",
      "epoch: 40/400, loss:  0.9995, time elapsed:  103.56s, time left:  932.04s\n",
      "epoch: 60/400, loss:  0.9995, time elapsed:  145.53s, time left:  824.69s\n",
      "epoch: 80/400, loss:  0.9995, time elapsed:  186.96s, time left:  747.83s\n",
      "epoch: 100/400, loss:  0.9995, time elapsed:  229.01s, time left:  687.03s\n",
      "epoch: 120/400, loss:  0.9995, time elapsed:  270.73s, time left:  631.69s\n",
      "epoch: 140/400, loss:  0.9995, time elapsed:  312.20s, time left:  579.80s\n",
      "epoch: 160/400, loss:  0.9995, time elapsed:  353.71s, time left:  530.57s\n",
      "epoch: 180/400, loss:  0.9995, time elapsed:  395.40s, time left:  483.26s\n",
      "epoch: 200/400, loss:  0.9995, time elapsed:  437.70s, time left:  437.70s\n",
      "epoch: 220/400, loss:  0.9995, time elapsed:  480.77s, time left:  393.36s\n",
      "epoch: 240/400, loss:  0.9995, time elapsed:  522.24s, time left:  348.16s\n",
      "epoch: 260/400, loss:  0.9995, time elapsed:  563.77s, time left:  303.57s\n",
      "epoch: 280/400, loss:  0.9995, time elapsed:  605.48s, time left:  259.49s\n",
      "epoch: 300/400, loss:  0.9995, time elapsed:  647.21s, time left:  215.74s\n",
      "epoch: 320/400, loss:  0.9995, time elapsed:  689.04s, time left:  172.26s\n",
      "epoch: 340/400, loss:  0.9995, time elapsed:  730.55s, time left:  128.92s\n",
      "epoch: 360/400, loss:  0.9995, time elapsed:  772.06s, time left:  85.78s\n",
      "epoch: 380/400, loss:  0.9995, time elapsed:  813.56s, time left:  42.82s\n",
      "epoch: 400/400, loss:  0.9995, time elapsed:  855.00s, time left:  0.00s\n"
     ],
     "output_type": "stream"
    },
    {
     "data": {
      "text/plain": "<keras.callbacks.History at 0x7efbcc5cca90>"
     },
     "metadata": {},
     "output_type": "execute_result",
     "execution_count": 9
    }
   ],
   "source": [
    "model.train(data, epochs=400, verbose=20, rate=2e-4)"
   ],
   "metadata": {
    "collapsed": false,
    "pycharm": {
     "name": "#%%\n",
     "is_executing": false
    }
   }
  },
  {
   "cell_type": "code",
   "execution_count": 10,
   "outputs": [],
   "source": [
    "pseudotime = model.predict_pseudotime(data)\n"
   ],
   "metadata": {
    "collapsed": false,
    "pycharm": {
     "name": "#%%\n",
     "is_executing": false
    }
   }
  },
  {
   "cell_type": "markdown",
   "source": [
    "Note that this metric, although similar, is not exactly the same as the one we reported using mclust in R.\n",
    "\n",
    "We use a non-parametric parzen window method to estimate the distribution here, \n",
    "while mclust uses a parametric normal mixture."
   ],
   "metadata": {
    "collapsed": false,
    "pycharm": {
     "name": "#%% md\n",
     "is_executing": false
    }
   }
  },
  {
   "cell_type": "code",
   "execution_count": 11,
   "outputs": [],
   "source": [
    "\n",
    "mat2hdf(pseudotime, '/home/shaoheng/Documents/data/hESC-droplet/GSE125416/GSE125416-cyclops-pseudotime.h5')"
   ],
   "metadata": {
    "collapsed": false,
    "pycharm": {
     "name": "#%%\n",
     "is_executing": false
    }
   }
  }
 ],
 "metadata": {
  "kernelspec": {
   "name": "optirun_python3",
   "language": "python",
   "display_name": "Python 3 [GPU]"
  },
  "language_info": {
   "codemirror_mode": {
    "name": "ipython",
    "version": 2
   },
   "file_extension": ".py",
   "mimetype": "text/x-python",
   "name": "python",
   "nbconvert_exporter": "python",
   "pygments_lexer": "ipython2",
   "version": "2.7.6"
  },
  "pycharm": {
   "stem_cell": {
    "cell_type": "raw",
    "source": [],
    "metadata": {
     "collapsed": false
    }
   }
  }
 },
 "nbformat": 4,
 "nbformat_minor": 0
}