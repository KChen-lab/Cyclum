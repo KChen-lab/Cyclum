{
 "cells": [
  {
   "cell_type": "code",
   "execution_count": 12,
   "outputs": [],
   "source": [
    "import pandas as pd\n",
    "from cyclum.hdfrw import mat2hdf"
   ],
   "metadata": {
    "collapsed": false,
    "pycharm": {
     "name": "#%%\n",
     "is_executing": false
    }
   }
  },
  {
   "cell_type": "code",
   "source": [
    "raw_Y = pd.read_pickle('/home/shaoheng/Documents/data/McDavid/pc3_df.pkl').T\n",
    "cpt = pd.read_pickle('/home/shaoheng/Documents/data/McDavid/pc3_cpt.pkl').values.squeeze().tolist()\n",
    "mat2hdf(raw_Y, '/home/shaoheng/Documents/data/McDavid/pc3.h5')\n",
    "mat2hdf(cpt, '/home/shaoheng/Documents/data/McDavid/pc3-label.h5')"
   ],
   "metadata": {
    "collapsed": false,
    "pycharm": {
     "name": "#%%\n",
     "is_executing": false
    }
   },
   "execution_count": 13,
   "outputs": []
  },
  {
   "cell_type": "code",
   "execution_count": 14,
   "outputs": [],
   "source": [
    "raw_Y = pd.read_pickle('/home/shaoheng/Documents/data/McDavid/mb_df.pkl').T\n",
    "cpt = pd.read_pickle('/home/shaoheng/Documents/data/McDavid/mb_cpt.pkl').values.squeeze().tolist()\n",
    "mat2hdf(raw_Y, '/home/shaoheng/Documents/data/McDavid/mb.h5')\n",
    "mat2hdf(cpt, '/home/shaoheng/Documents/data/McDavid/mb-label.h5')"
   ],
   "metadata": {
    "collapsed": false,
    "pycharm": {
     "name": "#%%\n",
     "is_executing": false
    }
   }
  },
  {
   "cell_type": "code",
   "execution_count": 16,
   "outputs": [],
   "source": [
    "raw_Y = pd.read_pickle('/home/shaoheng/Documents/data/McDavid/h9_df.pkl').T\n",
    "cpt = pd.read_pickle('/home/shaoheng/Documents/data/McDavid/h9_cpt.pkl').values.squeeze().tolist()\n",
    "mat2hdf(raw_Y, '/home/shaoheng/Documents/data/McDavid/h9.h5')\n",
    "mat2hdf(cpt, '/home/shaoheng/Documents/data/McDavid/h9-label.h5')"
   ],
   "metadata": {
    "collapsed": false,
    "pycharm": {
     "name": "#%%\n",
     "is_executing": false
    }
   }
  },
  {
   "cell_type": "code",
   "execution_count": 15,
   "outputs": [],
   "source": [],
   "metadata": {
    "collapsed": false,
    "pycharm": {
     "name": "#%%\n",
     "is_executing": false
    }
   }
  }
 ],
 "metadata": {
  "kernelspec": {
   "display_name": "Python 3",
   "language": "python",
   "name": "python3"
  },
  "language_info": {
   "codemirror_mode": {
    "name": "ipython",
    "version": 2
   },
   "file_extension": ".py",
   "mimetype": "text/x-python",
   "name": "python",
   "nbconvert_exporter": "python",
   "pygments_lexer": "ipython2",
   "version": "2.7.6"
  },
  "pycharm": {
   "stem_cell": {
    "cell_type": "raw",
    "source": [],
    "metadata": {
     "collapsed": false
    }
   }
  }
 },
 "nbformat": 4,
 "nbformat_minor": 0
}