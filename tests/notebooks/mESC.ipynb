{
 "cells": [
  {
   "cell_type": "markdown",
   "metadata": {},
   "source": [
    "# mESC analysis using Cyclum with Auto Tuning\n",
    "\n",
    "We still use the mESC dataset. For simplicity we have converted the dataset into TPM.\n",
    "The original count data is available at ArrayExpress: [E-MTAB-2805](https://www.ebi.ac.uk/arrayexpress/experiments/E-MTAB-2805/). Tools to transform data are also provided and explained in the following sections."
   ]
  },
  {
   "cell_type": "code",
   "execution_count": null,
   "metadata": {},
   "outputs": [],
   "source": [
    "# Add ../../ to path\n",
    "import os,sys,inspect\n",
    "current_dir = os.path.dirname(os.path.abspath(inspect.getfile(inspect.currentframe())))\n",
    "parent_dir = os.path.dirname(current_dir)\n",
    "sys.path.insert(0, parent_dir) "
   ]
  },
  {
   "cell_type": "markdown",
   "metadata": {},
   "source": [
    "## Import necessary packages"
   ]
  },
  {
   "cell_type": "code",
   "execution_count": 1,
   "metadata": {
    "pycharm": {
     "is_executing": false,
     "name": "#%%\n"
    }
   },
   "outputs": [],
   "source": [
    "%matplotlib inline\n",
    "%load_ext autoreload\n",
    "%autoreload 1"
   ]
  },
  {
   "cell_type": "code",
   "execution_count": 2,
   "metadata": {
    "pycharm": {
     "is_executing": false,
     "name": "#%%\n"
    }
   },
   "outputs": [],
   "source": [
    "import pandas as pd\n",
    "import numpy as np\n",
    "import sklearn as skl"
   ]
  },
  {
   "cell_type": "code",
   "execution_count": 3,
   "metadata": {
    "pycharm": {
     "is_executing": false,
     "name": "#%%\n"
    }
   },
   "outputs": [
    {
     "name": "stderr",
     "output_type": "stream",
     "text": [
      "Using TensorFlow backend.\n"
     ]
    }
   ],
   "source": [
    "import cyclum.tuning\n",
    "import cyclum.models\n",
    "from cyclum import writer\n"
   ]
  },
  {
   "cell_type": "markdown",
   "metadata": {},
   "source": [
    "## Read data\n",
    "Here we have label, so we load both. However, the label is not used until evaluation."
   ]
  },
  {
   "cell_type": "code",
   "execution_count": 4,
   "metadata": {
    "pycharm": {
     "is_executing": false,
     "name": "#%%\n"
    }
   },
   "outputs": [],
   "source": [
    "input_file_mask = '/home/shaoheng/Documents/data/mESC/mesc-tpm'\n",
    "\n",
    "def preprocess(input_file_mask):\n",
    "    \"\"\"\n",
    "    Read in data and perform log transform (log2(x+1)), centering (mean = 1) and scaling (sd = 1).\n",
    "    \"\"\"\n",
    "    tpm = writer.read_df_from_binary(input_file_mask).T\n",
    "    sttpm = pd.DataFrame(data=skl.preprocessing.scale(np.log2(tpm.values + 1)), index=tpm.index, columns=tpm.columns)\n",
    "    \n",
    "    label = pd.read_csv(input_file_mask + '-label.txt', sep=\"\\t\", index_col=0).T\n",
    "    return sttpm, label\n",
    "\n",
    "sttpm, label = preprocess(input_file_mask)"
   ]
  },
  {
   "cell_type": "code",
   "execution_count": 5,
   "metadata": {
    "pycharm": {
     "is_executing": false,
     "name": "#%%\n"
    }
   },
   "outputs": [
    {
     "data": {
      "text/plain": [
       "(288, 38293)"
      ]
     },
     "execution_count": 5,
     "metadata": {},
     "output_type": "execute_result"
    }
   ],
   "source": [
    "sttpm.shape"
   ]
  },
  {
   "cell_type": "markdown",
   "metadata": {},
   "source": [
    "There is no convention whether cells should be columns or rows. Here we require cells to be rows."
   ]
  },
  {
   "cell_type": "markdown",
   "metadata": {},
   "source": [
    "## Set up the model and fit the model"
   ]
  },
  {
   "cell_type": "code",
   "execution_count": 6,
   "metadata": {
    "pycharm": {
     "is_executing": false,
     "name": "#%%\n"
    }
   },
   "outputs": [
    {
     "name": "stdout",
     "output_type": "stream",
     "text": [
      "Auto tuning number of linear components...\n",
      "Performing PCA...\n",
      "Training Autoencoder with...\n",
      "    0 linear dimensions...\n",
      "WARNING:tensorflow:From /home/shaoheng/miniconda3/envs/tf-gpu/lib/python3.7/site-packages/keras/backend/tensorflow_backend.py:517: The name tf.placeholder is deprecated. Please use tf.compat.v1.placeholder instead.\n",
      "\n",
      "WARNING:tensorflow:From /home/shaoheng/miniconda3/envs/tf-gpu/lib/python3.7/site-packages/keras/backend/tensorflow_backend.py:4185: The name tf.truncated_normal is deprecated. Please use tf.random.truncated_normal instead.\n",
      "\n",
      "WARNING:tensorflow:From /home/shaoheng/miniconda3/envs/tf-gpu/lib/python3.7/site-packages/keras/backend/tensorflow_backend.py:131: The name tf.get_default_graph is deprecated. Please use tf.compat.v1.get_default_graph instead.\n",
      "\n",
      "WARNING:tensorflow:From /home/shaoheng/miniconda3/envs/tf-gpu/lib/python3.7/site-packages/keras/backend/tensorflow_backend.py:133: The name tf.placeholder_with_default is deprecated. Please use tf.compat.v1.placeholder_with_default instead.\n",
      "\n",
      "WARNING:tensorflow:From /home/shaoheng/miniconda3/envs/tf-gpu/lib/python3.7/site-packages/keras/backend/tensorflow_backend.py:3445: calling dropout (from tensorflow.python.ops.nn_ops) with keep_prob is deprecated and will be removed in a future version.\n",
      "Instructions for updating:\n",
      "Please use `rate` instead of `keep_prob`. Rate should be set to `rate = 1 - keep_prob`.\n",
      "WARNING:tensorflow:From /home/shaoheng/miniconda3/envs/tf-gpu/lib/python3.7/site-packages/keras/optimizers.py:790: The name tf.train.Optimizer is deprecated. Please use tf.compat.v1.train.Optimizer instead.\n",
      "\n",
      "WARNING:tensorflow:From /home/shaoheng/miniconda3/envs/tf-gpu/lib/python3.7/site-packages/keras/backend/tensorflow_backend.py:986: The name tf.assign_add is deprecated. Please use tf.compat.v1.assign_add instead.\n",
      "\n",
      "epoch: 100/500, loss:  0.7162, time elapsed:  35.26s, time left:  141.03s\n",
      "epoch: 200/500, loss:  0.7093, time elapsed:  68.30s, time left:  102.45s\n",
      "epoch: 300/500, loss:  0.7061, time elapsed:  100.07s, time left:  66.72s\n",
      "epoch: 400/500, loss:  0.7047, time elapsed:  131.67s, time left:  32.92s\n",
      "epoch: 500/500, loss:  0.7041, time elapsed:  163.12s, time left:  0.00s\n",
      "[0.7040824558999803]\n",
      "[0.683471149628097, 0.6739115545490159, 0.6668004262298473, 0.6607528323259702, 0.6550283023863888, 0.6501622374829168]\n",
      "    1 linear dimensions...\n",
      "epoch: 100/500, loss:  0.6775, time elapsed:  32.51s, time left:  130.04s\n",
      "epoch: 200/500, loss:  0.6744, time elapsed:  64.71s, time left:  97.06s\n",
      "epoch: 300/500, loss:  0.6727, time elapsed:  96.88s, time left:  64.59s\n",
      "epoch: 400/500, loss:  0.6726, time elapsed:  129.06s, time left:  32.27s\n",
      "epoch: 500/500, loss:  0.6722, time elapsed:  161.26s, time left:  0.00s\n",
      "[0.7040824558999803, 0.6721512542830573]\n",
      "[0.683471149628097, 0.6739115545490159, 0.6668004262298473, 0.6607528323259702, 0.6550283023863888, 0.6501622374829168]\n",
      "    2 linear dimensions...\n",
      "epoch: 100/500, loss:  0.6706, time elapsed:  32.95s, time left:  131.80s\n",
      "epoch: 200/500, loss:  0.6677, time elapsed:  65.61s, time left:  98.41s\n",
      "epoch: 300/500, loss:  0.6668, time elapsed:  98.19s, time left:  65.46s\n",
      "epoch: 400/500, loss:  0.6663, time elapsed:  131.01s, time left:  32.75s\n",
      "epoch: 500/500, loss:  0.6663, time elapsed:  164.27s, time left:  0.00s\n",
      "[0.7040824558999803, 0.6721512542830573, 0.6662525137265524]\n",
      "[0.683471149628097, 0.6739115545490159, 0.6668004262298473, 0.6607528323259702, 0.6550283023863888, 0.6501622374829168]\n",
      "Found! Use 1 linear components...\n",
      "Early stop disabled, continue to check all cases...\n",
      "    3 linear dimensions...\n",
      "epoch: 100/500, loss:  0.6644, time elapsed:  34.41s, time left:  137.64s\n",
      "epoch: 200/500, loss:  0.6617, time elapsed:  69.21s, time left:  103.81s\n",
      "epoch: 300/500, loss:  0.6607, time elapsed:  102.78s, time left:  68.52s\n",
      "epoch: 400/500, loss:  0.6602, time elapsed:  136.87s, time left:  34.22s\n",
      "epoch: 500/500, loss:  0.6599, time elapsed:  170.57s, time left:  0.00s\n",
      "[0.7040824558999803, 0.6721512542830573, 0.6662525137265524, 0.6599388851059808]\n",
      "[0.683471149628097, 0.6739115545490159, 0.6668004262298473, 0.6607528323259702, 0.6550283023863888, 0.6501622374829168]\n",
      "    4 linear dimensions...\n",
      "epoch: 100/500, loss:  0.6589, time elapsed:  34.40s, time left:  137.59s\n",
      "epoch: 200/500, loss:  0.6564, time elapsed:  70.24s, time left:  105.36s\n",
      "epoch: 300/500, loss:  0.6556, time elapsed:  105.24s, time left:  70.16s\n",
      "epoch: 400/500, loss:  0.6550, time elapsed:  139.00s, time left:  34.75s\n",
      "epoch: 500/500, loss:  0.6547, time elapsed:  173.16s, time left:  0.00s\n",
      "[0.7040824558999803, 0.6721512542830573, 0.6662525137265524, 0.6599388851059808, 0.6546829673979018]\n",
      "[0.683471149628097, 0.6739115545490159, 0.6668004262298473, 0.6607528323259702, 0.6550283023863888, 0.6501622374829168]\n",
      "    5 linear dimensions...\n",
      "epoch: 100/500, loss:  0.6536, time elapsed:  35.37s, time left:  141.49s\n",
      "epoch: 200/500, loss:  0.6510, time elapsed:  71.03s, time left:  106.54s\n",
      "epoch: 300/500, loss:  0.6502, time elapsed:  106.79s, time left:  71.20s\n",
      "epoch: 400/500, loss:  0.6498, time elapsed:  141.32s, time left:  35.33s\n",
      "epoch: 500/500, loss:  0.6497, time elapsed:  176.12s, time left:  0.00s\n",
      "[0.7040824558999803, 0.6721512542830573, 0.6662525137265524, 0.6599388851059808, 0.6546829673979018, 0.6496525671746995]\n",
      "[0.683471149628097, 0.6739115545490159, 0.6668004262298473, 0.6607528323259702, 0.6550283023863888, 0.6501622374829168]\n"
     ]
    }
   ],
   "source": [
    "model = cyclum.tuning.CyclumAutoTune(sttpm, max_linear_dims=5, \n",
    "                                     epochs=500, rate=2e-4, verbose=100,\n",
    "                                     encoder_width=[30, 20])"
   ]
  },
  {
   "cell_type": "code",
   "execution_count": 7,
   "metadata": {
    "pycharm": {
     "is_executing": false,
     "name": "#%%\n"
    }
   },
   "outputs": [
    {
     "data": {
      "image/png": "[encoded data removed]",
      "text/plain": [
       "<Figure size 432x288 with 1 Axes>"
      ]
     },
     "execution_count": 7,
     "metadata": {},
     "output_type": "execute_result"
    },
    {
     "data": {
      "image/png": "[encoded data removed]",
      "text/plain": [
       "<Figure size 432x288 with 1 Axes>"
      ]
     },
     "metadata": {
      "needs_background": "light"
     },
     "output_type": "display_data"
    }
   ],
   "source": [
    "model.show_elbow()"
   ]
  },
  {
   "cell_type": "code",
   "execution_count": 8,
   "metadata": {
    "pycharm": {
     "is_executing": false,
     "name": "#%%\n"
    }
   },
   "outputs": [
    {
     "data": {
      "image/svg+xml": [
       "<svg height=\"968pt\" viewBox=\"0.00 0.00 734.50 968.00\" width=\"735pt\" xmlns=\"http://www.w3.org/2000/svg\" xmlns:xlink=\"http://www.w3.org/1999/xlink\">\n",
       "<g class=\"graph\" id=\"graph0\" transform=\"scale(1 1) rotate(0) translate(4 964)\">\n",
       "<title>G</title>\n",
       "<polygon fill=\"#ffffff\" points=\"-4,4 -4,-964 730.5,-964 730.5,4 -4,4\" stroke=\"transparent\"/>\n",
       "<!-- 140297059344336 -->\n",
       "<g class=\"node\" id=\"node1\">\n",
       "<title>140297059344336</title>\n",
       "<polygon fill=\"none\" points=\"305,-913.5 305,-959.5 571,-959.5 571,-913.5 305,-913.5\" stroke=\"#000000\"/>\n",
       "<text fill=\"#000000\" font-family=\"Times,serif\" font-size=\"14.00\" text-anchor=\"middle\" x=\"361.5\" y=\"-932.8\">input: InputLayer</text>\n",
       "<polyline fill=\"none\" points=\"418,-913.5 418,-959.5 \" stroke=\"#000000\"/>\n",
       "<text fill=\"#000000\" font-family=\"Times,serif\" font-size=\"14.00\" text-anchor=\"middle\" x=\"446\" y=\"-944.3\">input:</text>\n",
       "<polyline fill=\"none\" points=\"418,-936.5 474,-936.5 \" stroke=\"#000000\"/>\n",
       "<text fill=\"#000000\" font-family=\"Times,serif\" font-size=\"14.00\" text-anchor=\"middle\" x=\"446\" y=\"-921.3\">output:</text>\n",
       "<polyline fill=\"none\" points=\"474,-913.5 474,-959.5 \" stroke=\"#000000\"/>\n",
       "<text fill=\"#000000\" font-family=\"Times,serif\" font-size=\"14.00\" text-anchor=\"middle\" x=\"522.5\" y=\"-944.3\">(None, 38293)</text>\n",
       "<polyline fill=\"none\" points=\"474,-936.5 571,-936.5 \" stroke=\"#000000\"/>\n",
       "<text fill=\"#000000\" font-family=\"Times,serif\" font-size=\"14.00\" text-anchor=\"middle\" x=\"522.5\" y=\"-921.3\">(None, 38293)</text>\n",
       "</g>\n",
       "<!-- 140297059268624 -->\n",
       "<g class=\"node\" id=\"node2\">\n",
       "<title>140297059268624</title>\n",
       "<polygon fill=\"none\" points=\"202.5,-830.5 202.5,-876.5 497.5,-876.5 497.5,-830.5 202.5,-830.5\" stroke=\"#000000\"/>\n",
       "<text fill=\"#000000\" font-family=\"Times,serif\" font-size=\"14.00\" text-anchor=\"middle\" x=\"273.5\" y=\"-849.8\">encoder0_scale: Dense</text>\n",
       "<polyline fill=\"none\" points=\"344.5,-830.5 344.5,-876.5 \" stroke=\"#000000\"/>\n",
       "<text fill=\"#000000\" font-family=\"Times,serif\" font-size=\"14.00\" text-anchor=\"middle\" x=\"372.5\" y=\"-861.3\">input:</text>\n",
       "<polyline fill=\"none\" points=\"344.5,-853.5 400.5,-853.5 \" stroke=\"#000000\"/>\n",
       "<text fill=\"#000000\" font-family=\"Times,serif\" font-size=\"14.00\" text-anchor=\"middle\" x=\"372.5\" y=\"-838.3\">output:</text>\n",
       "<polyline fill=\"none\" points=\"400.5,-830.5 400.5,-876.5 \" stroke=\"#000000\"/>\n",
       "<text fill=\"#000000\" font-family=\"Times,serif\" font-size=\"14.00\" text-anchor=\"middle\" x=\"449\" y=\"-861.3\">(None, 38293)</text>\n",
       "<polyline fill=\"none\" points=\"400.5,-853.5 497.5,-853.5 \" stroke=\"#000000\"/>\n",
       "<text fill=\"#000000\" font-family=\"Times,serif\" font-size=\"14.00\" text-anchor=\"middle\" x=\"449\" y=\"-838.3\">(None, 30)</text>\n",
       "</g>\n",
       "<!-- 140297059344336&#45;&gt;140297059268624 -->\n",
       "<g class=\"edge\" id=\"edge1\">\n",
       "<title>140297059344336-&gt;140297059268624</title>\n",
       "<path d=\"M413.4871,-913.3799C403.7473,-904.1935 392.411,-893.5013 382.0354,-883.7152\" fill=\"none\" stroke=\"#000000\"/>\n",
       "<polygon fill=\"#000000\" points=\"384.3629,-881.0993 374.6867,-876.784 379.5599,-886.1916 384.3629,-881.0993\" stroke=\"#000000\"/>\n",
       "</g>\n",
       "<!-- 140297058521744 -->\n",
       "<g class=\"node\" id=\"node11\">\n",
       "<title>140297058521744</title>\n",
       "<polygon fill=\"none\" points=\"455.5,-747.5 455.5,-793.5 726.5,-793.5 726.5,-747.5 455.5,-747.5\" stroke=\"#000000\"/>\n",
       "<text fill=\"#000000\" font-family=\"Times,serif\" font-size=\"14.00\" text-anchor=\"middle\" x=\"514.5\" y=\"-766.8\">bypass_out: Dense</text>\n",
       "<polyline fill=\"none\" points=\"573.5,-747.5 573.5,-793.5 \" stroke=\"#000000\"/>\n",
       "<text fill=\"#000000\" font-family=\"Times,serif\" font-size=\"14.00\" text-anchor=\"middle\" x=\"601.5\" y=\"-778.3\">input:</text>\n",
       "<polyline fill=\"none\" points=\"573.5,-770.5 629.5,-770.5 \" stroke=\"#000000\"/>\n",
       "<text fill=\"#000000\" font-family=\"Times,serif\" font-size=\"14.00\" text-anchor=\"middle\" x=\"601.5\" y=\"-755.3\">output:</text>\n",
       "<polyline fill=\"none\" points=\"629.5,-747.5 629.5,-793.5 \" stroke=\"#000000\"/>\n",
       "<text fill=\"#000000\" font-family=\"Times,serif\" font-size=\"14.00\" text-anchor=\"middle\" x=\"678\" y=\"-778.3\">(None, 38293)</text>\n",
       "<polyline fill=\"none\" points=\"629.5,-770.5 726.5,-770.5 \" stroke=\"#000000\"/>\n",
       "<text fill=\"#000000\" font-family=\"Times,serif\" font-size=\"14.00\" text-anchor=\"middle\" x=\"678\" y=\"-755.3\">(None, 1)</text>\n",
       "</g>\n",
       "<!-- 140297059344336&#45;&gt;140297058521744 -->\n",
       "<g class=\"edge\" id=\"edge10\">\n",
       "<title>140297059344336-&gt;140297058521744</title>\n",
       "<path d=\"M466.819,-913.2571C479.3278,-902.6774 493.8608,-889.7011 506,-877 528.6546,-853.2967 551.6941,-824.0419 568.061,-802.1949\" fill=\"none\" stroke=\"#000000\"/>\n",
       "<polygon fill=\"#000000\" points=\"571.0566,-804.0316 574.2095,-793.9167 565.4371,-799.8577 571.0566,-804.0316\" stroke=\"#000000\"/>\n",
       "</g>\n",
       "<!-- 140297059418384 -->\n",
       "<g class=\"node\" id=\"node3\">\n",
       "<title>140297059418384</title>\n",
       "<polygon fill=\"none\" points=\"134.5,-747.5 134.5,-793.5 437.5,-793.5 437.5,-747.5 134.5,-747.5\" stroke=\"#000000\"/>\n",
       "<text fill=\"#000000\" font-family=\"Times,serif\" font-size=\"14.00\" text-anchor=\"middle\" x=\"219.5\" y=\"-766.8\">encoder0_dropout: Dropout</text>\n",
       "<polyline fill=\"none\" points=\"304.5,-747.5 304.5,-793.5 \" stroke=\"#000000\"/>\n",
       "<text fill=\"#000000\" font-family=\"Times,serif\" font-size=\"14.00\" text-anchor=\"middle\" x=\"332.5\" y=\"-778.3\">input:</text>\n",
       "<polyline fill=\"none\" points=\"304.5,-770.5 360.5,-770.5 \" stroke=\"#000000\"/>\n",
       "<text fill=\"#000000\" font-family=\"Times,serif\" font-size=\"14.00\" text-anchor=\"middle\" x=\"332.5\" y=\"-755.3\">output:</text>\n",
       "<polyline fill=\"none\" points=\"360.5,-747.5 360.5,-793.5 \" stroke=\"#000000\"/>\n",
       "<text fill=\"#000000\" font-family=\"Times,serif\" font-size=\"14.00\" text-anchor=\"middle\" x=\"399\" y=\"-778.3\">(None, 30)</text>\n",
       "<polyline fill=\"none\" points=\"360.5,-770.5 437.5,-770.5 \" stroke=\"#000000\"/>\n",
       "<text fill=\"#000000\" font-family=\"Times,serif\" font-size=\"14.00\" text-anchor=\"middle\" x=\"399\" y=\"-755.3\">(None, 30)</text>\n",
       "</g>\n",
       "<!-- 140297059268624&#45;&gt;140297059418384 -->\n",
       "<g class=\"edge\" id=\"edge2\">\n",
       "<title>140297059268624-&gt;140297059418384</title>\n",
       "<path d=\"M332.1724,-830.3799C325.364,-821.5502 317.483,-811.3295 310.1807,-801.8593\" fill=\"none\" stroke=\"#000000\"/>\n",
       "<polygon fill=\"#000000\" points=\"312.832,-799.5659 303.9539,-793.784 307.2886,-803.8404 312.832,-799.5659\" stroke=\"#000000\"/>\n",
       "</g>\n",
       "<!-- 140298934210128 -->\n",
       "<g class=\"node\" id=\"node4\">\n",
       "<title>140298934210128</title>\n",
       "<polygon fill=\"none\" points=\"140.5,-664.5 140.5,-710.5 431.5,-710.5 431.5,-664.5 140.5,-664.5\" stroke=\"#000000\"/>\n",
       "<text fill=\"#000000\" font-family=\"Times,serif\" font-size=\"14.00\" text-anchor=\"middle\" x=\"219.5\" y=\"-683.8\">encoder0_act: Activation</text>\n",
       "<polyline fill=\"none\" points=\"298.5,-664.5 298.5,-710.5 \" stroke=\"#000000\"/>\n",
       "<text fill=\"#000000\" font-family=\"Times,serif\" font-size=\"14.00\" text-anchor=\"middle\" x=\"326.5\" y=\"-695.3\">input:</text>\n",
       "<polyline fill=\"none\" points=\"298.5,-687.5 354.5,-687.5 \" stroke=\"#000000\"/>\n",
       "<text fill=\"#000000\" font-family=\"Times,serif\" font-size=\"14.00\" text-anchor=\"middle\" x=\"326.5\" y=\"-672.3\">output:</text>\n",
       "<polyline fill=\"none\" points=\"354.5,-664.5 354.5,-710.5 \" stroke=\"#000000\"/>\n",
       "<text fill=\"#000000\" font-family=\"Times,serif\" font-size=\"14.00\" text-anchor=\"middle\" x=\"393\" y=\"-695.3\">(None, 30)</text>\n",
       "<polyline fill=\"none\" points=\"354.5,-687.5 431.5,-687.5 \" stroke=\"#000000\"/>\n",
       "<text fill=\"#000000\" font-family=\"Times,serif\" font-size=\"14.00\" text-anchor=\"middle\" x=\"393\" y=\"-672.3\">(None, 30)</text>\n",
       "</g>\n",
       "<!-- 140297059418384&#45;&gt;140298934210128 -->\n",
       "<g class=\"edge\" id=\"edge3\">\n",
       "<title>140297059418384-&gt;140298934210128</title>\n",
       "<path d=\"M286,-747.3799C286,-739.1745 286,-729.7679 286,-720.8786\" fill=\"none\" stroke=\"#000000\"/>\n",
       "<polygon fill=\"#000000\" points=\"289.5001,-720.784 286,-710.784 282.5001,-720.784 289.5001,-720.784\" stroke=\"#000000\"/>\n",
       "</g>\n",
       "<!-- 140297059091728 -->\n",
       "<g class=\"node\" id=\"node5\">\n",
       "<title>140297059091728</title>\n",
       "<polygon fill=\"none\" points=\"148.5,-581.5 148.5,-627.5 423.5,-627.5 423.5,-581.5 148.5,-581.5\" stroke=\"#000000\"/>\n",
       "<text fill=\"#000000\" font-family=\"Times,serif\" font-size=\"14.00\" text-anchor=\"middle\" x=\"219.5\" y=\"-600.8\">encoder1_scale: Dense</text>\n",
       "<polyline fill=\"none\" points=\"290.5,-581.5 290.5,-627.5 \" stroke=\"#000000\"/>\n",
       "<text fill=\"#000000\" font-family=\"Times,serif\" font-size=\"14.00\" text-anchor=\"middle\" x=\"318.5\" y=\"-612.3\">input:</text>\n",
       "<polyline fill=\"none\" points=\"290.5,-604.5 346.5,-604.5 \" stroke=\"#000000\"/>\n",
       "<text fill=\"#000000\" font-family=\"Times,serif\" font-size=\"14.00\" text-anchor=\"middle\" x=\"318.5\" y=\"-589.3\">output:</text>\n",
       "<polyline fill=\"none\" points=\"346.5,-581.5 346.5,-627.5 \" stroke=\"#000000\"/>\n",
       "<text fill=\"#000000\" font-family=\"Times,serif\" font-size=\"14.00\" text-anchor=\"middle\" x=\"385\" y=\"-612.3\">(None, 30)</text>\n",
       "<polyline fill=\"none\" points=\"346.5,-604.5 423.5,-604.5 \" stroke=\"#000000\"/>\n",
       "<text fill=\"#000000\" font-family=\"Times,serif\" font-size=\"14.00\" text-anchor=\"middle\" x=\"385\" y=\"-589.3\">(None, 20)</text>\n",
       "</g>\n",
       "<!-- 140298934210128&#45;&gt;140297059091728 -->\n",
       "<g class=\"edge\" id=\"edge4\">\n",
       "<title>140298934210128-&gt;140297059091728</title>\n",
       "<path d=\"M286,-664.3799C286,-656.1745 286,-646.7679 286,-637.8786\" fill=\"none\" stroke=\"#000000\"/>\n",
       "<polygon fill=\"#000000\" points=\"289.5001,-637.784 286,-627.784 282.5001,-637.784 289.5001,-637.784\" stroke=\"#000000\"/>\n",
       "</g>\n",
       "<!-- 140297059091536 -->\n",
       "<g class=\"node\" id=\"node6\">\n",
       "<title>140297059091536</title>\n",
       "<polygon fill=\"none\" points=\"134.5,-498.5 134.5,-544.5 437.5,-544.5 437.5,-498.5 134.5,-498.5\" stroke=\"#000000\"/>\n",
       "<text fill=\"#000000\" font-family=\"Times,serif\" font-size=\"14.00\" text-anchor=\"middle\" x=\"219.5\" y=\"-517.8\">encoder1_dropout: Dropout</text>\n",
       "<polyline fill=\"none\" points=\"304.5,-498.5 304.5,-544.5 \" stroke=\"#000000\"/>\n",
       "<text fill=\"#000000\" font-family=\"Times,serif\" font-size=\"14.00\" text-anchor=\"middle\" x=\"332.5\" y=\"-529.3\">input:</text>\n",
       "<polyline fill=\"none\" points=\"304.5,-521.5 360.5,-521.5 \" stroke=\"#000000\"/>\n",
       "<text fill=\"#000000\" font-family=\"Times,serif\" font-size=\"14.00\" text-anchor=\"middle\" x=\"332.5\" y=\"-506.3\">output:</text>\n",
       "<polyline fill=\"none\" points=\"360.5,-498.5 360.5,-544.5 \" stroke=\"#000000\"/>\n",
       "<text fill=\"#000000\" font-family=\"Times,serif\" font-size=\"14.00\" text-anchor=\"middle\" x=\"399\" y=\"-529.3\">(None, 20)</text>\n",
       "<polyline fill=\"none\" points=\"360.5,-521.5 437.5,-521.5 \" stroke=\"#000000\"/>\n",
       "<text fill=\"#000000\" font-family=\"Times,serif\" font-size=\"14.00\" text-anchor=\"middle\" x=\"399\" y=\"-506.3\">(None, 20)</text>\n",
       "</g>\n",
       "<!-- 140297059091728&#45;&gt;140297059091536 -->\n",
       "<g class=\"edge\" id=\"edge5\">\n",
       "<title>140297059091728-&gt;140297059091536</title>\n",
       "<path d=\"M286,-581.3799C286,-573.1745 286,-563.7679 286,-554.8786\" fill=\"none\" stroke=\"#000000\"/>\n",
       "<polygon fill=\"#000000\" points=\"289.5001,-554.784 286,-544.784 282.5001,-554.784 289.5001,-554.784\" stroke=\"#000000\"/>\n",
       "</g>\n",
       "<!-- 140297058452496 -->\n",
       "<g class=\"node\" id=\"node7\">\n",
       "<title>140297058452496</title>\n",
       "<polygon fill=\"none\" points=\"140.5,-415.5 140.5,-461.5 431.5,-461.5 431.5,-415.5 140.5,-415.5\" stroke=\"#000000\"/>\n",
       "<text fill=\"#000000\" font-family=\"Times,serif\" font-size=\"14.00\" text-anchor=\"middle\" x=\"219.5\" y=\"-434.8\">encoder1_act: Activation</text>\n",
       "<polyline fill=\"none\" points=\"298.5,-415.5 298.5,-461.5 \" stroke=\"#000000\"/>\n",
       "<text fill=\"#000000\" font-family=\"Times,serif\" font-size=\"14.00\" text-anchor=\"middle\" x=\"326.5\" y=\"-446.3\">input:</text>\n",
       "<polyline fill=\"none\" points=\"298.5,-438.5 354.5,-438.5 \" stroke=\"#000000\"/>\n",
       "<text fill=\"#000000\" font-family=\"Times,serif\" font-size=\"14.00\" text-anchor=\"middle\" x=\"326.5\" y=\"-423.3\">output:</text>\n",
       "<polyline fill=\"none\" points=\"354.5,-415.5 354.5,-461.5 \" stroke=\"#000000\"/>\n",
       "<text fill=\"#000000\" font-family=\"Times,serif\" font-size=\"14.00\" text-anchor=\"middle\" x=\"393\" y=\"-446.3\">(None, 20)</text>\n",
       "<polyline fill=\"none\" points=\"354.5,-438.5 431.5,-438.5 \" stroke=\"#000000\"/>\n",
       "<text fill=\"#000000\" font-family=\"Times,serif\" font-size=\"14.00\" text-anchor=\"middle\" x=\"393\" y=\"-423.3\">(None, 20)</text>\n",
       "</g>\n",
       "<!-- 140297059091536&#45;&gt;140297058452496 -->\n",
       "<g class=\"edge\" id=\"edge6\">\n",
       "<title>140297059091536-&gt;140297058452496</title>\n",
       "<path d=\"M286,-498.3799C286,-490.1745 286,-480.7679 286,-471.8786\" fill=\"none\" stroke=\"#000000\"/>\n",
       "<polygon fill=\"#000000\" points=\"289.5001,-471.784 286,-461.784 282.5001,-471.784 289.5001,-471.784\" stroke=\"#000000\"/>\n",
       "</g>\n",
       "<!-- 140297059092432 -->\n",
       "<g class=\"node\" id=\"node8\">\n",
       "<title>140297059092432</title>\n",
       "<polygon fill=\"none\" points=\"156.5,-332.5 156.5,-378.5 415.5,-378.5 415.5,-332.5 156.5,-332.5\" stroke=\"#000000\"/>\n",
       "<text fill=\"#000000\" font-family=\"Times,serif\" font-size=\"14.00\" text-anchor=\"middle\" x=\"219.5\" y=\"-351.8\">encoder_out: Dense</text>\n",
       "<polyline fill=\"none\" points=\"282.5,-332.5 282.5,-378.5 \" stroke=\"#000000\"/>\n",
       "<text fill=\"#000000\" font-family=\"Times,serif\" font-size=\"14.00\" text-anchor=\"middle\" x=\"310.5\" y=\"-363.3\">input:</text>\n",
       "<polyline fill=\"none\" points=\"282.5,-355.5 338.5,-355.5 \" stroke=\"#000000\"/>\n",
       "<text fill=\"#000000\" font-family=\"Times,serif\" font-size=\"14.00\" text-anchor=\"middle\" x=\"310.5\" y=\"-340.3\">output:</text>\n",
       "<polyline fill=\"none\" points=\"338.5,-332.5 338.5,-378.5 \" stroke=\"#000000\"/>\n",
       "<text fill=\"#000000\" font-family=\"Times,serif\" font-size=\"14.00\" text-anchor=\"middle\" x=\"377\" y=\"-363.3\">(None, 20)</text>\n",
       "<polyline fill=\"none\" points=\"338.5,-355.5 415.5,-355.5 \" stroke=\"#000000\"/>\n",
       "<text fill=\"#000000\" font-family=\"Times,serif\" font-size=\"14.00\" text-anchor=\"middle\" x=\"377\" y=\"-340.3\">(None, 1)</text>\n",
       "</g>\n",
       "<!-- 140297058452496&#45;&gt;140297059092432 -->\n",
       "<g class=\"edge\" id=\"edge7\">\n",
       "<title>140297058452496-&gt;140297059092432</title>\n",
       "<path d=\"M286,-415.3799C286,-407.1745 286,-397.7679 286,-388.8786\" fill=\"none\" stroke=\"#000000\"/>\n",
       "<polygon fill=\"#000000\" points=\"289.5001,-388.784 286,-378.784 282.5001,-388.784 289.5001,-388.784\" stroke=\"#000000\"/>\n",
       "</g>\n",
       "<!-- 140297058650576 -->\n",
       "<g class=\"node\" id=\"node9\">\n",
       "<title>140297058650576</title>\n",
       "<polygon fill=\"none\" points=\"0,-249.5 0,-295.5 260,-295.5 260,-249.5 0,-249.5\" stroke=\"#000000\"/>\n",
       "<text fill=\"#000000\" font-family=\"Times,serif\" font-size=\"14.00\" text-anchor=\"middle\" x=\"67\" y=\"-268.8\">circular_sin: Lambda</text>\n",
       "<polyline fill=\"none\" points=\"134,-249.5 134,-295.5 \" stroke=\"#000000\"/>\n",
       "<text fill=\"#000000\" font-family=\"Times,serif\" font-size=\"14.00\" text-anchor=\"middle\" x=\"162\" y=\"-280.3\">input:</text>\n",
       "<polyline fill=\"none\" points=\"134,-272.5 190,-272.5 \" stroke=\"#000000\"/>\n",
       "<text fill=\"#000000\" font-family=\"Times,serif\" font-size=\"14.00\" text-anchor=\"middle\" x=\"162\" y=\"-257.3\">output:</text>\n",
       "<polyline fill=\"none\" points=\"190,-249.5 190,-295.5 \" stroke=\"#000000\"/>\n",
       "<text fill=\"#000000\" font-family=\"Times,serif\" font-size=\"14.00\" text-anchor=\"middle\" x=\"225\" y=\"-280.3\">(None, 1)</text>\n",
       "<polyline fill=\"none\" points=\"190,-272.5 260,-272.5 \" stroke=\"#000000\"/>\n",
       "<text fill=\"#000000\" font-family=\"Times,serif\" font-size=\"14.00\" text-anchor=\"middle\" x=\"225\" y=\"-257.3\">(None, 1)</text>\n",
       "</g>\n",
       "<!-- 140297059092432&#45;&gt;140297058650576 -->\n",
       "<g class=\"edge\" id=\"edge8\">\n",
       "<title>140297059092432-&gt;140297058650576</title>\n",
       "<path d=\"M242.5453,-332.3799C223.9442,-322.4832 202.0585,-310.8388 182.556,-300.4625\" fill=\"none\" stroke=\"#000000\"/>\n",
       "<polygon fill=\"#000000\" points=\"183.9642,-297.2472 173.492,-295.6399 180.6762,-303.427 183.9642,-297.2472\" stroke=\"#000000\"/>\n",
       "</g>\n",
       "<!-- 140297058262800 -->\n",
       "<g class=\"node\" id=\"node10\">\n",
       "<title>140297058262800</title>\n",
       "<polygon fill=\"none\" points=\"278.5,-249.5 278.5,-295.5 539.5,-295.5 539.5,-249.5 278.5,-249.5\" stroke=\"#000000\"/>\n",
       "<text fill=\"#000000\" font-family=\"Times,serif\" font-size=\"14.00\" text-anchor=\"middle\" x=\"346\" y=\"-268.8\">circular_cos: Lambda</text>\n",
       "<polyline fill=\"none\" points=\"413.5,-249.5 413.5,-295.5 \" stroke=\"#000000\"/>\n",
       "<text fill=\"#000000\" font-family=\"Times,serif\" font-size=\"14.00\" text-anchor=\"middle\" x=\"441.5\" y=\"-280.3\">input:</text>\n",
       "<polyline fill=\"none\" points=\"413.5,-272.5 469.5,-272.5 \" stroke=\"#000000\"/>\n",
       "<text fill=\"#000000\" font-family=\"Times,serif\" font-size=\"14.00\" text-anchor=\"middle\" x=\"441.5\" y=\"-257.3\">output:</text>\n",
       "<polyline fill=\"none\" points=\"469.5,-249.5 469.5,-295.5 \" stroke=\"#000000\"/>\n",
       "<text fill=\"#000000\" font-family=\"Times,serif\" font-size=\"14.00\" text-anchor=\"middle\" x=\"504.5\" y=\"-280.3\">(None, 1)</text>\n",
       "<polyline fill=\"none\" points=\"469.5,-272.5 539.5,-272.5 \" stroke=\"#000000\"/>\n",
       "<text fill=\"#000000\" font-family=\"Times,serif\" font-size=\"14.00\" text-anchor=\"middle\" x=\"504.5\" y=\"-257.3\">(None, 1)</text>\n",
       "</g>\n",
       "<!-- 140297059092432&#45;&gt;140297058262800 -->\n",
       "<g class=\"edge\" id=\"edge9\">\n",
       "<title>140297059092432-&gt;140297058262800</title>\n",
       "<path d=\"M320.2624,-332.3799C334.4046,-322.8367 350.955,-311.6686 365.9066,-301.5793\" fill=\"none\" stroke=\"#000000\"/>\n",
       "<polygon fill=\"#000000\" points=\"368.1633,-304.2789 374.4948,-295.784 364.2477,-298.4764 368.1633,-304.2789\" stroke=\"#000000\"/>\n",
       "</g>\n",
       "<!-- 140297058261136 -->\n",
       "<g class=\"node\" id=\"node12\">\n",
       "<title>140297058261136</title>\n",
       "<polygon fill=\"none\" points=\"209,-166.5 209,-212.5 563,-212.5 563,-166.5 209,-166.5\" stroke=\"#000000\"/>\n",
       "<text fill=\"#000000\" font-family=\"Times,serif\" font-size=\"14.00\" text-anchor=\"middle\" x=\"289\" y=\"-185.8\">circular_out: Concatenate</text>\n",
       "<polyline fill=\"none\" points=\"369,-166.5 369,-212.5 \" stroke=\"#000000\"/>\n",
       "<text fill=\"#000000\" font-family=\"Times,serif\" font-size=\"14.00\" text-anchor=\"middle\" x=\"397\" y=\"-197.3\">input:</text>\n",
       "<polyline fill=\"none\" points=\"369,-189.5 425,-189.5 \" stroke=\"#000000\"/>\n",
       "<text fill=\"#000000\" font-family=\"Times,serif\" font-size=\"14.00\" text-anchor=\"middle\" x=\"397\" y=\"-174.3\">output:</text>\n",
       "<polyline fill=\"none\" points=\"425,-166.5 425,-212.5 \" stroke=\"#000000\"/>\n",
       "<text fill=\"#000000\" font-family=\"Times,serif\" font-size=\"14.00\" text-anchor=\"middle\" x=\"494\" y=\"-197.3\">[(None, 1), (None, 1)]</text>\n",
       "<polyline fill=\"none\" points=\"425,-189.5 563,-189.5 \" stroke=\"#000000\"/>\n",
       "<text fill=\"#000000\" font-family=\"Times,serif\" font-size=\"14.00\" text-anchor=\"middle\" x=\"494\" y=\"-174.3\">(None, 2)</text>\n",
       "</g>\n",
       "<!-- 140297058650576&#45;&gt;140297058261136 -->\n",
       "<g class=\"edge\" id=\"edge11\">\n",
       "<title>140297058650576-&gt;140297058261136</title>\n",
       "<path d=\"M200.9703,-249.4901C233.293,-239.0105 271.7144,-226.5535 305.1474,-215.7139\" fill=\"none\" stroke=\"#000000\"/>\n",
       "<polygon fill=\"#000000\" points=\"306.4586,-218.9683 314.8916,-212.5547 304.2996,-212.3095 306.4586,-218.9683\" stroke=\"#000000\"/>\n",
       "</g>\n",
       "<!-- 140297058262800&#45;&gt;140297058261136 -->\n",
       "<g class=\"edge\" id=\"edge12\">\n",
       "<title>140297058262800-&gt;140297058261136</title>\n",
       "<path d=\"M402.5932,-249.3799C400.2947,-241.0854 397.6561,-231.5633 395.1692,-222.5889\" fill=\"none\" stroke=\"#000000\"/>\n",
       "<polygon fill=\"#000000\" points=\"398.4956,-221.4862 392.4522,-212.784 391.7498,-223.3555 398.4956,-221.4862\" stroke=\"#000000\"/>\n",
       "</g>\n",
       "<!-- 140297058427408 -->\n",
       "<g class=\"node\" id=\"node13\">\n",
       "<title>140297058427408</title>\n",
       "<polygon fill=\"none\" points=\"301.5,-83.5 301.5,-129.5 674.5,-129.5 674.5,-83.5 301.5,-83.5\" stroke=\"#000000\"/>\n",
       "<text fill=\"#000000\" font-family=\"Times,serif\" font-size=\"14.00\" text-anchor=\"middle\" x=\"391\" y=\"-102.8\">decoder_concat: Concatenate</text>\n",
       "<polyline fill=\"none\" points=\"480.5,-83.5 480.5,-129.5 \" stroke=\"#000000\"/>\n",
       "<text fill=\"#000000\" font-family=\"Times,serif\" font-size=\"14.00\" text-anchor=\"middle\" x=\"508.5\" y=\"-114.3\">input:</text>\n",
       "<polyline fill=\"none\" points=\"480.5,-106.5 536.5,-106.5 \" stroke=\"#000000\"/>\n",
       "<text fill=\"#000000\" font-family=\"Times,serif\" font-size=\"14.00\" text-anchor=\"middle\" x=\"508.5\" y=\"-91.3\">output:</text>\n",
       "<polyline fill=\"none\" points=\"536.5,-83.5 536.5,-129.5 \" stroke=\"#000000\"/>\n",
       "<text fill=\"#000000\" font-family=\"Times,serif\" font-size=\"14.00\" text-anchor=\"middle\" x=\"605.5\" y=\"-114.3\">[(None, 1), (None, 2)]</text>\n",
       "<polyline fill=\"none\" points=\"536.5,-106.5 674.5,-106.5 \" stroke=\"#000000\"/>\n",
       "<text fill=\"#000000\" font-family=\"Times,serif\" font-size=\"14.00\" text-anchor=\"middle\" x=\"605.5\" y=\"-91.3\">(None, 3)</text>\n",
       "</g>\n",
       "<!-- 140297058521744&#45;&gt;140297058427408 -->\n",
       "<g class=\"edge\" id=\"edge13\">\n",
       "<title>140297058521744-&gt;140297058427408</title>\n",
       "<path d=\"M591,-747.4052C591,-715.3381 591,-655.5104 591,-604.5 591,-604.5 591,-604.5 591,-272.5 591,-224.4193 597.7644,-206.5949 572,-166 564.4481,-154.1011 553.578,-143.8869 542.1505,-135.4486\" fill=\"none\" stroke=\"#000000\"/>\n",
       "<polygon fill=\"#000000\" points=\"543.9785,-132.4567 533.7706,-129.6194 539.9811,-138.2031 543.9785,-132.4567\" stroke=\"#000000\"/>\n",
       "</g>\n",
       "<!-- 140297058261136&#45;&gt;140297058427408 -->\n",
       "<g class=\"edge\" id=\"edge14\">\n",
       "<title>140297058261136-&gt;140297058427408</title>\n",
       "<path d=\"M414.4127,-166.3799C425.9212,-157.0151 439.3527,-146.0855 451.5673,-136.1462\" fill=\"none\" stroke=\"#000000\"/>\n",
       "<polygon fill=\"#000000\" points=\"453.8385,-138.8105 459.3859,-129.784 449.4203,-133.3809 453.8385,-138.8105\" stroke=\"#000000\"/>\n",
       "</g>\n",
       "<!-- 140297058002896 -->\n",
       "<g class=\"node\" id=\"node14\">\n",
       "<title>140297058002896</title>\n",
       "<polygon fill=\"none\" points=\"349,-.5 349,-46.5 627,-46.5 627,-.5 349,-.5\" stroke=\"#000000\"/>\n",
       "<text fill=\"#000000\" font-family=\"Times,serif\" font-size=\"14.00\" text-anchor=\"middle\" x=\"411.5\" y=\"-19.8\">decoder_out: Dense</text>\n",
       "<polyline fill=\"none\" points=\"474,-.5 474,-46.5 \" stroke=\"#000000\"/>\n",
       "<text fill=\"#000000\" font-family=\"Times,serif\" font-size=\"14.00\" text-anchor=\"middle\" x=\"502\" y=\"-31.3\">input:</text>\n",
       "<polyline fill=\"none\" points=\"474,-23.5 530,-23.5 \" stroke=\"#000000\"/>\n",
       "<text fill=\"#000000\" font-family=\"Times,serif\" font-size=\"14.00\" text-anchor=\"middle\" x=\"502\" y=\"-8.3\">output:</text>\n",
       "<polyline fill=\"none\" points=\"530,-.5 530,-46.5 \" stroke=\"#000000\"/>\n",
       "<text fill=\"#000000\" font-family=\"Times,serif\" font-size=\"14.00\" text-anchor=\"middle\" x=\"578.5\" y=\"-31.3\">(None, 3)</text>\n",
       "<polyline fill=\"none\" points=\"530,-23.5 627,-23.5 \" stroke=\"#000000\"/>\n",
       "<text fill=\"#000000\" font-family=\"Times,serif\" font-size=\"14.00\" text-anchor=\"middle\" x=\"578.5\" y=\"-8.3\">(None, 38293)</text>\n",
       "</g>\n",
       "<!-- 140297058427408&#45;&gt;140297058002896 -->\n",
       "<g class=\"edge\" id=\"edge15\">\n",
       "<title>140297058427408-&gt;140297058002896</title>\n",
       "<path d=\"M488,-83.3799C488,-75.1745 488,-65.7679 488,-56.8786\" fill=\"none\" stroke=\"#000000\"/>\n",
       "<polygon fill=\"#000000\" points=\"491.5001,-56.784 488,-46.784 484.5001,-56.784 491.5001,-56.784\" stroke=\"#000000\"/>\n",
       "</g>\n",
       "</g>\n",
       "</svg>"
      ],
      "text/plain": [
       "<IPython.core.display.SVG object>"
      ]
     },
     "metadata": {},
     "output_type": "display_data"
    }
   ],
   "source": [
    "display(model.show_structure())\n"
   ]
  },
  {
   "cell_type": "code",
   "execution_count": 9,
   "metadata": {
    "pycharm": {
     "is_executing": false,
     "name": "#%%\n"
    }
   },
   "outputs": [
    {
     "name": "stdout",
     "output_type": "stream",
     "text": [
      "epoch: 100/800, loss:  0.6772, time elapsed:  34.22s, time left:  239.57s\n",
      "epoch: 200/800, loss:  0.6737, time elapsed:  68.09s, time left:  204.28s\n",
      "epoch: 300/800, loss:  0.6727, time elapsed:  102.87s, time left:  171.45s\n",
      "epoch: 400/800, loss:  0.6722, time elapsed:  135.42s, time left:  135.42s\n",
      "epoch: 500/800, loss:  0.6718, time elapsed:  167.92s, time left:  100.75s\n",
      "epoch: 600/800, loss:  0.6720, time elapsed:  200.44s, time left:  66.81s\n",
      "epoch: 700/800, loss:  0.6716, time elapsed:  232.92s, time left:  33.27s\n",
      "epoch: 800/800, loss:  0.6718, time elapsed:  265.52s, time left:  0.00s\n"
     ]
    },
    {
     "data": {
      "text/plain": [
       "<keras.callbacks.History at 0x7f99743c1290>"
      ]
     },
     "execution_count": 9,
     "metadata": {},
     "output_type": "execute_result"
    }
   ],
   "source": [
    "model.train(sttpm, epochs=800, verbose=100, rate=2e-4)"
   ]
  },
  {
   "cell_type": "code",
   "execution_count": 10,
   "metadata": {
    "pycharm": {
     "is_executing": false,
     "name": "#%%\n"
    }
   },
   "outputs": [],
   "source": [
    "pseudotime = model.predict_pseudotime(sttpm)"
   ]
  },
  {
   "cell_type": "markdown",
   "metadata": {},
   "source": [
    "## Illustrations\n",
    "We illustrate the results on a circle, to show its circular nature. \n",
    "There is virtually no start and end of the circle.\n",
    "Red, green and blue represents G0/G1, S and G2/M phase respectively.\n",
    "The inner lines represents single cells. The cells spread across the\n",
    "The areas outside"
   ]
  },
  {
   "cell_type": "code",
   "execution_count": 11,
   "metadata": {
    "pycharm": {
     "is_executing": false,
     "name": "#%%\n"
    }
   },
   "outputs": [],
   "source": [
    "import cyclum.illustration"
   ]
  },
  {
   "cell_type": "code",
   "execution_count": 12,
   "metadata": {
    "pycharm": {
     "is_executing": false,
     "name": "#%%\n"
    }
   },
   "outputs": [
    {
     "data": {
      "image/png": "[encoded data removed]",
      "text/plain": [
       "<Figure size 432x288 with 1 Axes>"
      ]
     },
     "metadata": {
      "needs_background": "light"
     },
     "output_type": "display_data"
    }
   ],
   "source": [
    "color_map = {'stage': {\"g0/g1\": \"red\", \"s\": \"green\", \"g2/m\": \"blue\"},\n",
    "                 'subcluster': {\"intact\": \"cyan\", \"perturbed\": \"violet\"}}\n",
    "cyclum.illustration.plot_round_distr_color(pseudotime, label['stage'], color_map['stage'])\n",
    "pass\n"
   ]
  },
  {
   "cell_type": "code",
   "execution_count": 13,
   "metadata": {
    "pycharm": {
     "is_executing": false,
     "name": "#%%\n"
    }
   },
   "outputs": [
    {
     "name": "stdout",
     "output_type": "stream",
     "text": [
      "[0.6834711496280971, 0.6739115544668258, 0.6668004141731773, 0.6607522087516757, 0.6550269134565108]\n"
     ]
    }
   ],
   "source": [
    "from sklearn.decomposition import PCA\n",
    "from sklearn.metrics import mean_squared_error as mse\n",
    "\n",
    "pca_model = PCA(n_components=5)\n",
    "pca_load = pca_model.fit_transform(sttpm)\n",
    "pca_comp = pca_model.components_\n",
    "\n",
    "pca_loss = [mse(sttpm, pca_load[:, 0:(i+1)] @ pca_comp[0:(i+1), :]) for i in range(5)]\n",
    "print(pca_loss)\n"
   ]
  },
  {
   "cell_type": "code",
   "execution_count": 14,
   "metadata": {
    "pycharm": {
     "is_executing": false,
     "name": "#%%\n"
    }
   },
   "outputs": [],
   "source": [
    "model.save(\"/home/shaoheng/Documents/data/mESC/model.h5\")"
   ]
  },
  {
   "cell_type": "code",
   "execution_count": 17,
   "metadata": {
    "pycharm": {
     "is_executing": false,
     "name": "#%%\n"
    }
   },
   "outputs": [],
   "source": [
    "from cyclum.hdfrw import mat2hdf\n",
    "mat2hdf(pseudotime, '/home/shaoheng/Documents/data/EMTAB2805/cyclum-pseudotime.h5')"
   ]
  },
  {
   "cell_type": "code",
   "execution_count": 16,
   "metadata": {
    "pycharm": {
     "is_executing": false,
     "name": "#%%\n"
    }
   },
   "outputs": [],
   "source": [
    "mat2hdf(sttpm, '/home/shaoheng/Documents/data/EMTAB2805/sttpm.h5')"
   ]
  }
 ],
 "metadata": {
  "kernelspec": {
   "display_name": "Python 3 [GPU]",
   "language": "python",
   "name": "optirun_python3"
  },
  "language_info": {
   "codemirror_mode": {
    "name": "ipython",
    "version": 3
   },
   "file_extension": ".py",
   "mimetype": "text/x-python",
   "name": "python",
   "nbconvert_exporter": "python",
   "pygments_lexer": "ipython3",
   "version": "3.7.4"
  },
  "pycharm": {
   "stem_cell": {
    "cell_type": "raw",
    "metadata": {
     "collapsed": false
    },
    "source": []
   }
  }
 },
 "nbformat": 4,
 "nbformat_minor": 1
}
