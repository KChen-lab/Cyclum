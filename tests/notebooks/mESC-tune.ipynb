{
 "cells": [
  {
   "cell_type": "markdown",
   "metadata": {},
   "source": [
    "# mESC analysis using Cyclum with Manual Tuning\n",
    "\n",
    "We still use the mESC dataset. For simplicity we have converted the dataset into TPM.\n",
    "The original count data is available at ArrayExpress: [E-MTAB-2805](https://www.ebi.ac.uk/arrayexpress/experiments/E-MTAB-2805/). Tools to transform data are also provided and explained in the following sections."
   ]
  },
  {
   "cell_type": "markdown",
   "metadata": {},
   "source": [
    "## Import necessary packages"
   ]
  },
  {
   "cell_type": "code",
   "execution_count": 1,
   "metadata": {
    "pycharm": {
     "is_executing": false,
     "name": "#%%\n"
    }
   },
   "outputs": [],
   "source": [
    "%matplotlib inline\n",
    "%load_ext autoreload\n",
    "%autoreload 1"
   ]
  },
  {
   "cell_type": "code",
   "execution_count": 2,
   "metadata": {
    "pycharm": {
     "is_executing": false,
     "name": "#%%\n"
    }
   },
   "outputs": [],
   "source": [
    "import pandas as pd\n",
    "import numpy as np\n",
    "import sklearn as skl"
   ]
  },
  {
   "cell_type": "code",
   "execution_count": 3,
   "metadata": {
    "pycharm": {
     "is_executing": false,
     "name": "#%%\n"
    }
   },
   "outputs": [
    {
     "name": "stderr",
     "output_type": "stream",
     "text": [
      "Using TensorFlow backend.\n"
     ]
    }
   ],
   "source": [
    "import cyclum.tuning\n",
    "import cyclum.models\n",
    "from cyclum import writer\n"
   ]
  },
  {
   "cell_type": "markdown",
   "metadata": {},
   "source": [
    "## Read data\n",
    "Here we have label, so we load both. However, the label is not used until evaluation."
   ]
  },
  {
   "cell_type": "code",
   "execution_count": 4,
   "metadata": {
    "pycharm": {
     "is_executing": false,
     "name": "#%%\n"
    }
   },
   "outputs": [],
   "source": [
    "input_file_mask = '/home/shaoheng/Documents/data/mESC/mesc-tpm'\n",
    "\n",
    "def preprocess(input_file_mask):\n",
    "    \"\"\"\n",
    "    Read in data and perform log transform (log2(x+1)), centering (mean = 1) and scaling (sd = 1).\n",
    "    \"\"\"\n",
    "    tpm = writer.read_df_from_binary(input_file_mask).T\n",
    "    sttpm = pd.DataFrame(data=skl.preprocessing.scale(np.log2(tpm.values + 1)), index=tpm.index, columns=tpm.columns)\n",
    "    \n",
    "    label = pd.read_csv(input_file_mask + '-label.txt', sep=\"\\t\", index_col=0).T\n",
    "    return sttpm, label\n",
    "\n",
    "sttpm, label = preprocess(input_file_mask)"
   ]
  },
  {
   "cell_type": "code",
   "execution_count": 5,
   "metadata": {
    "pycharm": {
     "is_executing": false,
     "name": "#%%\n"
    }
   },
   "outputs": [
    {
     "data": {
      "text/plain": [
       "(288, 38293)"
      ]
     },
     "execution_count": 5,
     "metadata": {},
     "output_type": "execute_result"
    }
   ],
   "source": [
    "sttpm.shape"
   ]
  },
  {
   "cell_type": "markdown",
   "metadata": {},
   "source": [
    "There is no convention whether cells should be columns or rows. Here we require cells to be rows."
   ]
  },
  {
   "cell_type": "markdown",
   "metadata": {},
   "source": [
    "## Set up the model and fit the model"
   ]
  },
  {
   "cell_type": "code",
   "execution_count": 6,
   "metadata": {
    "pycharm": {
     "is_executing": false,
     "name": "#%%\n"
    }
   },
   "outputs": [
    {
     "name": "stdout",
     "output_type": "stream",
     "text": [
      "Auto tuning number of linear components...\n",
      "Performing PCA...\n",
      "Training Autoencoder with...\n",
      "    0 linear dimensions...\n",
      "WARNING:tensorflow:From /home/shaoheng/miniconda3/envs/tf-gpu/lib/python3.7/site-packages/keras/backend/tensorflow_backend.py:517: The name tf.placeholder is deprecated. Please use tf.compat.v1.placeholder instead.\n",
      "\n",
      "WARNING:tensorflow:From /home/shaoheng/miniconda3/envs/tf-gpu/lib/python3.7/site-packages/keras/backend/tensorflow_backend.py:4185: The name tf.truncated_normal is deprecated. Please use tf.random.truncated_normal instead.\n",
      "\n",
      "WARNING:tensorflow:From /home/shaoheng/miniconda3/envs/tf-gpu/lib/python3.7/site-packages/keras/backend/tensorflow_backend.py:131: The name tf.get_default_graph is deprecated. Please use tf.compat.v1.get_default_graph instead.\n",
      "\n",
      "WARNING:tensorflow:From /home/shaoheng/miniconda3/envs/tf-gpu/lib/python3.7/site-packages/keras/backend/tensorflow_backend.py:133: The name tf.placeholder_with_default is deprecated. Please use tf.compat.v1.placeholder_with_default instead.\n",
      "\n",
      "WARNING:tensorflow:From /home/shaoheng/miniconda3/envs/tf-gpu/lib/python3.7/site-packages/keras/backend/tensorflow_backend.py:3445: calling dropout (from tensorflow.python.ops.nn_ops) with keep_prob is deprecated and will be removed in a future version.\n",
      "Instructions for updating:\n",
      "Please use `rate` instead of `keep_prob`. Rate should be set to `rate = 1 - keep_prob`.\n",
      "WARNING:tensorflow:From /home/shaoheng/miniconda3/envs/tf-gpu/lib/python3.7/site-packages/keras/optimizers.py:790: The name tf.train.Optimizer is deprecated. Please use tf.compat.v1.train.Optimizer instead.\n",
      "\n",
      "WARNING:tensorflow:From /home/shaoheng/miniconda3/envs/tf-gpu/lib/python3.7/site-packages/keras/backend/tensorflow_backend.py:986: The name tf.assign_add is deprecated. Please use tf.compat.v1.assign_add instead.\n",
      "\n",
      "epoch: 100/500, loss:  0.7171, time elapsed:  50.55s, time left:  202.18s\n",
      "epoch: 200/500, loss:  0.7104, time elapsed:  81.93s, time left:  122.90s\n",
      "epoch: 300/500, loss:  0.7074, time elapsed:  112.68s, time left:  75.12s\n",
      "epoch: 400/500, loss:  0.7055, time elapsed:  143.42s, time left:  35.86s\n",
      "epoch: 500/500, loss:  0.7050, time elapsed:  174.08s, time left:  0.00s\n",
      "[0.7049628098805746]\n",
      "[0.6834711496280971, 0.6739115526614258, 0.6668002316890194, 0.6607520174763021, 0.6550228138803076, 0.6501494352830828, 0.6453653367384393, 0.640792546893583, 0.6363291922697452, 0.6323095369969642, 0.6285805831366462, 0.6250562626336496]\n",
      "    1 linear dimensions...\n",
      "epoch: 100/500, loss:  0.6773, time elapsed:  31.95s, time left:  127.81s\n",
      "epoch: 200/500, loss:  0.6737, time elapsed:  64.63s, time left:  96.95s\n",
      "epoch: 300/500, loss:  0.6722, time elapsed:  96.19s, time left:  64.13s\n",
      "epoch: 400/500, loss:  0.6718, time elapsed:  128.71s, time left:  32.18s\n",
      "epoch: 500/500, loss:  0.6715, time elapsed:  161.25s, time left:  0.00s\n",
      "[0.7049628098805746, 0.6714834239747789]\n",
      "[0.6834711496280971, 0.6739115526614258, 0.6668002316890194, 0.6607520174763021, 0.6550228138803076, 0.6501494352830828, 0.6453653367384393, 0.640792546893583, 0.6363291922697452, 0.6323095369969642, 0.6285805831366462, 0.6250562626336496]\n",
      "    2 linear dimensions...\n",
      "epoch: 100/500, loss:  0.6713, time elapsed:  33.35s, time left:  133.42s\n",
      "epoch: 200/500, loss:  0.6689, time elapsed:  67.57s, time left:  101.36s\n",
      "epoch: 300/500, loss:  0.6679, time elapsed:  101.20s, time left:  67.47s\n",
      "epoch: 400/500, loss:  0.6675, time elapsed:  136.47s, time left:  34.12s\n",
      "epoch: 500/500, loss:  0.6673, time elapsed:  169.84s, time left:  0.00s\n",
      "[0.7049628098805746, 0.6714834239747789, 0.6672752102216085]\n",
      "[0.6834711496280971, 0.6739115526614258, 0.6668002316890194, 0.6607520174763021, 0.6550228138803076, 0.6501494352830828, 0.6453653367384393, 0.640792546893583, 0.6363291922697452, 0.6323095369969642, 0.6285805831366462, 0.6250562626336496]\n",
      "Found! Use 1 linear components...\n",
      "Early stop disabled, continue to check all cases...\n",
      "    3 linear dimensions...\n",
      "epoch: 100/500, loss:  0.6647, time elapsed:  32.30s, time left:  129.21s\n",
      "epoch: 200/500, loss:  0.6620, time elapsed:  64.19s, time left:  96.28s\n",
      "epoch: 300/500, loss:  0.6607, time elapsed:  96.06s, time left:  64.04s\n",
      "epoch: 400/500, loss:  0.6603, time elapsed:  128.01s, time left:  32.00s\n",
      "epoch: 500/500, loss:  0.6599, time elapsed:  160.01s, time left:  0.00s\n",
      "[0.7049628098805746, 0.6714834239747789, 0.6672752102216085, 0.6598622798919678]\n",
      "[0.6834711496280971, 0.6739115526614258, 0.6668002316890194, 0.6607520174763021, 0.6550228138803076, 0.6501494352830828, 0.6453653367384393, 0.640792546893583, 0.6363291922697452, 0.6323095369969642, 0.6285805831366462, 0.6250562626336496]\n",
      "    4 linear dimensions...\n",
      "epoch: 100/500, loss:  0.6596, time elapsed:  32.49s, time left:  129.96s\n",
      "epoch: 200/500, loss:  0.6566, time elapsed:  64.49s, time left:  96.73s\n",
      "epoch: 300/500, loss:  0.6554, time elapsed:  96.54s, time left:  64.36s\n",
      "epoch: 400/500, loss:  0.6550, time elapsed:  128.64s, time left:  32.16s\n",
      "epoch: 500/500, loss:  0.6548, time elapsed:  160.78s, time left:  0.00s\n",
      "[0.7049628098805746, 0.6714834239747789, 0.6672752102216085, 0.6598622798919678, 0.6547545459535387]\n",
      "[0.6834711496280971, 0.6739115526614258, 0.6668002316890194, 0.6607520174763021, 0.6550228138803076, 0.6501494352830828, 0.6453653367384393, 0.640792546893583, 0.6363291922697452, 0.6323095369969642, 0.6285805831366462, 0.6250562626336496]\n",
      "    5 linear dimensions...\n",
      "epoch: 100/500, loss:  0.6532, time elapsed:  32.76s, time left:  131.02s\n",
      "epoch: 200/500, loss:  0.6511, time elapsed:  64.96s, time left:  97.44s\n",
      "epoch: 300/500, loss:  0.6503, time elapsed:  97.09s, time left:  64.72s\n",
      "epoch: 400/500, loss:  0.6498, time elapsed:  129.26s, time left:  32.32s\n",
      "epoch: 500/500, loss:  0.6498, time elapsed:  161.50s, time left:  0.00s\n",
      "[0.7049628098805746, 0.6714834239747789, 0.6672752102216085, 0.6598622798919678, 0.6547545459535387, 0.6497698691156175]\n",
      "[0.6834711496280971, 0.6739115526614258, 0.6668002316890194, 0.6607520174763021, 0.6550228138803076, 0.6501494352830828, 0.6453653367384393, 0.640792546893583, 0.6363291922697452, 0.6323095369969642, 0.6285805831366462, 0.6250562626336496]\n",
      "    6 linear dimensions...\n",
      "epoch: 100/500, loss:  0.6491, time elapsed:  33.12s, time left:  132.48s\n",
      "epoch: 200/500, loss:  0.6469, time elapsed:  65.66s, time left:  98.49s\n",
      "epoch: 300/500, loss:  0.6460, time elapsed:  98.13s, time left:  65.42s\n",
      "epoch: 400/500, loss:  0.6454, time elapsed:  130.65s, time left:  32.66s\n",
      "epoch: 500/500, loss:  0.6453, time elapsed:  163.15s, time left:  0.00s\n",
      "[0.7049628098805746, 0.6714834239747789, 0.6672752102216085, 0.6598622798919678, 0.6547545459535387, 0.6497698691156175, 0.645333296722836]\n",
      "[0.6834711496280971, 0.6739115526614258, 0.6668002316890194, 0.6607520174763021, 0.6550228138803076, 0.6501494352830828, 0.6453653367384393, 0.640792546893583, 0.6363291922697452, 0.6323095369969642, 0.6285805831366462, 0.6250562626336496]\n",
      "    7 linear dimensions...\n",
      "epoch: 100/500, loss:  0.6450, time elapsed:  33.31s, time left:  133.23s\n",
      "epoch: 200/500, loss:  0.6430, time elapsed:  66.04s, time left:  99.06s\n",
      "epoch: 300/500, loss:  0.6425, time elapsed:  98.83s, time left:  65.89s\n",
      "epoch: 400/500, loss:  0.6417, time elapsed:  131.65s, time left:  32.91s\n",
      "epoch: 500/500, loss:  0.6415, time elapsed:  164.42s, time left:  0.00s\n",
      "[0.7049628098805746, 0.6714834239747789, 0.6672752102216085, 0.6598622798919678, 0.6547545459535387, 0.6497698691156175, 0.645333296722836, 0.6414792074097527]\n",
      "[0.6834711496280971, 0.6739115526614258, 0.6668002316890194, 0.6607520174763021, 0.6550228138803076, 0.6501494352830828, 0.6453653367384393, 0.640792546893583, 0.6363291922697452, 0.6323095369969642, 0.6285805831366462, 0.6250562626336496]\n",
      "    8 linear dimensions...\n",
      "epoch: 100/500, loss:  0.6407, time elapsed:  33.65s, time left:  134.61s\n",
      "epoch: 200/500, loss:  0.6379, time elapsed:  66.66s, time left:  99.99s\n",
      "epoch: 300/500, loss:  0.6371, time elapsed:  99.70s, time left:  66.46s\n",
      "epoch: 400/500, loss:  0.6364, time elapsed:  132.68s, time left:  33.17s\n",
      "epoch: 500/500, loss:  0.6365, time elapsed:  165.65s, time left:  0.00s\n",
      "[0.7049628098805746, 0.6714834239747789, 0.6672752102216085, 0.6598622798919678, 0.6547545459535387, 0.6497698691156175, 0.645333296722836, 0.6414792074097527, 0.6364555358886719]\n",
      "[0.6834711496280971, 0.6739115526614258, 0.6668002316890194, 0.6607520174763021, 0.6550228138803076, 0.6501494352830828, 0.6453653367384393, 0.640792546893583, 0.6363291922697452, 0.6323095369969642, 0.6285805831366462, 0.6250562626336496]\n",
      "    9 linear dimensions...\n",
      "epoch: 100/500, loss:  0.6359, time elapsed:  33.80s, time left:  135.18s\n",
      "epoch: 200/500, loss:  0.6337, time elapsed:  66.87s, time left:  100.30s\n",
      "epoch: 300/500, loss:  0.6327, time elapsed:  100.01s, time left:  66.67s\n",
      "epoch: 400/500, loss:  0.6324, time elapsed:  133.07s, time left:  33.27s\n",
      "epoch: 500/500, loss:  0.6322, time elapsed:  166.10s, time left:  0.00s\n",
      "[0.7049628098805746, 0.6714834239747789, 0.6672752102216085, 0.6598622798919678, 0.6547545459535387, 0.6497698691156175, 0.645333296722836, 0.6414792074097527, 0.6364555358886719, 0.63219286998113]\n",
      "[0.6834711496280971, 0.6739115526614258, 0.6668002316890194, 0.6607520174763021, 0.6550228138803076, 0.6501494352830828, 0.6453653367384393, 0.640792546893583, 0.6363291922697452, 0.6323095369969642, 0.6285805831366462, 0.6250562626336496]\n",
      "    10 linear dimensions...\n",
      "epoch: 100/500, loss:  0.6324, time elapsed:  33.88s, time left:  135.53s\n",
      "epoch: 200/500, loss:  0.6301, time elapsed:  67.12s, time left:  100.68s\n",
      "epoch: 300/500, loss:  0.6291, time elapsed:  100.51s, time left:  67.01s\n",
      "epoch: 400/500, loss:  0.6287, time elapsed:  133.74s, time left:  33.43s\n",
      "epoch: 500/500, loss:  0.6284, time elapsed:  167.22s, time left:  0.00s\n",
      "[0.7049628098805746, 0.6714834239747789, 0.6672752102216085, 0.6598622798919678, 0.6547545459535387, 0.6497698691156175, 0.645333296722836, 0.6414792074097527, 0.6364555358886719, 0.63219286998113, 0.6284335851669312]\n",
      "[0.6834711496280971, 0.6739115526614258, 0.6668002316890194, 0.6607520174763021, 0.6550228138803076, 0.6501494352830828, 0.6453653367384393, 0.640792546893583, 0.6363291922697452, 0.6323095369969642, 0.6285805831366462, 0.6250562626336496]\n"
     ]
    }
   ],
   "source": [
    "model = cyclum.tuning.CyclumAutoTune(sttpm, max_linear_dims=10, \n",
    "                                     epochs=500, rate=2e-4, verbose=100,\n",
    "                                     encoder_width=[30, 20])"
   ]
  },
  {
   "cell_type": "markdown",
   "metadata": {},
   "source": [
    "## Elbow plot\n",
    "It is clear in this graph that adding the circular component to one linear component decreases the loss the most."
   ]
  },
  {
   "cell_type": "code",
   "execution_count": 7,
   "metadata": {
    "pycharm": {
     "is_executing": false,
     "name": "#%%\n"
    }
   },
   "outputs": [
    {
     "data": {
      "image/png": "[encoded data removed]",
      "text/plain": [
       "<Figure size 432x288 with 1 Axes>"
      ]
     },
     "execution_count": 7,
     "metadata": {},
     "output_type": "execute_result"
    },
    {
     "data": {
      "image/png": "[encoded data removed]",
      "text/plain": [
       "<Figure size 432x288 with 1 Axes>"
      ]
     },
     "metadata": {
      "needs_background": "light"
     },
     "output_type": "display_data"
    }
   ],
   "source": [
    "model.show_elbow()"
   ]
  },
  {
   "cell_type": "markdown",
   "metadata": {
    "pycharm": {
     "name": "#%% md\n"
    }
   },
   "source": [
    "## Bar plot\n",
    "It is clear in this graph that adding the circular component to one linear component decreases the loss the most."
   ]
  },
  {
   "cell_type": "code",
   "execution_count": 8,
   "metadata": {
    "pycharm": {
     "is_executing": false,
     "name": "#%%\n"
    }
   },
   "outputs": [
    {
     "data": {
      "image/png": "[encoded data removed]",
      "text/plain": [
       "<Figure size 432x288 with 1 Axes>"
      ]
     },
     "execution_count": 8,
     "metadata": {},
     "output_type": "execute_result"
    },
    {
     "data": {
      "image/png": "[encoded data removed]",
      "text/plain": [
       "<Figure size 432x288 with 1 Axes>"
      ]
     },
     "metadata": {
      "needs_background": "light"
     },
     "output_type": "display_data"
    }
   ],
   "source": [
    "model.show_bar()\n"
   ]
  }
 ],
 "metadata": {
  "kernelspec": {
   "display_name": "Python 3 [GPU]",
   "language": "python",
   "name": "optirun_python3"
  },
  "language_info": {
   "codemirror_mode": {
    "name": "ipython",
    "version": 3
   },
   "file_extension": ".py",
   "mimetype": "text/x-python",
   "name": "python",
   "nbconvert_exporter": "python",
   "pygments_lexer": "ipython3",
   "version": "3.7.4"
  },
  "pycharm": {
   "stem_cell": {
    "cell_type": "raw",
    "metadata": {
     "collapsed": false
    },
    "source": []
   }
  }
 },
 "nbformat": 4,
 "nbformat_minor": 1
}
