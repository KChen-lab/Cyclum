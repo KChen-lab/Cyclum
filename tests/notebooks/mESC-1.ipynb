{
 "cells": [
  {
   "cell_type": "markdown",
   "metadata": {},
   "source": [
    "# mESC analysis using Cyclum with 1 Linear Dimension\n",
    "\n",
    "We still use the mESC dataset. For simplicity we have converted the dataset into TPM.\n",
    "The original count data is available at ArrayExpress: [E-MTAB-2805](https://www.ebi.ac.uk/arrayexpress/experiments/E-MTAB-2805/). Tools to transform data are also provided and explained in the following sections."
   ]
  },
  {
   "cell_type": "markdown",
   "metadata": {},
   "source": [
    "## Import necessary packages"
   ]
  },
  {
   "cell_type": "code",
   "execution_count": 1,
   "metadata": {
    "pycharm": {
     "is_executing": false,
     "name": "#%%\n"
    }
   },
   "outputs": [],
   "source": [
    "%matplotlib inline\n",
    "%load_ext autoreload\n",
    "%autoreload 1"
   ]
  },
  {
   "cell_type": "code",
   "execution_count": 2,
   "metadata": {
    "pycharm": {
     "is_executing": false,
     "name": "#%%\n"
    }
   },
   "outputs": [],
   "source": [
    "import pandas as pd\n",
    "import numpy as np\n",
    "import sklearn as skl"
   ]
  },
  {
   "cell_type": "code",
   "execution_count": 3,
   "metadata": {
    "pycharm": {
     "is_executing": false,
     "name": "#%%\n"
    }
   },
   "outputs": [
    {
     "name": "stderr",
     "output_type": "stream",
     "text": [
      "Using TensorFlow backend.\n"
     ]
    }
   ],
   "source": [
    "import cyclum.tuning\n",
    "import cyclum.models\n",
    "from cyclum import writer\n"
   ]
  },
  {
   "cell_type": "markdown",
   "metadata": {},
   "source": [
    "## Read data\n",
    "Here we have label, so we load both. However, the label is not used until evaluation."
   ]
  },
  {
   "cell_type": "code",
   "execution_count": 4,
   "metadata": {
    "pycharm": {
     "is_executing": false,
     "name": "#%%\n"
    }
   },
   "outputs": [],
   "source": [
    "input_file_mask = '/home/shaoheng/Documents/data/mESC/mesc-tpm'\n",
    "\n",
    "def preprocess(input_file_mask):\n",
    "    \"\"\"\n",
    "    Read in data and perform log transform (log2(x+1)), centering (mean = 1) and scaling (sd = 1).\n",
    "    \"\"\"\n",
    "    tpm = writer.read_df_from_binary(input_file_mask).T\n",
    "    sttpm = pd.DataFrame(data=skl.preprocessing.scale(np.log2(tpm.values + 1)), index=tpm.index, columns=tpm.columns)\n",
    "    \n",
    "    label = pd.read_csv(input_file_mask + '-label.txt', sep=\"\\t\", index_col=0).T\n",
    "    return sttpm, label\n",
    "\n",
    "sttpm, label = preprocess(input_file_mask)"
   ]
  },
  {
   "cell_type": "code",
   "execution_count": 5,
   "metadata": {
    "pycharm": {
     "is_executing": false,
     "name": "#%%\n"
    }
   },
   "outputs": [
    {
     "data": {
      "text/plain": [
       "(288, 38293)"
      ]
     },
     "execution_count": 5,
     "metadata": {},
     "output_type": "execute_result"
    }
   ],
   "source": [
    "sttpm.shape"
   ]
  },
  {
   "cell_type": "markdown",
   "metadata": {},
   "source": [
    "There is no convention whether cells should be columns or rows. Here we require cells to be rows."
   ]
  },
  {
   "cell_type": "markdown",
   "metadata": {},
   "source": [
    "## Set up the model and fit the model"
   ]
  },
  {
   "cell_type": "code",
   "execution_count": 6,
   "metadata": {
    "pycharm": {
     "is_executing": false,
     "name": "#%%\n"
    }
   },
   "outputs": [
    {
     "name": "stdout",
     "output_type": "stream",
     "text": [
      "Auto tuning number of linear components...\n",
      "Performing PCA...\n",
      "Training Autoencoder with...\n",
      "    0 linear dimensions...\n",
      "WARNING:tensorflow:From /home/shaoheng/miniconda3/envs/tf-gpu/lib/python3.7/site-packages/keras/backend/tensorflow_backend.py:517: The name tf.placeholder is deprecated. Please use tf.compat.v1.placeholder instead.\n",
      "\n",
      "WARNING:tensorflow:From /home/shaoheng/miniconda3/envs/tf-gpu/lib/python3.7/site-packages/keras/backend/tensorflow_backend.py:4185: The name tf.truncated_normal is deprecated. Please use tf.random.truncated_normal instead.\n",
      "\n",
      "WARNING:tensorflow:From /home/shaoheng/miniconda3/envs/tf-gpu/lib/python3.7/site-packages/keras/backend/tensorflow_backend.py:131: The name tf.get_default_graph is deprecated. Please use tf.compat.v1.get_default_graph instead.\n",
      "\n",
      "WARNING:tensorflow:From /home/shaoheng/miniconda3/envs/tf-gpu/lib/python3.7/site-packages/keras/backend/tensorflow_backend.py:133: The name tf.placeholder_with_default is deprecated. Please use tf.compat.v1.placeholder_with_default instead.\n",
      "\n",
      "WARNING:tensorflow:From /home/shaoheng/miniconda3/envs/tf-gpu/lib/python3.7/site-packages/keras/backend/tensorflow_backend.py:3445: calling dropout (from tensorflow.python.ops.nn_ops) with keep_prob is deprecated and will be removed in a future version.\n",
      "Instructions for updating:\n",
      "Please use `rate` instead of `keep_prob`. Rate should be set to `rate = 1 - keep_prob`.\n",
      "WARNING:tensorflow:From /home/shaoheng/miniconda3/envs/tf-gpu/lib/python3.7/site-packages/keras/optimizers.py:790: The name tf.train.Optimizer is deprecated. Please use tf.compat.v1.train.Optimizer instead.\n",
      "\n",
      "WARNING:tensorflow:From /home/shaoheng/miniconda3/envs/tf-gpu/lib/python3.7/site-packages/keras/backend/tensorflow_backend.py:986: The name tf.assign_add is deprecated. Please use tf.compat.v1.assign_add instead.\n",
      "\n",
      "epoch: 100/500, loss:  0.7171, time elapsed:  34.78s, time left:  139.11s\n",
      "epoch: 200/500, loss:  0.7097, time elapsed:  65.87s, time left:  98.80s\n",
      "epoch: 300/500, loss:  0.7070, time elapsed:  96.88s, time left:  64.58s\n",
      "epoch: 400/500, loss:  0.7055, time elapsed:  127.89s, time left:  31.97s\n",
      "epoch: 500/500, loss:  0.7046, time elapsed:  159.19s, time left:  0.00s\n",
      "[0.7045655647913615]\n",
      "[0.6834711496280971, 0.6739116264862061]\n",
      "Have not found one. Suggest raise max_linear_dims. Use 0 linear components...\n"
     ]
    }
   ],
   "source": [
    "model = cyclum.tuning.CyclumAutoTune(sttpm, max_linear_dims=0, \n",
    "                                     epochs=500, rate=2e-4, verbose=100,\n",
    "                                     encoder_width=[30, 20])"
   ]
  },
  {
   "cell_type": "code",
   "execution_count": 7,
   "metadata": {
    "pycharm": {
     "is_executing": false,
     "name": "#%%\n"
    }
   },
   "outputs": [
    {
     "data": {
      "image/png": "[encoded data removed]",
      "text/plain": [
       "<Figure size 432x288 with 1 Axes>"
      ]
     },
     "execution_count": 7,
     "metadata": {},
     "output_type": "execute_result"
    },
    {
     "data": {
      "image/png": "[encoded data removed]",
      "text/plain": [
       "<Figure size 432x288 with 1 Axes>"
      ]
     },
     "metadata": {
      "needs_background": "light"
     },
     "output_type": "display_data"
    }
   ],
   "source": [
    "model.show_elbow()"
   ]
  },
  {
   "cell_type": "code",
   "execution_count": 8,
   "metadata": {
    "pycharm": {
     "is_executing": false,
     "name": "#%%\n"
    }
   },
   "outputs": [
    {
     "data": {
      "image/svg+xml": [
       "<svg height=\"885pt\" viewBox=\"0.00 0.00 547.50 885.00\" width=\"548pt\" xmlns=\"http://www.w3.org/2000/svg\" xmlns:xlink=\"http://www.w3.org/1999/xlink\">\n",
       "<g class=\"graph\" id=\"graph0\" transform=\"scale(1 1) rotate(0) translate(4 881)\">\n",
       "<title>G</title>\n",
       "<polygon fill=\"#ffffff\" points=\"-4,4 -4,-881 543.5,-881 543.5,4 -4,4\" stroke=\"transparent\"/>\n",
       "<!-- 140468718560016 -->\n",
       "<g class=\"node\" id=\"node1\">\n",
       "<title>140468718560016</title>\n",
       "<polygon fill=\"none\" points=\"136,-830.5 136,-876.5 402,-876.5 402,-830.5 136,-830.5\" stroke=\"#000000\"/>\n",
       "<text fill=\"#000000\" font-family=\"Times,serif\" font-size=\"14.00\" text-anchor=\"middle\" x=\"192.5\" y=\"-849.8\">input: InputLayer</text>\n",
       "<polyline fill=\"none\" points=\"249,-830.5 249,-876.5 \" stroke=\"#000000\"/>\n",
       "<text fill=\"#000000\" font-family=\"Times,serif\" font-size=\"14.00\" text-anchor=\"middle\" x=\"277\" y=\"-861.3\">input:</text>\n",
       "<polyline fill=\"none\" points=\"249,-853.5 305,-853.5 \" stroke=\"#000000\"/>\n",
       "<text fill=\"#000000\" font-family=\"Times,serif\" font-size=\"14.00\" text-anchor=\"middle\" x=\"277\" y=\"-838.3\">output:</text>\n",
       "<polyline fill=\"none\" points=\"305,-830.5 305,-876.5 \" stroke=\"#000000\"/>\n",
       "<text fill=\"#000000\" font-family=\"Times,serif\" font-size=\"14.00\" text-anchor=\"middle\" x=\"353.5\" y=\"-861.3\">(None, 38293)</text>\n",
       "<polyline fill=\"none\" points=\"305,-853.5 402,-853.5 \" stroke=\"#000000\"/>\n",
       "<text fill=\"#000000\" font-family=\"Times,serif\" font-size=\"14.00\" text-anchor=\"middle\" x=\"353.5\" y=\"-838.3\">(None, 38293)</text>\n",
       "</g>\n",
       "<!-- 140468719860752 -->\n",
       "<g class=\"node\" id=\"node2\">\n",
       "<title>140468719860752</title>\n",
       "<polygon fill=\"none\" points=\"121.5,-747.5 121.5,-793.5 416.5,-793.5 416.5,-747.5 121.5,-747.5\" stroke=\"#000000\"/>\n",
       "<text fill=\"#000000\" font-family=\"Times,serif\" font-size=\"14.00\" text-anchor=\"middle\" x=\"192.5\" y=\"-766.8\">encoder0_scale: Dense</text>\n",
       "<polyline fill=\"none\" points=\"263.5,-747.5 263.5,-793.5 \" stroke=\"#000000\"/>\n",
       "<text fill=\"#000000\" font-family=\"Times,serif\" font-size=\"14.00\" text-anchor=\"middle\" x=\"291.5\" y=\"-778.3\">input:</text>\n",
       "<polyline fill=\"none\" points=\"263.5,-770.5 319.5,-770.5 \" stroke=\"#000000\"/>\n",
       "<text fill=\"#000000\" font-family=\"Times,serif\" font-size=\"14.00\" text-anchor=\"middle\" x=\"291.5\" y=\"-755.3\">output:</text>\n",
       "<polyline fill=\"none\" points=\"319.5,-747.5 319.5,-793.5 \" stroke=\"#000000\"/>\n",
       "<text fill=\"#000000\" font-family=\"Times,serif\" font-size=\"14.00\" text-anchor=\"middle\" x=\"368\" y=\"-778.3\">(None, 38293)</text>\n",
       "<polyline fill=\"none\" points=\"319.5,-770.5 416.5,-770.5 \" stroke=\"#000000\"/>\n",
       "<text fill=\"#000000\" font-family=\"Times,serif\" font-size=\"14.00\" text-anchor=\"middle\" x=\"368\" y=\"-755.3\">(None, 30)</text>\n",
       "</g>\n",
       "<!-- 140468718560016&#45;&gt;140468719860752 -->\n",
       "<g class=\"edge\" id=\"edge1\">\n",
       "<title>140468718560016-&gt;140468719860752</title>\n",
       "<path d=\"M269,-830.3799C269,-822.1745 269,-812.7679 269,-803.8786\" fill=\"none\" stroke=\"#000000\"/>\n",
       "<polygon fill=\"#000000\" points=\"272.5001,-803.784 269,-793.784 265.5001,-803.784 272.5001,-803.784\" stroke=\"#000000\"/>\n",
       "</g>\n",
       "<!-- 140468720246224 -->\n",
       "<g class=\"node\" id=\"node3\">\n",
       "<title>140468720246224</title>\n",
       "<polygon fill=\"none\" points=\"117.5,-664.5 117.5,-710.5 420.5,-710.5 420.5,-664.5 117.5,-664.5\" stroke=\"#000000\"/>\n",
       "<text fill=\"#000000\" font-family=\"Times,serif\" font-size=\"14.00\" text-anchor=\"middle\" x=\"202.5\" y=\"-683.8\">encoder0_dropout: Dropout</text>\n",
       "<polyline fill=\"none\" points=\"287.5,-664.5 287.5,-710.5 \" stroke=\"#000000\"/>\n",
       "<text fill=\"#000000\" font-family=\"Times,serif\" font-size=\"14.00\" text-anchor=\"middle\" x=\"315.5\" y=\"-695.3\">input:</text>\n",
       "<polyline fill=\"none\" points=\"287.5,-687.5 343.5,-687.5 \" stroke=\"#000000\"/>\n",
       "<text fill=\"#000000\" font-family=\"Times,serif\" font-size=\"14.00\" text-anchor=\"middle\" x=\"315.5\" y=\"-672.3\">output:</text>\n",
       "<polyline fill=\"none\" points=\"343.5,-664.5 343.5,-710.5 \" stroke=\"#000000\"/>\n",
       "<text fill=\"#000000\" font-family=\"Times,serif\" font-size=\"14.00\" text-anchor=\"middle\" x=\"382\" y=\"-695.3\">(None, 30)</text>\n",
       "<polyline fill=\"none\" points=\"343.5,-687.5 420.5,-687.5 \" stroke=\"#000000\"/>\n",
       "<text fill=\"#000000\" font-family=\"Times,serif\" font-size=\"14.00\" text-anchor=\"middle\" x=\"382\" y=\"-672.3\">(None, 30)</text>\n",
       "</g>\n",
       "<!-- 140468719860752&#45;&gt;140468720246224 -->\n",
       "<g class=\"edge\" id=\"edge2\">\n",
       "<title>140468719860752-&gt;140468720246224</title>\n",
       "<path d=\"M269,-747.3799C269,-739.1745 269,-729.7679 269,-720.8786\" fill=\"none\" stroke=\"#000000\"/>\n",
       "<polygon fill=\"#000000\" points=\"272.5001,-720.784 269,-710.784 265.5001,-720.784 272.5001,-720.784\" stroke=\"#000000\"/>\n",
       "</g>\n",
       "<!-- 140468720073936 -->\n",
       "<g class=\"node\" id=\"node4\">\n",
       "<title>140468720073936</title>\n",
       "<polygon fill=\"none\" points=\"123.5,-581.5 123.5,-627.5 414.5,-627.5 414.5,-581.5 123.5,-581.5\" stroke=\"#000000\"/>\n",
       "<text fill=\"#000000\" font-family=\"Times,serif\" font-size=\"14.00\" text-anchor=\"middle\" x=\"202.5\" y=\"-600.8\">encoder0_act: Activation</text>\n",
       "<polyline fill=\"none\" points=\"281.5,-581.5 281.5,-627.5 \" stroke=\"#000000\"/>\n",
       "<text fill=\"#000000\" font-family=\"Times,serif\" font-size=\"14.00\" text-anchor=\"middle\" x=\"309.5\" y=\"-612.3\">input:</text>\n",
       "<polyline fill=\"none\" points=\"281.5,-604.5 337.5,-604.5 \" stroke=\"#000000\"/>\n",
       "<text fill=\"#000000\" font-family=\"Times,serif\" font-size=\"14.00\" text-anchor=\"middle\" x=\"309.5\" y=\"-589.3\">output:</text>\n",
       "<polyline fill=\"none\" points=\"337.5,-581.5 337.5,-627.5 \" stroke=\"#000000\"/>\n",
       "<text fill=\"#000000\" font-family=\"Times,serif\" font-size=\"14.00\" text-anchor=\"middle\" x=\"376\" y=\"-612.3\">(None, 30)</text>\n",
       "<polyline fill=\"none\" points=\"337.5,-604.5 414.5,-604.5 \" stroke=\"#000000\"/>\n",
       "<text fill=\"#000000\" font-family=\"Times,serif\" font-size=\"14.00\" text-anchor=\"middle\" x=\"376\" y=\"-589.3\">(None, 30)</text>\n",
       "</g>\n",
       "<!-- 140468720246224&#45;&gt;140468720073936 -->\n",
       "<g class=\"edge\" id=\"edge3\">\n",
       "<title>140468720246224-&gt;140468720073936</title>\n",
       "<path d=\"M269,-664.3799C269,-656.1745 269,-646.7679 269,-637.8786\" fill=\"none\" stroke=\"#000000\"/>\n",
       "<polygon fill=\"#000000\" points=\"272.5001,-637.784 269,-627.784 265.5001,-637.784 272.5001,-637.784\" stroke=\"#000000\"/>\n",
       "</g>\n",
       "<!-- 140468718560208 -->\n",
       "<g class=\"node\" id=\"node5\">\n",
       "<title>140468718560208</title>\n",
       "<polygon fill=\"none\" points=\"131.5,-498.5 131.5,-544.5 406.5,-544.5 406.5,-498.5 131.5,-498.5\" stroke=\"#000000\"/>\n",
       "<text fill=\"#000000\" font-family=\"Times,serif\" font-size=\"14.00\" text-anchor=\"middle\" x=\"202.5\" y=\"-517.8\">encoder1_scale: Dense</text>\n",
       "<polyline fill=\"none\" points=\"273.5,-498.5 273.5,-544.5 \" stroke=\"#000000\"/>\n",
       "<text fill=\"#000000\" font-family=\"Times,serif\" font-size=\"14.00\" text-anchor=\"middle\" x=\"301.5\" y=\"-529.3\">input:</text>\n",
       "<polyline fill=\"none\" points=\"273.5,-521.5 329.5,-521.5 \" stroke=\"#000000\"/>\n",
       "<text fill=\"#000000\" font-family=\"Times,serif\" font-size=\"14.00\" text-anchor=\"middle\" x=\"301.5\" y=\"-506.3\">output:</text>\n",
       "<polyline fill=\"none\" points=\"329.5,-498.5 329.5,-544.5 \" stroke=\"#000000\"/>\n",
       "<text fill=\"#000000\" font-family=\"Times,serif\" font-size=\"14.00\" text-anchor=\"middle\" x=\"368\" y=\"-529.3\">(None, 30)</text>\n",
       "<polyline fill=\"none\" points=\"329.5,-521.5 406.5,-521.5 \" stroke=\"#000000\"/>\n",
       "<text fill=\"#000000\" font-family=\"Times,serif\" font-size=\"14.00\" text-anchor=\"middle\" x=\"368\" y=\"-506.3\">(None, 20)</text>\n",
       "</g>\n",
       "<!-- 140468720073936&#45;&gt;140468718560208 -->\n",
       "<g class=\"edge\" id=\"edge4\">\n",
       "<title>140468720073936-&gt;140468718560208</title>\n",
       "<path d=\"M269,-581.3799C269,-573.1745 269,-563.7679 269,-554.8786\" fill=\"none\" stroke=\"#000000\"/>\n",
       "<polygon fill=\"#000000\" points=\"272.5001,-554.784 269,-544.784 265.5001,-554.784 272.5001,-554.784\" stroke=\"#000000\"/>\n",
       "</g>\n",
       "<!-- 140468718559952 -->\n",
       "<g class=\"node\" id=\"node6\">\n",
       "<title>140468718559952</title>\n",
       "<polygon fill=\"none\" points=\"117.5,-415.5 117.5,-461.5 420.5,-461.5 420.5,-415.5 117.5,-415.5\" stroke=\"#000000\"/>\n",
       "<text fill=\"#000000\" font-family=\"Times,serif\" font-size=\"14.00\" text-anchor=\"middle\" x=\"202.5\" y=\"-434.8\">encoder1_dropout: Dropout</text>\n",
       "<polyline fill=\"none\" points=\"287.5,-415.5 287.5,-461.5 \" stroke=\"#000000\"/>\n",
       "<text fill=\"#000000\" font-family=\"Times,serif\" font-size=\"14.00\" text-anchor=\"middle\" x=\"315.5\" y=\"-446.3\">input:</text>\n",
       "<polyline fill=\"none\" points=\"287.5,-438.5 343.5,-438.5 \" stroke=\"#000000\"/>\n",
       "<text fill=\"#000000\" font-family=\"Times,serif\" font-size=\"14.00\" text-anchor=\"middle\" x=\"315.5\" y=\"-423.3\">output:</text>\n",
       "<polyline fill=\"none\" points=\"343.5,-415.5 343.5,-461.5 \" stroke=\"#000000\"/>\n",
       "<text fill=\"#000000\" font-family=\"Times,serif\" font-size=\"14.00\" text-anchor=\"middle\" x=\"382\" y=\"-446.3\">(None, 20)</text>\n",
       "<polyline fill=\"none\" points=\"343.5,-438.5 420.5,-438.5 \" stroke=\"#000000\"/>\n",
       "<text fill=\"#000000\" font-family=\"Times,serif\" font-size=\"14.00\" text-anchor=\"middle\" x=\"382\" y=\"-423.3\">(None, 20)</text>\n",
       "</g>\n",
       "<!-- 140468718560208&#45;&gt;140468718559952 -->\n",
       "<g class=\"edge\" id=\"edge5\">\n",
       "<title>140468718560208-&gt;140468718559952</title>\n",
       "<path d=\"M269,-498.3799C269,-490.1745 269,-480.7679 269,-471.8786\" fill=\"none\" stroke=\"#000000\"/>\n",
       "<polygon fill=\"#000000\" points=\"272.5001,-471.784 269,-461.784 265.5001,-471.784 272.5001,-471.784\" stroke=\"#000000\"/>\n",
       "</g>\n",
       "<!-- 140468718024528 -->\n",
       "<g class=\"node\" id=\"node7\">\n",
       "<title>140468718024528</title>\n",
       "<polygon fill=\"none\" points=\"123.5,-332.5 123.5,-378.5 414.5,-378.5 414.5,-332.5 123.5,-332.5\" stroke=\"#000000\"/>\n",
       "<text fill=\"#000000\" font-family=\"Times,serif\" font-size=\"14.00\" text-anchor=\"middle\" x=\"202.5\" y=\"-351.8\">encoder1_act: Activation</text>\n",
       "<polyline fill=\"none\" points=\"281.5,-332.5 281.5,-378.5 \" stroke=\"#000000\"/>\n",
       "<text fill=\"#000000\" font-family=\"Times,serif\" font-size=\"14.00\" text-anchor=\"middle\" x=\"309.5\" y=\"-363.3\">input:</text>\n",
       "<polyline fill=\"none\" points=\"281.5,-355.5 337.5,-355.5 \" stroke=\"#000000\"/>\n",
       "<text fill=\"#000000\" font-family=\"Times,serif\" font-size=\"14.00\" text-anchor=\"middle\" x=\"309.5\" y=\"-340.3\">output:</text>\n",
       "<polyline fill=\"none\" points=\"337.5,-332.5 337.5,-378.5 \" stroke=\"#000000\"/>\n",
       "<text fill=\"#000000\" font-family=\"Times,serif\" font-size=\"14.00\" text-anchor=\"middle\" x=\"376\" y=\"-363.3\">(None, 20)</text>\n",
       "<polyline fill=\"none\" points=\"337.5,-355.5 414.5,-355.5 \" stroke=\"#000000\"/>\n",
       "<text fill=\"#000000\" font-family=\"Times,serif\" font-size=\"14.00\" text-anchor=\"middle\" x=\"376\" y=\"-340.3\">(None, 20)</text>\n",
       "</g>\n",
       "<!-- 140468718559952&#45;&gt;140468718024528 -->\n",
       "<g class=\"edge\" id=\"edge6\">\n",
       "<title>140468718559952-&gt;140468718024528</title>\n",
       "<path d=\"M269,-415.3799C269,-407.1745 269,-397.7679 269,-388.8786\" fill=\"none\" stroke=\"#000000\"/>\n",
       "<polygon fill=\"#000000\" points=\"272.5001,-388.784 269,-378.784 265.5001,-388.784 272.5001,-388.784\" stroke=\"#000000\"/>\n",
       "</g>\n",
       "<!-- 140468718560400 -->\n",
       "<g class=\"node\" id=\"node8\">\n",
       "<title>140468718560400</title>\n",
       "<polygon fill=\"none\" points=\"139.5,-249.5 139.5,-295.5 398.5,-295.5 398.5,-249.5 139.5,-249.5\" stroke=\"#000000\"/>\n",
       "<text fill=\"#000000\" font-family=\"Times,serif\" font-size=\"14.00\" text-anchor=\"middle\" x=\"202.5\" y=\"-268.8\">encoder_out: Dense</text>\n",
       "<polyline fill=\"none\" points=\"265.5,-249.5 265.5,-295.5 \" stroke=\"#000000\"/>\n",
       "<text fill=\"#000000\" font-family=\"Times,serif\" font-size=\"14.00\" text-anchor=\"middle\" x=\"293.5\" y=\"-280.3\">input:</text>\n",
       "<polyline fill=\"none\" points=\"265.5,-272.5 321.5,-272.5 \" stroke=\"#000000\"/>\n",
       "<text fill=\"#000000\" font-family=\"Times,serif\" font-size=\"14.00\" text-anchor=\"middle\" x=\"293.5\" y=\"-257.3\">output:</text>\n",
       "<polyline fill=\"none\" points=\"321.5,-249.5 321.5,-295.5 \" stroke=\"#000000\"/>\n",
       "<text fill=\"#000000\" font-family=\"Times,serif\" font-size=\"14.00\" text-anchor=\"middle\" x=\"360\" y=\"-280.3\">(None, 20)</text>\n",
       "<polyline fill=\"none\" points=\"321.5,-272.5 398.5,-272.5 \" stroke=\"#000000\"/>\n",
       "<text fill=\"#000000\" font-family=\"Times,serif\" font-size=\"14.00\" text-anchor=\"middle\" x=\"360\" y=\"-257.3\">(None, 1)</text>\n",
       "</g>\n",
       "<!-- 140468718024528&#45;&gt;140468718560400 -->\n",
       "<g class=\"edge\" id=\"edge7\">\n",
       "<title>140468718024528-&gt;140468718560400</title>\n",
       "<path d=\"M269,-332.3799C269,-324.1745 269,-314.7679 269,-305.8786\" fill=\"none\" stroke=\"#000000\"/>\n",
       "<polygon fill=\"#000000\" points=\"272.5001,-305.784 269,-295.784 265.5001,-305.784 272.5001,-305.784\" stroke=\"#000000\"/>\n",
       "</g>\n",
       "<!-- 140468719919440 -->\n",
       "<g class=\"node\" id=\"node9\">\n",
       "<title>140468719919440</title>\n",
       "<polygon fill=\"none\" points=\"0,-166.5 0,-212.5 260,-212.5 260,-166.5 0,-166.5\" stroke=\"#000000\"/>\n",
       "<text fill=\"#000000\" font-family=\"Times,serif\" font-size=\"14.00\" text-anchor=\"middle\" x=\"67\" y=\"-185.8\">circular_sin: Lambda</text>\n",
       "<polyline fill=\"none\" points=\"134,-166.5 134,-212.5 \" stroke=\"#000000\"/>\n",
       "<text fill=\"#000000\" font-family=\"Times,serif\" font-size=\"14.00\" text-anchor=\"middle\" x=\"162\" y=\"-197.3\">input:</text>\n",
       "<polyline fill=\"none\" points=\"134,-189.5 190,-189.5 \" stroke=\"#000000\"/>\n",
       "<text fill=\"#000000\" font-family=\"Times,serif\" font-size=\"14.00\" text-anchor=\"middle\" x=\"162\" y=\"-174.3\">output:</text>\n",
       "<polyline fill=\"none\" points=\"190,-166.5 190,-212.5 \" stroke=\"#000000\"/>\n",
       "<text fill=\"#000000\" font-family=\"Times,serif\" font-size=\"14.00\" text-anchor=\"middle\" x=\"225\" y=\"-197.3\">(None, 1)</text>\n",
       "<polyline fill=\"none\" points=\"190,-189.5 260,-189.5 \" stroke=\"#000000\"/>\n",
       "<text fill=\"#000000\" font-family=\"Times,serif\" font-size=\"14.00\" text-anchor=\"middle\" x=\"225\" y=\"-174.3\">(None, 1)</text>\n",
       "</g>\n",
       "<!-- 140468718560400&#45;&gt;140468719919440 -->\n",
       "<g class=\"edge\" id=\"edge8\">\n",
       "<title>140468718560400-&gt;140468719919440</title>\n",
       "<path d=\"M230.2808,-249.3799C214.0001,-239.6583 194.8954,-228.2505 177.7535,-218.0147\" fill=\"none\" stroke=\"#000000\"/>\n",
       "<polygon fill=\"#000000\" points=\"179.3739,-214.9058 168.9937,-212.784 175.7851,-220.9159 179.3739,-214.9058\" stroke=\"#000000\"/>\n",
       "</g>\n",
       "<!-- 140468718111376 -->\n",
       "<g class=\"node\" id=\"node10\">\n",
       "<title>140468718111376</title>\n",
       "<polygon fill=\"none\" points=\"278.5,-166.5 278.5,-212.5 539.5,-212.5 539.5,-166.5 278.5,-166.5\" stroke=\"#000000\"/>\n",
       "<text fill=\"#000000\" font-family=\"Times,serif\" font-size=\"14.00\" text-anchor=\"middle\" x=\"346\" y=\"-185.8\">circular_cos: Lambda</text>\n",
       "<polyline fill=\"none\" points=\"413.5,-166.5 413.5,-212.5 \" stroke=\"#000000\"/>\n",
       "<text fill=\"#000000\" font-family=\"Times,serif\" font-size=\"14.00\" text-anchor=\"middle\" x=\"441.5\" y=\"-197.3\">input:</text>\n",
       "<polyline fill=\"none\" points=\"413.5,-189.5 469.5,-189.5 \" stroke=\"#000000\"/>\n",
       "<text fill=\"#000000\" font-family=\"Times,serif\" font-size=\"14.00\" text-anchor=\"middle\" x=\"441.5\" y=\"-174.3\">output:</text>\n",
       "<polyline fill=\"none\" points=\"469.5,-166.5 469.5,-212.5 \" stroke=\"#000000\"/>\n",
       "<text fill=\"#000000\" font-family=\"Times,serif\" font-size=\"14.00\" text-anchor=\"middle\" x=\"504.5\" y=\"-197.3\">(None, 1)</text>\n",
       "<polyline fill=\"none\" points=\"469.5,-189.5 539.5,-189.5 \" stroke=\"#000000\"/>\n",
       "<text fill=\"#000000\" font-family=\"Times,serif\" font-size=\"14.00\" text-anchor=\"middle\" x=\"504.5\" y=\"-174.3\">(None, 1)</text>\n",
       "</g>\n",
       "<!-- 140468718560400&#45;&gt;140468718111376 -->\n",
       "<g class=\"edge\" id=\"edge9\">\n",
       "<title>140468718560400-&gt;140468718111376</title>\n",
       "<path d=\"M307.9978,-249.3799C324.3956,-239.6583 343.6377,-228.2505 360.9029,-218.0147\" fill=\"none\" stroke=\"#000000\"/>\n",
       "<polygon fill=\"#000000\" points=\"362.9088,-220.8944 369.7258,-212.784 359.3389,-214.8731 362.9088,-220.8944\" stroke=\"#000000\"/>\n",
       "</g>\n",
       "<!-- 140468718110736 -->\n",
       "<g class=\"node\" id=\"node11\">\n",
       "<title>140468718110736</title>\n",
       "<polygon fill=\"none\" points=\"92,-83.5 92,-129.5 446,-129.5 446,-83.5 92,-83.5\" stroke=\"#000000\"/>\n",
       "<text fill=\"#000000\" font-family=\"Times,serif\" font-size=\"14.00\" text-anchor=\"middle\" x=\"172\" y=\"-102.8\">circular_out: Concatenate</text>\n",
       "<polyline fill=\"none\" points=\"252,-83.5 252,-129.5 \" stroke=\"#000000\"/>\n",
       "<text fill=\"#000000\" font-family=\"Times,serif\" font-size=\"14.00\" text-anchor=\"middle\" x=\"280\" y=\"-114.3\">input:</text>\n",
       "<polyline fill=\"none\" points=\"252,-106.5 308,-106.5 \" stroke=\"#000000\"/>\n",
       "<text fill=\"#000000\" font-family=\"Times,serif\" font-size=\"14.00\" text-anchor=\"middle\" x=\"280\" y=\"-91.3\">output:</text>\n",
       "<polyline fill=\"none\" points=\"308,-83.5 308,-129.5 \" stroke=\"#000000\"/>\n",
       "<text fill=\"#000000\" font-family=\"Times,serif\" font-size=\"14.00\" text-anchor=\"middle\" x=\"377\" y=\"-114.3\">[(None, 1), (None, 1)]</text>\n",
       "<polyline fill=\"none\" points=\"308,-106.5 446,-106.5 \" stroke=\"#000000\"/>\n",
       "<text fill=\"#000000\" font-family=\"Times,serif\" font-size=\"14.00\" text-anchor=\"middle\" x=\"377\" y=\"-91.3\">(None, 2)</text>\n",
       "</g>\n",
       "<!-- 140468719919440&#45;&gt;140468718110736 -->\n",
       "<g class=\"edge\" id=\"edge10\">\n",
       "<title>140468719919440-&gt;140468718110736</title>\n",
       "<path d=\"M168.7192,-166.3799C184.9999,-156.6583 204.1046,-145.2505 221.2465,-135.0147\" fill=\"none\" stroke=\"#000000\"/>\n",
       "<polygon fill=\"#000000\" points=\"223.2149,-137.9159 230.0063,-129.784 219.6261,-131.9058 223.2149,-137.9159\" stroke=\"#000000\"/>\n",
       "</g>\n",
       "<!-- 140468718111376&#45;&gt;140468718110736 -->\n",
       "<g class=\"edge\" id=\"edge11\">\n",
       "<title>140468718111376-&gt;140468718110736</title>\n",
       "<path d=\"M370.0022,-166.3799C353.6044,-156.6583 334.3623,-145.2505 317.0971,-135.0147\" fill=\"none\" stroke=\"#000000\"/>\n",
       "<polygon fill=\"#000000\" points=\"318.6611,-131.8731 308.2742,-129.784 315.0912,-137.8944 318.6611,-131.8731\" stroke=\"#000000\"/>\n",
       "</g>\n",
       "<!-- 140468718111824 -->\n",
       "<g class=\"node\" id=\"node12\">\n",
       "<title>140468718111824</title>\n",
       "<polygon fill=\"none\" points=\"130,-.5 130,-46.5 408,-46.5 408,-.5 130,-.5\" stroke=\"#000000\"/>\n",
       "<text fill=\"#000000\" font-family=\"Times,serif\" font-size=\"14.00\" text-anchor=\"middle\" x=\"192.5\" y=\"-19.8\">decoder_out: Dense</text>\n",
       "<polyline fill=\"none\" points=\"255,-.5 255,-46.5 \" stroke=\"#000000\"/>\n",
       "<text fill=\"#000000\" font-family=\"Times,serif\" font-size=\"14.00\" text-anchor=\"middle\" x=\"283\" y=\"-31.3\">input:</text>\n",
       "<polyline fill=\"none\" points=\"255,-23.5 311,-23.5 \" stroke=\"#000000\"/>\n",
       "<text fill=\"#000000\" font-family=\"Times,serif\" font-size=\"14.00\" text-anchor=\"middle\" x=\"283\" y=\"-8.3\">output:</text>\n",
       "<polyline fill=\"none\" points=\"311,-.5 311,-46.5 \" stroke=\"#000000\"/>\n",
       "<text fill=\"#000000\" font-family=\"Times,serif\" font-size=\"14.00\" text-anchor=\"middle\" x=\"359.5\" y=\"-31.3\">(None, 2)</text>\n",
       "<polyline fill=\"none\" points=\"311,-23.5 408,-23.5 \" stroke=\"#000000\"/>\n",
       "<text fill=\"#000000\" font-family=\"Times,serif\" font-size=\"14.00\" text-anchor=\"middle\" x=\"359.5\" y=\"-8.3\">(None, 38293)</text>\n",
       "</g>\n",
       "<!-- 140468718110736&#45;&gt;140468718111824 -->\n",
       "<g class=\"edge\" id=\"edge12\">\n",
       "<title>140468718110736-&gt;140468718111824</title>\n",
       "<path d=\"M269,-83.3799C269,-75.1745 269,-65.7679 269,-56.8786\" fill=\"none\" stroke=\"#000000\"/>\n",
       "<polygon fill=\"#000000\" points=\"272.5001,-56.784 269,-46.784 265.5001,-56.784 272.5001,-56.784\" stroke=\"#000000\"/>\n",
       "</g>\n",
       "</g>\n",
       "</svg>"
      ],
      "text/plain": [
       "<IPython.core.display.SVG object>"
      ]
     },
     "metadata": {},
     "output_type": "display_data"
    }
   ],
   "source": [
    "display(model.show_structure())\n"
   ]
  },
  {
   "cell_type": "code",
   "execution_count": 9,
   "metadata": {
    "pycharm": {
     "is_executing": false,
     "name": "#%%\n"
    }
   },
   "outputs": [
    {
     "name": "stdout",
     "output_type": "stream",
     "text": [
      "epoch: 100/800, loss:  0.7177, time elapsed:  32.83s, time left:  229.78s\n",
      "epoch: 200/800, loss:  0.7113, time elapsed:  64.05s, time left:  192.16s\n",
      "epoch: 300/800, loss:  0.7084, time elapsed:  95.11s, time left:  158.52s\n",
      "epoch: 400/800, loss:  0.7070, time elapsed:  126.23s, time left:  126.23s\n",
      "epoch: 500/800, loss:  0.7071, time elapsed:  157.22s, time left:  94.33s\n",
      "epoch: 600/800, loss:  0.7058, time elapsed:  188.33s, time left:  62.78s\n",
      "epoch: 700/800, loss:  0.7054, time elapsed:  219.53s, time left:  31.36s\n",
      "epoch: 800/800, loss:  0.7049, time elapsed:  250.41s, time left:  0.00s\n"
     ]
    },
    {
     "data": {
      "text/plain": [
       "<keras.callbacks.History at 0x7fc15c04a9d0>"
      ]
     },
     "execution_count": 9,
     "metadata": {},
     "output_type": "execute_result"
    }
   ],
   "source": [
    "model.train(sttpm, epochs=800, verbose=100, rate=2e-4)"
   ]
  },
  {
   "cell_type": "code",
   "execution_count": 10,
   "metadata": {
    "pycharm": {
     "is_executing": false,
     "name": "#%%\n"
    }
   },
   "outputs": [],
   "source": [
    "pseudotime = model.predict_pseudotime(sttpm)"
   ]
  },
  {
   "cell_type": "markdown",
   "metadata": {},
   "source": [
    "## Illustrations\n",
    "We illustrate the results on a circle, to show its circular nature. \n",
    "There is virtually no start and end of the circle.\n",
    "Red, green and blue represents G0/G1, S and G2/M phase respectively.\n",
    "The inner lines represents single cells. The cells spread across the\n",
    "The areas outside"
   ]
  },
  {
   "cell_type": "code",
   "execution_count": 11,
   "metadata": {
    "pycharm": {
     "is_executing": false,
     "name": "#%%\n"
    }
   },
   "outputs": [],
   "source": [
    "import cyclum.illustration"
   ]
  },
  {
   "cell_type": "code",
   "execution_count": 12,
   "metadata": {
    "pycharm": {
     "is_executing": false,
     "name": "#%%\n"
    }
   },
   "outputs": [
    {
     "data": {
      "image/png": "[encoded data removed]",
      "text/plain": [
       "<Figure size 432x288 with 1 Axes>"
      ]
     },
     "metadata": {
      "needs_background": "light"
     },
     "output_type": "display_data"
    }
   ],
   "source": [
    "color_map = {'stage': {\"g0/g1\": \"red\", \"s\": \"green\", \"g2/m\": \"blue\"},\n",
    "                 'subcluster': {\"intact\": \"cyan\", \"perturbed\": \"violet\"}}\n",
    "cyclum.illustration.plot_round_distr_color(pseudotime, label['stage'], color_map['stage'])\n"
   ]
  },
  {
   "cell_type": "code",
   "execution_count": 13,
   "metadata": {
    "pycharm": {
     "is_executing": false,
     "name": "#%%\n"
    }
   },
   "outputs": [
    {
     "name": "stdout",
     "output_type": "stream",
     "text": [
      "[0.6834711496280972, 0.6739115546164186, 0.6668004723883274, 0.6607528634859555, 0.6550230676920998]\n"
     ]
    }
   ],
   "source": [
    "from sklearn.decomposition import PCA\n",
    "from sklearn.metrics import mean_squared_error as mse\n",
    "\n",
    "pca_model = PCA(n_components=5)\n",
    "pca_load = pca_model.fit_transform(sttpm)\n",
    "pca_comp = pca_model.components_\n",
    "\n",
    "pca_loss = [mse(sttpm, pca_load[:, 0:(i+1)] @ pca_comp[0:(i+1), :]) for i in range(5)]\n",
    "print(pca_loss)\n"
   ]
  },
  {
   "cell_type": "code",
   "execution_count": 14,
   "metadata": {
    "pycharm": {
     "is_executing": false,
     "name": "#%%\n"
    }
   },
   "outputs": [],
   "source": [
    "model.save(\"/home/shaoheng/Documents/data/mESC/model-1.h5\")"
   ]
  },
  {
   "cell_type": "code",
   "execution_count": 15,
   "metadata": {
    "pycharm": {
     "is_executing": false,
     "name": "#%%\n"
    }
   },
   "outputs": [],
   "source": [
    "from cyclum.hdfrw import mat2hdf\n",
    "mat2hdf(pseudotime, '/home/shaoheng/Documents/data/EMTAB2805/cyclum-pseudotime-1.h5')"
   ]
  },
  {
   "cell_type": "code",
   "execution_count": 13,
   "metadata": {
    "pycharm": {
     "is_executing": false,
     "name": "#%%\n"
    }
   },
   "outputs": [
    {
     "data": {
      "image/png": "[encoded data removed]",
      "text/plain": [
       "<Figure size 432x288 with 1 Axes>"
      ]
     },
     "metadata": {
      "needs_background": "light"
     },
     "output_type": "display_data"
    }
   ],
   "source": [
    "import cyclum.illustration\n",
    "from cyclum.hdfrw import hdf2mat\n",
    "pseudotime = hdf2mat('/home/shaoheng/Documents/data/EMTAB2805/cyclum-pseudotime.h5')\n",
    "\n",
    "color_map = {\"g0/g1\": \"red\", \"s\": \"green\", \"g2/m\": \"blue\"}\n",
    "figure = cyclum.illustration.plot_round_distr_color(pseudotime.values, label['stage'], color_map)\n",
    "figure.savefig('/home/shaoheng/Documents/data/EMTAB2805/cyclum-pseudotime.pdf')"
   ]
  },
  {
   "cell_type": "code",
   "execution_count": 10,
   "metadata": {
    "pycharm": {
     "is_executing": false,
     "name": "#%% \n"
    }
   },
   "outputs": [
    {
     "data": {
      "text/html": [
       "<div>\n",
       "<style scoped>\n",
       "    .dataframe tbody tr th:only-of-type {\n",
       "        vertical-align: middle;\n",
       "    }\n",
       "\n",
       "    .dataframe tbody tr th {\n",
       "        vertical-align: top;\n",
       "    }\n",
       "\n",
       "    .dataframe thead th {\n",
       "        text-align: right;\n",
       "    }\n",
       "</style>\n",
       "<table border=\"1\" class=\"dataframe\">\n",
       "  <thead>\n",
       "    <tr style=\"text-align: right;\">\n",
       "      <th></th>\n",
       "      <th>0</th>\n",
       "    </tr>\n",
       "  </thead>\n",
       "  <tbody>\n",
       "    <tr>\n",
       "      <th>0</th>\n",
       "      <td>-0.029855</td>\n",
       "    </tr>\n",
       "    <tr>\n",
       "      <th>1</th>\n",
       "      <td>-0.096890</td>\n",
       "    </tr>\n",
       "    <tr>\n",
       "      <th>2</th>\n",
       "      <td>0.537688</td>\n",
       "    </tr>\n",
       "    <tr>\n",
       "      <th>3</th>\n",
       "      <td>-0.239065</td>\n",
       "    </tr>\n",
       "    <tr>\n",
       "      <th>4</th>\n",
       "      <td>-0.333472</td>\n",
       "    </tr>\n",
       "    <tr>\n",
       "      <th>...</th>\n",
       "      <td>...</td>\n",
       "    </tr>\n",
       "    <tr>\n",
       "      <th>283</th>\n",
       "      <td>-3.569541</td>\n",
       "    </tr>\n",
       "    <tr>\n",
       "      <th>284</th>\n",
       "      <td>2.864207</td>\n",
       "    </tr>\n",
       "    <tr>\n",
       "      <th>285</th>\n",
       "      <td>-0.174892</td>\n",
       "    </tr>\n",
       "    <tr>\n",
       "      <th>286</th>\n",
       "      <td>-0.869456</td>\n",
       "    </tr>\n",
       "    <tr>\n",
       "      <th>287</th>\n",
       "      <td>-0.538834</td>\n",
       "    </tr>\n",
       "  </tbody>\n",
       "</table>\n",
       "<p>288 rows × 1 columns</p>\n",
       "</div>"
      ],
      "text/plain": [
       "            0\n",
       "0   -0.029855\n",
       "1   -0.096890\n",
       "2    0.537688\n",
       "3   -0.239065\n",
       "4   -0.333472\n",
       "..        ...\n",
       "283 -3.569541\n",
       "284  2.864207\n",
       "285 -0.174892\n",
       "286 -0.869456\n",
       "287 -0.538834\n",
       "\n",
       "[288 rows x 1 columns]"
      ]
     },
     "execution_count": 10,
     "metadata": {},
     "output_type": "execute_result"
    }
   ],
   "source": [
    "pseudotime"
   ]
  }
 ],
 "metadata": {
  "kernelspec": {
   "display_name": "Python 3 [GPU]",
   "language": "python",
   "name": "optirun_python3"
  },
  "language_info": {
   "codemirror_mode": {
    "name": "ipython",
    "version": 3
   },
   "file_extension": ".py",
   "mimetype": "text/x-python",
   "name": "python",
   "nbconvert_exporter": "python",
   "pygments_lexer": "ipython3",
   "version": "3.7.4"
  },
  "pycharm": {
   "stem_cell": {
    "cell_type": "raw",
    "metadata": {
     "collapsed": false
    },
    "source": []
   }
  }
 },
 "nbformat": 4,
 "nbformat_minor": 1
}
