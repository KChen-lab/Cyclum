{
 "cells": [
  {
   "cell_type": "markdown",
   "metadata": {},
   "source": [
    "# mESC analysis using Cyclum with Prior Knowledge (More Weights)\n",
    "\n",
    "We utilize prior knowledge by giving marker genes more weights.\n",
    "\n",
    "We still use the mESC dataset. For simplicity we have converted the dataset into TPM.\n",
    "The original count data is available at ArrayExpress: [E-MTAB-2805](https://www.ebi.ac.uk/arrayexpress/experiments/E-MTAB-2805/). Tools to transform data are also provided and explained in the following sections."
   ]
  },
  {
   "cell_type": "code",
   "execution_count": null,
   "metadata": {},
   "outputs": [],
   "source": [
    "# Add ../../ to path\n",
    "import os,sys,inspect\n",
    "current_dir = os.path.dirname(os.path.abspath(inspect.getfile(inspect.currentframe())))\n",
    "parent_dir = os.path.dirname(current_dir)\n",
    "sys.path.insert(0, parent_dir) "
   ]
  },
  {
   "cell_type": "markdown",
   "metadata": {},
   "source": [
    "## Import necessary packages"
   ]
  },
  {
   "cell_type": "code",
   "execution_count": 19,
   "metadata": {
    "pycharm": {
     "is_executing": false,
     "name": "#%%\n"
    }
   },
   "outputs": [
    {
     "name": "stdout",
     "output_type": "stream",
     "text": [
      "The autoreload extension is already loaded. To reload it, use:\n",
      "  %reload_ext autoreload\n"
     ]
    }
   ],
   "source": [
    "%matplotlib inline\n",
    "%load_ext autoreload\n",
    "%autoreload 1"
   ]
  },
  {
   "cell_type": "code",
   "execution_count": 20,
   "metadata": {
    "pycharm": {
     "is_executing": false,
     "name": "#%%\n"
    }
   },
   "outputs": [],
   "source": [
    "import pandas as pd\n",
    "import numpy as np\n",
    "import sklearn as skl"
   ]
  },
  {
   "cell_type": "code",
   "execution_count": 21,
   "metadata": {
    "pycharm": {
     "is_executing": false,
     "name": "#%%\n"
    }
   },
   "outputs": [],
   "source": [
    "import cyclum.tuning\n",
    "import cyclum.models\n",
    "from cyclum import writer\n"
   ]
  },
  {
   "cell_type": "markdown",
   "metadata": {},
   "source": [
    "## Read data\n",
    "Here we have label, so we load both. However, the label is not used until evaluation."
   ]
  },
  {
   "cell_type": "code",
   "execution_count": 22,
   "metadata": {
    "pycharm": {
     "is_executing": false,
     "name": "#%%\n"
    }
   },
   "outputs": [],
   "source": [
    "input_file_mask = '/home/shaoheng/Documents/data/mESC/mesc-tpm'\n",
    "\n",
    "def preprocess(input_file_mask):\n",
    "    \"\"\"\n",
    "    Read in data and perform log transform (log2(x+1)), centering (mean = 1) and scaling (sd = 1).\n",
    "    \"\"\"\n",
    "    tpm = writer.read_df_from_binary(input_file_mask).T\n",
    "    sttpm = pd.DataFrame(data=skl.preprocessing.scale(np.log2(tpm.values + 1)), index=tpm.index, columns=tpm.columns)\n",
    "    \n",
    "    label = pd.read_csv(input_file_mask + '-label.txt', sep=\"\\t\", index_col=0).T\n",
    "    return sttpm, label\n",
    "\n",
    "sttpm, label = preprocess(input_file_mask)"
   ]
  },
  {
   "cell_type": "code",
   "execution_count": 23,
   "metadata": {
    "pycharm": {
     "is_executing": false,
     "name": "#%%\n"
    }
   },
   "outputs": [
    {
     "data": {
      "text/html": [
       "<div>\n",
       "<style scoped>\n",
       "    .dataframe tbody tr th:only-of-type {\n",
       "        vertical-align: middle;\n",
       "    }\n",
       "\n",
       "    .dataframe tbody tr th {\n",
       "        vertical-align: top;\n",
       "    }\n",
       "\n",
       "    .dataframe thead th {\n",
       "        text-align: right;\n",
       "    }\n",
       "</style>\n",
       "<table border=\"1\" class=\"dataframe\">\n",
       "  <thead>\n",
       "    <tr style=\"text-align: right;\">\n",
       "      <th></th>\n",
       "      <th>Rock1</th>\n",
       "      <th>Gas2l1</th>\n",
       "      <th>Pik3r4</th>\n",
       "      <th>Tubb6</th>\n",
       "      <th>Il12a</th>\n",
       "      <th>Ttk</th>\n",
       "      <th>Pmf1</th>\n",
       "      <th>Smc3</th>\n",
       "      <th>Irf1</th>\n",
       "      <th>Ahctf1</th>\n",
       "      <th>...</th>\n",
       "      <th>Cirbp</th>\n",
       "      <th>Gm4297</th>\n",
       "      <th>Rptor</th>\n",
       "      <th>Mos</th>\n",
       "      <th>Plcb1</th>\n",
       "      <th>Pbk</th>\n",
       "      <th>Nek2</th>\n",
       "      <th>Trim36</th>\n",
       "      <th>Evi5</th>\n",
       "      <th>Atp2b4</th>\n",
       "    </tr>\n",
       "  </thead>\n",
       "  <tbody>\n",
       "    <tr>\n",
       "      <th>G1_cell1_count</th>\n",
       "      <td>0.795471</td>\n",
       "      <td>0.929152</td>\n",
       "      <td>-0.917957</td>\n",
       "      <td>0.487101</td>\n",
       "      <td>-0.086259</td>\n",
       "      <td>0.119715</td>\n",
       "      <td>0.776429</td>\n",
       "      <td>1.156811</td>\n",
       "      <td>-1.329301</td>\n",
       "      <td>-1.090155</td>\n",
       "      <td>...</td>\n",
       "      <td>-1.026106</td>\n",
       "      <td>-0.059028</td>\n",
       "      <td>1.483870</td>\n",
       "      <td>-0.206394</td>\n",
       "      <td>-0.059028</td>\n",
       "      <td>0.973693</td>\n",
       "      <td>-0.642498</td>\n",
       "      <td>-0.258689</td>\n",
       "      <td>-0.781634</td>\n",
       "      <td>-0.890501</td>\n",
       "    </tr>\n",
       "    <tr>\n",
       "      <th>G1_cell2_count</th>\n",
       "      <td>0.731163</td>\n",
       "      <td>-0.826100</td>\n",
       "      <td>-1.132643</td>\n",
       "      <td>0.874655</td>\n",
       "      <td>4.323736</td>\n",
       "      <td>-0.934896</td>\n",
       "      <td>0.541499</td>\n",
       "      <td>0.091779</td>\n",
       "      <td>-0.005898</td>\n",
       "      <td>0.659847</td>\n",
       "      <td>...</td>\n",
       "      <td>-0.846690</td>\n",
       "      <td>-0.059028</td>\n",
       "      <td>-0.666970</td>\n",
       "      <td>-0.206394</td>\n",
       "      <td>-0.059028</td>\n",
       "      <td>-2.066644</td>\n",
       "      <td>-0.642498</td>\n",
       "      <td>0.056135</td>\n",
       "      <td>1.833872</td>\n",
       "      <td>1.873185</td>\n",
       "    </tr>\n",
       "    <tr>\n",
       "      <th>G1_cell3_count</th>\n",
       "      <td>0.478532</td>\n",
       "      <td>1.431123</td>\n",
       "      <td>-0.050220</td>\n",
       "      <td>-0.146180</td>\n",
       "      <td>-0.086259</td>\n",
       "      <td>-0.120335</td>\n",
       "      <td>-0.263282</td>\n",
       "      <td>0.412568</td>\n",
       "      <td>0.850264</td>\n",
       "      <td>-0.001157</td>\n",
       "      <td>...</td>\n",
       "      <td>1.420302</td>\n",
       "      <td>-0.059028</td>\n",
       "      <td>0.046477</td>\n",
       "      <td>-0.206394</td>\n",
       "      <td>-0.059028</td>\n",
       "      <td>0.250297</td>\n",
       "      <td>-0.316149</td>\n",
       "      <td>0.797269</td>\n",
       "      <td>-0.184569</td>\n",
       "      <td>-0.323287</td>\n",
       "    </tr>\n",
       "    <tr>\n",
       "      <th>G1_cell4_count</th>\n",
       "      <td>0.899609</td>\n",
       "      <td>2.769476</td>\n",
       "      <td>-1.132643</td>\n",
       "      <td>-1.176229</td>\n",
       "      <td>-0.086259</td>\n",
       "      <td>-1.500864</td>\n",
       "      <td>-2.676408</td>\n",
       "      <td>0.680631</td>\n",
       "      <td>-0.746868</td>\n",
       "      <td>-1.745781</td>\n",
       "      <td>...</td>\n",
       "      <td>-0.529429</td>\n",
       "      <td>-0.059028</td>\n",
       "      <td>-0.964622</td>\n",
       "      <td>-0.206394</td>\n",
       "      <td>-0.059028</td>\n",
       "      <td>-1.602318</td>\n",
       "      <td>-0.642498</td>\n",
       "      <td>-0.258689</td>\n",
       "      <td>2.746986</td>\n",
       "      <td>1.313916</td>\n",
       "    </tr>\n",
       "    <tr>\n",
       "      <th>G1_cell5_count</th>\n",
       "      <td>1.842080</td>\n",
       "      <td>-0.826100</td>\n",
       "      <td>-0.607774</td>\n",
       "      <td>0.305226</td>\n",
       "      <td>-0.086259</td>\n",
       "      <td>-1.442478</td>\n",
       "      <td>0.646417</td>\n",
       "      <td>-0.293779</td>\n",
       "      <td>-1.329301</td>\n",
       "      <td>-1.758807</td>\n",
       "      <td>...</td>\n",
       "      <td>-2.362927</td>\n",
       "      <td>-0.059028</td>\n",
       "      <td>-0.029987</td>\n",
       "      <td>-0.206394</td>\n",
       "      <td>-0.059028</td>\n",
       "      <td>0.700365</td>\n",
       "      <td>-0.642498</td>\n",
       "      <td>-0.258689</td>\n",
       "      <td>0.288372</td>\n",
       "      <td>-0.572226</td>\n",
       "    </tr>\n",
       "  </tbody>\n",
       "</table>\n",
       "<p>5 rows × 1507 columns</p>\n",
       "</div>"
      ],
      "text/plain": [
       "                   Rock1    Gas2l1    Pik3r4     Tubb6     Il12a       Ttk  \\\n",
       "G1_cell1_count  0.795471  0.929152 -0.917957  0.487101 -0.086259  0.119715   \n",
       "G1_cell2_count  0.731163 -0.826100 -1.132643  0.874655  4.323736 -0.934896   \n",
       "G1_cell3_count  0.478532  1.431123 -0.050220 -0.146180 -0.086259 -0.120335   \n",
       "G1_cell4_count  0.899609  2.769476 -1.132643 -1.176229 -0.086259 -1.500864   \n",
       "G1_cell5_count  1.842080 -0.826100 -0.607774  0.305226 -0.086259 -1.442478   \n",
       "\n",
       "                    Pmf1      Smc3      Irf1    Ahctf1  ...     Cirbp  \\\n",
       "G1_cell1_count  0.776429  1.156811 -1.329301 -1.090155  ... -1.026106   \n",
       "G1_cell2_count  0.541499  0.091779 -0.005898  0.659847  ... -0.846690   \n",
       "G1_cell3_count -0.263282  0.412568  0.850264 -0.001157  ...  1.420302   \n",
       "G1_cell4_count -2.676408  0.680631 -0.746868 -1.745781  ... -0.529429   \n",
       "G1_cell5_count  0.646417 -0.293779 -1.329301 -1.758807  ... -2.362927   \n",
       "\n",
       "                  Gm4297     Rptor       Mos     Plcb1       Pbk      Nek2  \\\n",
       "G1_cell1_count -0.059028  1.483870 -0.206394 -0.059028  0.973693 -0.642498   \n",
       "G1_cell2_count -0.059028 -0.666970 -0.206394 -0.059028 -2.066644 -0.642498   \n",
       "G1_cell3_count -0.059028  0.046477 -0.206394 -0.059028  0.250297 -0.316149   \n",
       "G1_cell4_count -0.059028 -0.964622 -0.206394 -0.059028 -1.602318 -0.642498   \n",
       "G1_cell5_count -0.059028 -0.029987 -0.206394 -0.059028  0.700365 -0.642498   \n",
       "\n",
       "                  Trim36      Evi5    Atp2b4  \n",
       "G1_cell1_count -0.258689 -0.781634 -0.890501  \n",
       "G1_cell2_count  0.056135  1.833872  1.873185  \n",
       "G1_cell3_count  0.797269 -0.184569 -0.323287  \n",
       "G1_cell4_count -0.258689  2.746986  1.313916  \n",
       "G1_cell5_count -0.258689  0.288372 -0.572226  \n",
       "\n",
       "[5 rows x 1507 columns]"
      ]
     },
     "execution_count": 23,
     "metadata": {},
     "output_type": "execute_result"
    }
   ],
   "source": [
    "marker_df = pd.read_table('../../data/MGI-cell-cycle-0007049.txt', index_col=False)\n",
    "marker_df.head()\n",
    "\n",
    "gene_list = list(set(marker_df['Symbol'].unique().tolist()).intersection(sttpm.columns))\n",
    "gene_list\n",
    "\n",
    "sttpm.loc[:, gene_list].head()"
   ]
  },
  {
   "cell_type": "code",
   "execution_count": 24,
   "metadata": {
    "pycharm": {
     "is_executing": false,
     "name": "#%%\n"
    }
   },
   "outputs": [
    {
     "data": {
      "text/html": [
       "<div>\n",
       "<style scoped>\n",
       "    .dataframe tbody tr th:only-of-type {\n",
       "        vertical-align: middle;\n",
       "    }\n",
       "\n",
       "    .dataframe tbody tr th {\n",
       "        vertical-align: top;\n",
       "    }\n",
       "\n",
       "    .dataframe thead th {\n",
       "        text-align: right;\n",
       "    }\n",
       "</style>\n",
       "<table border=\"1\" class=\"dataframe\">\n",
       "  <thead>\n",
       "    <tr style=\"text-align: right;\">\n",
       "      <th></th>\n",
       "      <th>Rock1</th>\n",
       "      <th>Gas2l1</th>\n",
       "      <th>Pik3r4</th>\n",
       "      <th>Tubb6</th>\n",
       "      <th>Il12a</th>\n",
       "      <th>Ttk</th>\n",
       "      <th>Pmf1</th>\n",
       "      <th>Smc3</th>\n",
       "      <th>Irf1</th>\n",
       "      <th>Ahctf1</th>\n",
       "      <th>...</th>\n",
       "      <th>Cirbp</th>\n",
       "      <th>Gm4297</th>\n",
       "      <th>Rptor</th>\n",
       "      <th>Mos</th>\n",
       "      <th>Plcb1</th>\n",
       "      <th>Pbk</th>\n",
       "      <th>Nek2</th>\n",
       "      <th>Trim36</th>\n",
       "      <th>Evi5</th>\n",
       "      <th>Atp2b4</th>\n",
       "    </tr>\n",
       "  </thead>\n",
       "  <tbody>\n",
       "    <tr>\n",
       "      <th>G1_cell1_count</th>\n",
       "      <td>1.590942</td>\n",
       "      <td>1.858303</td>\n",
       "      <td>-1.835913</td>\n",
       "      <td>0.974202</td>\n",
       "      <td>-0.172518</td>\n",
       "      <td>0.239430</td>\n",
       "      <td>1.552858</td>\n",
       "      <td>2.313621</td>\n",
       "      <td>-2.658602</td>\n",
       "      <td>-2.180309</td>\n",
       "      <td>...</td>\n",
       "      <td>-2.052211</td>\n",
       "      <td>-0.118056</td>\n",
       "      <td>2.967739</td>\n",
       "      <td>-0.412789</td>\n",
       "      <td>-0.118056</td>\n",
       "      <td>1.947386</td>\n",
       "      <td>-1.284996</td>\n",
       "      <td>-0.517378</td>\n",
       "      <td>-1.563267</td>\n",
       "      <td>-1.781002</td>\n",
       "    </tr>\n",
       "    <tr>\n",
       "      <th>G1_cell2_count</th>\n",
       "      <td>1.462325</td>\n",
       "      <td>-1.652201</td>\n",
       "      <td>-2.265286</td>\n",
       "      <td>1.749309</td>\n",
       "      <td>8.647473</td>\n",
       "      <td>-1.869792</td>\n",
       "      <td>1.082998</td>\n",
       "      <td>0.183558</td>\n",
       "      <td>-0.011795</td>\n",
       "      <td>1.319693</td>\n",
       "      <td>...</td>\n",
       "      <td>-1.693380</td>\n",
       "      <td>-0.118056</td>\n",
       "      <td>-1.333939</td>\n",
       "      <td>-0.412789</td>\n",
       "      <td>-0.118056</td>\n",
       "      <td>-4.133288</td>\n",
       "      <td>-1.284996</td>\n",
       "      <td>0.112270</td>\n",
       "      <td>3.667744</td>\n",
       "      <td>3.746371</td>\n",
       "    </tr>\n",
       "    <tr>\n",
       "      <th>G1_cell3_count</th>\n",
       "      <td>0.957064</td>\n",
       "      <td>2.862246</td>\n",
       "      <td>-0.100441</td>\n",
       "      <td>-0.292360</td>\n",
       "      <td>-0.172518</td>\n",
       "      <td>-0.240670</td>\n",
       "      <td>-0.526564</td>\n",
       "      <td>0.825135</td>\n",
       "      <td>1.700527</td>\n",
       "      <td>-0.002314</td>\n",
       "      <td>...</td>\n",
       "      <td>2.840603</td>\n",
       "      <td>-0.118056</td>\n",
       "      <td>0.092953</td>\n",
       "      <td>-0.412789</td>\n",
       "      <td>-0.118056</td>\n",
       "      <td>0.500595</td>\n",
       "      <td>-0.632299</td>\n",
       "      <td>1.594539</td>\n",
       "      <td>-0.369139</td>\n",
       "      <td>-0.646574</td>\n",
       "    </tr>\n",
       "    <tr>\n",
       "      <th>G1_cell4_count</th>\n",
       "      <td>1.799218</td>\n",
       "      <td>5.538951</td>\n",
       "      <td>-2.265286</td>\n",
       "      <td>-2.352458</td>\n",
       "      <td>-0.172518</td>\n",
       "      <td>-3.001728</td>\n",
       "      <td>-5.352815</td>\n",
       "      <td>1.361263</td>\n",
       "      <td>-1.493737</td>\n",
       "      <td>-3.491562</td>\n",
       "      <td>...</td>\n",
       "      <td>-1.058858</td>\n",
       "      <td>-0.118056</td>\n",
       "      <td>-1.929244</td>\n",
       "      <td>-0.412789</td>\n",
       "      <td>-0.118056</td>\n",
       "      <td>-3.204635</td>\n",
       "      <td>-1.284996</td>\n",
       "      <td>-0.517378</td>\n",
       "      <td>5.493972</td>\n",
       "      <td>2.627832</td>\n",
       "    </tr>\n",
       "    <tr>\n",
       "      <th>G1_cell5_count</th>\n",
       "      <td>3.684160</td>\n",
       "      <td>-1.652201</td>\n",
       "      <td>-1.215548</td>\n",
       "      <td>0.610453</td>\n",
       "      <td>-0.172518</td>\n",
       "      <td>-2.884956</td>\n",
       "      <td>1.292834</td>\n",
       "      <td>-0.587559</td>\n",
       "      <td>-2.658602</td>\n",
       "      <td>-3.517613</td>\n",
       "      <td>...</td>\n",
       "      <td>-4.725853</td>\n",
       "      <td>-0.118056</td>\n",
       "      <td>-0.059975</td>\n",
       "      <td>-0.412789</td>\n",
       "      <td>-0.118056</td>\n",
       "      <td>1.400729</td>\n",
       "      <td>-1.284996</td>\n",
       "      <td>-0.517378</td>\n",
       "      <td>0.576744</td>\n",
       "      <td>-1.144452</td>\n",
       "    </tr>\n",
       "  </tbody>\n",
       "</table>\n",
       "<p>5 rows × 1507 columns</p>\n",
       "</div>"
      ],
      "text/plain": [
       "                   Rock1    Gas2l1    Pik3r4     Tubb6     Il12a       Ttk  \\\n",
       "G1_cell1_count  1.590942  1.858303 -1.835913  0.974202 -0.172518  0.239430   \n",
       "G1_cell2_count  1.462325 -1.652201 -2.265286  1.749309  8.647473 -1.869792   \n",
       "G1_cell3_count  0.957064  2.862246 -0.100441 -0.292360 -0.172518 -0.240670   \n",
       "G1_cell4_count  1.799218  5.538951 -2.265286 -2.352458 -0.172518 -3.001728   \n",
       "G1_cell5_count  3.684160 -1.652201 -1.215548  0.610453 -0.172518 -2.884956   \n",
       "\n",
       "                    Pmf1      Smc3      Irf1    Ahctf1  ...     Cirbp  \\\n",
       "G1_cell1_count  1.552858  2.313621 -2.658602 -2.180309  ... -2.052211   \n",
       "G1_cell2_count  1.082998  0.183558 -0.011795  1.319693  ... -1.693380   \n",
       "G1_cell3_count -0.526564  0.825135  1.700527 -0.002314  ...  2.840603   \n",
       "G1_cell4_count -5.352815  1.361263 -1.493737 -3.491562  ... -1.058858   \n",
       "G1_cell5_count  1.292834 -0.587559 -2.658602 -3.517613  ... -4.725853   \n",
       "\n",
       "                  Gm4297     Rptor       Mos     Plcb1       Pbk      Nek2  \\\n",
       "G1_cell1_count -0.118056  2.967739 -0.412789 -0.118056  1.947386 -1.284996   \n",
       "G1_cell2_count -0.118056 -1.333939 -0.412789 -0.118056 -4.133288 -1.284996   \n",
       "G1_cell3_count -0.118056  0.092953 -0.412789 -0.118056  0.500595 -0.632299   \n",
       "G1_cell4_count -0.118056 -1.929244 -0.412789 -0.118056 -3.204635 -1.284996   \n",
       "G1_cell5_count -0.118056 -0.059975 -0.412789 -0.118056  1.400729 -1.284996   \n",
       "\n",
       "                  Trim36      Evi5    Atp2b4  \n",
       "G1_cell1_count -0.517378 -1.563267 -1.781002  \n",
       "G1_cell2_count  0.112270  3.667744  3.746371  \n",
       "G1_cell3_count  1.594539 -0.369139 -0.646574  \n",
       "G1_cell4_count -0.517378  5.493972  2.627832  \n",
       "G1_cell5_count -0.517378  0.576744 -1.144452  \n",
       "\n",
       "[5 rows x 1507 columns]"
      ]
     },
     "execution_count": 24,
     "metadata": {},
     "output_type": "execute_result"
    }
   ],
   "source": [
    "sttpm.loc[:, gene_list] *= 2\n",
    "\n",
    "sttpm.loc[:, gene_list].head()"
   ]
  },
  {
   "cell_type": "markdown",
   "metadata": {},
   "source": [
    "There is no convention whether cells should be columns or rows. Here we require cells to be rows."
   ]
  },
  {
   "cell_type": "markdown",
   "metadata": {
    "pycharm": {
     "is_executing": false,
     "name": "#%% md\n"
    }
   },
   "source": [
    "## Set up the model and fit the model"
   ]
  },
  {
   "cell_type": "code",
   "execution_count": 25,
   "metadata": {
    "pycharm": {
     "is_executing": false,
     "name": "#%%\n"
    }
   },
   "outputs": [
    {
     "name": "stdout",
     "output_type": "stream",
     "text": [
      "Auto tuning number of linear components...\n",
      "Performing PCA...\n",
      "Training Autoencoder with...\n",
      "    0 linear dimensions...\n",
      "WARNING:tensorflow:From /home/shaoheng/miniconda3/envs/tf-gpu/lib/python3.7/site-packages/keras/backend/tensorflow_backend.py:517: The name tf.placeholder is deprecated. Please use tf.compat.v1.placeholder instead.\n",
      "\n",
      "WARNING:tensorflow:From /home/shaoheng/miniconda3/envs/tf-gpu/lib/python3.7/site-packages/keras/backend/tensorflow_backend.py:4185: The name tf.truncated_normal is deprecated. Please use tf.random.truncated_normal instead.\n",
      "\n",
      "WARNING:tensorflow:From /home/shaoheng/miniconda3/envs/tf-gpu/lib/python3.7/site-packages/keras/backend/tensorflow_backend.py:131: The name tf.get_default_graph is deprecated. Please use tf.compat.v1.get_default_graph instead.\n",
      "\n",
      "WARNING:tensorflow:From /home/shaoheng/miniconda3/envs/tf-gpu/lib/python3.7/site-packages/keras/backend/tensorflow_backend.py:133: The name tf.placeholder_with_default is deprecated. Please use tf.compat.v1.placeholder_with_default instead.\n",
      "\n",
      "WARNING:tensorflow:From /home/shaoheng/miniconda3/envs/tf-gpu/lib/python3.7/site-packages/keras/backend/tensorflow_backend.py:3445: calling dropout (from tensorflow.python.ops.nn_ops) with keep_prob is deprecated and will be removed in a future version.\n",
      "Instructions for updating:\n",
      "Please use `rate` instead of `keep_prob`. Rate should be set to `rate = 1 - keep_prob`.\n",
      "WARNING:tensorflow:From /home/shaoheng/miniconda3/envs/tf-gpu/lib/python3.7/site-packages/keras/optimizers.py:790: The name tf.train.Optimizer is deprecated. Please use tf.compat.v1.train.Optimizer instead.\n",
      "\n",
      "WARNING:tensorflow:From /home/shaoheng/miniconda3/envs/tf-gpu/lib/python3.7/site-packages/keras/backend/tensorflow_backend.py:986: The name tf.assign_add is deprecated. Please use tf.compat.v1.assign_add instead.\n",
      "\n",
      "epoch: 100/500, loss:  0.8298, time elapsed:  32.31s, time left:  129.23s\n",
      "epoch: 200/500, loss:  0.8212, time elapsed:  63.16s, time left:  94.74s\n",
      "epoch: 300/500, loss:  0.8166, time elapsed:  94.04s, time left:  62.69s\n",
      "epoch: 400/500, loss:  0.8142, time elapsed:  124.91s, time left:  31.23s\n",
      "epoch: 500/500, loss:  0.8121, time elapsed:  155.73s, time left:  0.00s\n",
      "[0.8121262457635667]\n",
      "[0.7840205605934473, 0.7726384155715207, 0.7642100231413654, 0.7572218128166743, 0.7506621469737493, 0.745134816389744, 0.7397957575604982]\n",
      "    1 linear dimensions...\n",
      "epoch: 100/500, loss:  0.7778, time elapsed:  31.65s, time left:  126.60s\n",
      "epoch: 200/500, loss:  0.7735, time elapsed:  62.96s, time left:  94.44s\n",
      "epoch: 300/500, loss:  0.7714, time elapsed:  94.28s, time left:  62.85s\n",
      "epoch: 400/500, loss:  0.7708, time elapsed:  125.63s, time left:  31.41s\n",
      "epoch: 500/500, loss:  0.7700, time elapsed:  156.92s, time left:  0.00s\n",
      "[0.8121262457635667, 0.7699890202946134]\n",
      "[0.7840205605934473, 0.7726384155715207, 0.7642100231413654, 0.7572218128166743, 0.7506621469737493, 0.745134816389744, 0.7397957575604982]\n",
      "    2 linear dimensions...\n",
      "epoch: 100/500, loss:  0.7695, time elapsed:  32.29s, time left:  129.15s\n",
      "epoch: 200/500, loss:  0.7659, time elapsed:  64.06s, time left:  96.09s\n",
      "epoch: 300/500, loss:  0.7646, time elapsed:  95.92s, time left:  63.95s\n",
      "epoch: 400/500, loss:  0.7642, time elapsed:  129.33s, time left:  32.33s\n",
      "epoch: 500/500, loss:  0.7636, time elapsed:  162.37s, time left:  0.00s\n",
      "[0.8121262457635667, 0.7699890202946134, 0.7636439866489835]\n",
      "[0.7840205605934473, 0.7726384155715207, 0.7642100231413654, 0.7572218128166743, 0.7506621469737493, 0.745134816389744, 0.7397957575604982]\n",
      "Found! Use 1 linear components...\n",
      "Early stop disabled, continue to check all cases...\n",
      "    3 linear dimensions...\n",
      "epoch: 100/500, loss:  0.7626, time elapsed:  32.59s, time left:  130.35s\n",
      "epoch: 200/500, loss:  0.7596, time elapsed:  64.62s, time left:  96.94s\n",
      "epoch: 300/500, loss:  0.7585, time elapsed:  96.66s, time left:  64.44s\n",
      "epoch: 400/500, loss:  0.7578, time elapsed:  130.92s, time left:  32.73s\n",
      "epoch: 500/500, loss:  0.7574, time elapsed:  164.17s, time left:  0.00s\n",
      "[0.8121262457635667, 0.7699890202946134, 0.7636439866489835, 0.7574412226676941]\n",
      "[0.7840205605934473, 0.7726384155715207, 0.7642100231413654, 0.7572218128166743, 0.7506621469737493, 0.745134816389744, 0.7397957575604982]\n",
      "    4 linear dimensions...\n",
      "epoch: 100/500, loss:  0.7558, time elapsed:  34.41s, time left:  137.63s\n",
      "epoch: 200/500, loss:  0.7533, time elapsed:  69.94s, time left:  104.90s\n",
      "epoch: 300/500, loss:  0.7523, time elapsed:  103.68s, time left:  69.12s\n",
      "epoch: 400/500, loss:  0.7517, time elapsed:  137.51s, time left:  34.38s\n",
      "epoch: 500/500, loss:  0.7514, time elapsed:  172.21s, time left:  0.00s\n",
      "[0.8121262457635667, 0.7699890202946134, 0.7636439866489835, 0.7574412226676941, 0.7513593170377943]\n",
      "[0.7840205605934473, 0.7726384155715207, 0.7642100231413654, 0.7572218128166743, 0.7506621469737493, 0.745134816389744, 0.7397957575604982]\n",
      "    5 linear dimensions...\n",
      "epoch: 100/500, loss:  0.7491, time elapsed:  33.23s, time left:  132.92s\n",
      "epoch: 200/500, loss:  0.7464, time elapsed:  66.51s, time left:  99.76s\n",
      "epoch: 300/500, loss:  0.7453, time elapsed:  100.23s, time left:  66.82s\n",
      "epoch: 400/500, loss:  0.7449, time elapsed:  133.21s, time left:  33.30s\n",
      "epoch: 500/500, loss:  0.7446, time elapsed:  170.41s, time left:  0.00s\n",
      "[0.8121262457635667, 0.7699890202946134, 0.7636439866489835, 0.7574412226676941, 0.7513593170377943, 0.7446426020728217]\n",
      "[0.7840205605934473, 0.7726384155715207, 0.7642100231413654, 0.7572218128166743, 0.7506621469737493, 0.745134816389744, 0.7397957575604982]\n"
     ]
    }
   ],
   "source": [
    "model = cyclum.tuning.CyclumAutoTune(sttpm, max_linear_dims=5, \n",
    "                                     epochs=500, rate=2e-4, verbose=100,\n",
    "                                     encoder_width=[30, 20])"
   ]
  },
  {
   "cell_type": "code",
   "execution_count": 26,
   "metadata": {
    "pycharm": {
     "is_executing": false,
     "name": "#%%\n"
    }
   },
   "outputs": [
    {
     "data": {
      "image/png": "[encoded data removed]",
      "text/plain": [
       "<Figure size 432x288 with 1 Axes>"
      ]
     },
     "execution_count": 26,
     "metadata": {},
     "output_type": "execute_result"
    },
    {
     "data": {
      "image/png": "[encoded data removed]",
      "text/plain": [
       "<Figure size 432x288 with 1 Axes>"
      ]
     },
     "metadata": {
      "needs_background": "light"
     },
     "output_type": "display_data"
    }
   ],
   "source": [
    "model.show_elbow()"
   ]
  },
  {
   "cell_type": "code",
   "execution_count": 27,
   "metadata": {
    "pycharm": {
     "is_executing": false,
     "name": "#%%\n"
    }
   },
   "outputs": [
    {
     "data": {
      "image/svg+xml": [
       "<svg height=\"968pt\" viewBox=\"0.00 0.00 734.50 968.00\" width=\"735pt\" xmlns=\"http://www.w3.org/2000/svg\" xmlns:xlink=\"http://www.w3.org/1999/xlink\">\n",
       "<g class=\"graph\" id=\"graph0\" transform=\"scale(1 1) rotate(0) translate(4 964)\">\n",
       "<title>G</title>\n",
       "<polygon fill=\"#ffffff\" points=\"-4,4 -4,-964 730.5,-964 730.5,4 -4,4\" stroke=\"transparent\"/>\n",
       "<!-- 140367411923984 -->\n",
       "<g class=\"node\" id=\"node1\">\n",
       "<title>140367411923984</title>\n",
       "<polygon fill=\"none\" points=\"305,-913.5 305,-959.5 571,-959.5 571,-913.5 305,-913.5\" stroke=\"#000000\"/>\n",
       "<text fill=\"#000000\" font-family=\"Times,serif\" font-size=\"14.00\" text-anchor=\"middle\" x=\"361.5\" y=\"-932.8\">input: InputLayer</text>\n",
       "<polyline fill=\"none\" points=\"418,-913.5 418,-959.5 \" stroke=\"#000000\"/>\n",
       "<text fill=\"#000000\" font-family=\"Times,serif\" font-size=\"14.00\" text-anchor=\"middle\" x=\"446\" y=\"-944.3\">input:</text>\n",
       "<polyline fill=\"none\" points=\"418,-936.5 474,-936.5 \" stroke=\"#000000\"/>\n",
       "<text fill=\"#000000\" font-family=\"Times,serif\" font-size=\"14.00\" text-anchor=\"middle\" x=\"446\" y=\"-921.3\">output:</text>\n",
       "<polyline fill=\"none\" points=\"474,-913.5 474,-959.5 \" stroke=\"#000000\"/>\n",
       "<text fill=\"#000000\" font-family=\"Times,serif\" font-size=\"14.00\" text-anchor=\"middle\" x=\"522.5\" y=\"-944.3\">(None, 38293)</text>\n",
       "<polyline fill=\"none\" points=\"474,-936.5 571,-936.5 \" stroke=\"#000000\"/>\n",
       "<text fill=\"#000000\" font-family=\"Times,serif\" font-size=\"14.00\" text-anchor=\"middle\" x=\"522.5\" y=\"-921.3\">(None, 38293)</text>\n",
       "</g>\n",
       "<!-- 140367411922256 -->\n",
       "<g class=\"node\" id=\"node2\">\n",
       "<title>140367411922256</title>\n",
       "<polygon fill=\"none\" points=\"202.5,-830.5 202.5,-876.5 497.5,-876.5 497.5,-830.5 202.5,-830.5\" stroke=\"#000000\"/>\n",
       "<text fill=\"#000000\" font-family=\"Times,serif\" font-size=\"14.00\" text-anchor=\"middle\" x=\"273.5\" y=\"-849.8\">encoder0_scale: Dense</text>\n",
       "<polyline fill=\"none\" points=\"344.5,-830.5 344.5,-876.5 \" stroke=\"#000000\"/>\n",
       "<text fill=\"#000000\" font-family=\"Times,serif\" font-size=\"14.00\" text-anchor=\"middle\" x=\"372.5\" y=\"-861.3\">input:</text>\n",
       "<polyline fill=\"none\" points=\"344.5,-853.5 400.5,-853.5 \" stroke=\"#000000\"/>\n",
       "<text fill=\"#000000\" font-family=\"Times,serif\" font-size=\"14.00\" text-anchor=\"middle\" x=\"372.5\" y=\"-838.3\">output:</text>\n",
       "<polyline fill=\"none\" points=\"400.5,-830.5 400.5,-876.5 \" stroke=\"#000000\"/>\n",
       "<text fill=\"#000000\" font-family=\"Times,serif\" font-size=\"14.00\" text-anchor=\"middle\" x=\"449\" y=\"-861.3\">(None, 38293)</text>\n",
       "<polyline fill=\"none\" points=\"400.5,-853.5 497.5,-853.5 \" stroke=\"#000000\"/>\n",
       "<text fill=\"#000000\" font-family=\"Times,serif\" font-size=\"14.00\" text-anchor=\"middle\" x=\"449\" y=\"-838.3\">(None, 30)</text>\n",
       "</g>\n",
       "<!-- 140367411923984&#45;&gt;140367411922256 -->\n",
       "<g class=\"edge\" id=\"edge1\">\n",
       "<title>140367411923984-&gt;140367411922256</title>\n",
       "<path d=\"M413.4871,-913.3799C403.7473,-904.1935 392.411,-893.5013 382.0354,-883.7152\" fill=\"none\" stroke=\"#000000\"/>\n",
       "<polygon fill=\"#000000\" points=\"384.3629,-881.0993 374.6867,-876.784 379.5599,-886.1916 384.3629,-881.0993\" stroke=\"#000000\"/>\n",
       "</g>\n",
       "<!-- 140367411155664 -->\n",
       "<g class=\"node\" id=\"node11\">\n",
       "<title>140367411155664</title>\n",
       "<polygon fill=\"none\" points=\"455.5,-747.5 455.5,-793.5 726.5,-793.5 726.5,-747.5 455.5,-747.5\" stroke=\"#000000\"/>\n",
       "<text fill=\"#000000\" font-family=\"Times,serif\" font-size=\"14.00\" text-anchor=\"middle\" x=\"514.5\" y=\"-766.8\">bypass_out: Dense</text>\n",
       "<polyline fill=\"none\" points=\"573.5,-747.5 573.5,-793.5 \" stroke=\"#000000\"/>\n",
       "<text fill=\"#000000\" font-family=\"Times,serif\" font-size=\"14.00\" text-anchor=\"middle\" x=\"601.5\" y=\"-778.3\">input:</text>\n",
       "<polyline fill=\"none\" points=\"573.5,-770.5 629.5,-770.5 \" stroke=\"#000000\"/>\n",
       "<text fill=\"#000000\" font-family=\"Times,serif\" font-size=\"14.00\" text-anchor=\"middle\" x=\"601.5\" y=\"-755.3\">output:</text>\n",
       "<polyline fill=\"none\" points=\"629.5,-747.5 629.5,-793.5 \" stroke=\"#000000\"/>\n",
       "<text fill=\"#000000\" font-family=\"Times,serif\" font-size=\"14.00\" text-anchor=\"middle\" x=\"678\" y=\"-778.3\">(None, 38293)</text>\n",
       "<polyline fill=\"none\" points=\"629.5,-770.5 726.5,-770.5 \" stroke=\"#000000\"/>\n",
       "<text fill=\"#000000\" font-family=\"Times,serif\" font-size=\"14.00\" text-anchor=\"middle\" x=\"678\" y=\"-755.3\">(None, 1)</text>\n",
       "</g>\n",
       "<!-- 140367411923984&#45;&gt;140367411155664 -->\n",
       "<g class=\"edge\" id=\"edge10\">\n",
       "<title>140367411923984-&gt;140367411155664</title>\n",
       "<path d=\"M466.819,-913.2571C479.3278,-902.6774 493.8608,-889.7011 506,-877 528.6546,-853.2967 551.6941,-824.0419 568.061,-802.1949\" fill=\"none\" stroke=\"#000000\"/>\n",
       "<polygon fill=\"#000000\" points=\"571.0566,-804.0316 574.2095,-793.9167 565.4371,-799.8577 571.0566,-804.0316\" stroke=\"#000000\"/>\n",
       "</g>\n",
       "<!-- 140367411846416 -->\n",
       "<g class=\"node\" id=\"node3\">\n",
       "<title>140367411846416</title>\n",
       "<polygon fill=\"none\" points=\"134.5,-747.5 134.5,-793.5 437.5,-793.5 437.5,-747.5 134.5,-747.5\" stroke=\"#000000\"/>\n",
       "<text fill=\"#000000\" font-family=\"Times,serif\" font-size=\"14.00\" text-anchor=\"middle\" x=\"219.5\" y=\"-766.8\">encoder0_dropout: Dropout</text>\n",
       "<polyline fill=\"none\" points=\"304.5,-747.5 304.5,-793.5 \" stroke=\"#000000\"/>\n",
       "<text fill=\"#000000\" font-family=\"Times,serif\" font-size=\"14.00\" text-anchor=\"middle\" x=\"332.5\" y=\"-778.3\">input:</text>\n",
       "<polyline fill=\"none\" points=\"304.5,-770.5 360.5,-770.5 \" stroke=\"#000000\"/>\n",
       "<text fill=\"#000000\" font-family=\"Times,serif\" font-size=\"14.00\" text-anchor=\"middle\" x=\"332.5\" y=\"-755.3\">output:</text>\n",
       "<polyline fill=\"none\" points=\"360.5,-747.5 360.5,-793.5 \" stroke=\"#000000\"/>\n",
       "<text fill=\"#000000\" font-family=\"Times,serif\" font-size=\"14.00\" text-anchor=\"middle\" x=\"399\" y=\"-778.3\">(None, 30)</text>\n",
       "<polyline fill=\"none\" points=\"360.5,-770.5 437.5,-770.5 \" stroke=\"#000000\"/>\n",
       "<text fill=\"#000000\" font-family=\"Times,serif\" font-size=\"14.00\" text-anchor=\"middle\" x=\"399\" y=\"-755.3\">(None, 30)</text>\n",
       "</g>\n",
       "<!-- 140367411922256&#45;&gt;140367411846416 -->\n",
       "<g class=\"edge\" id=\"edge2\">\n",
       "<title>140367411922256-&gt;140367411846416</title>\n",
       "<path d=\"M332.1724,-830.3799C325.364,-821.5502 317.483,-811.3295 310.1807,-801.8593\" fill=\"none\" stroke=\"#000000\"/>\n",
       "<polygon fill=\"#000000\" points=\"312.832,-799.5659 303.9539,-793.784 307.2886,-803.8404 312.832,-799.5659\" stroke=\"#000000\"/>\n",
       "</g>\n",
       "<!-- 140367411845072 -->\n",
       "<g class=\"node\" id=\"node4\">\n",
       "<title>140367411845072</title>\n",
       "<polygon fill=\"none\" points=\"140.5,-664.5 140.5,-710.5 431.5,-710.5 431.5,-664.5 140.5,-664.5\" stroke=\"#000000\"/>\n",
       "<text fill=\"#000000\" font-family=\"Times,serif\" font-size=\"14.00\" text-anchor=\"middle\" x=\"219.5\" y=\"-683.8\">encoder0_act: Activation</text>\n",
       "<polyline fill=\"none\" points=\"298.5,-664.5 298.5,-710.5 \" stroke=\"#000000\"/>\n",
       "<text fill=\"#000000\" font-family=\"Times,serif\" font-size=\"14.00\" text-anchor=\"middle\" x=\"326.5\" y=\"-695.3\">input:</text>\n",
       "<polyline fill=\"none\" points=\"298.5,-687.5 354.5,-687.5 \" stroke=\"#000000\"/>\n",
       "<text fill=\"#000000\" font-family=\"Times,serif\" font-size=\"14.00\" text-anchor=\"middle\" x=\"326.5\" y=\"-672.3\">output:</text>\n",
       "<polyline fill=\"none\" points=\"354.5,-664.5 354.5,-710.5 \" stroke=\"#000000\"/>\n",
       "<text fill=\"#000000\" font-family=\"Times,serif\" font-size=\"14.00\" text-anchor=\"middle\" x=\"393\" y=\"-695.3\">(None, 30)</text>\n",
       "<polyline fill=\"none\" points=\"354.5,-687.5 431.5,-687.5 \" stroke=\"#000000\"/>\n",
       "<text fill=\"#000000\" font-family=\"Times,serif\" font-size=\"14.00\" text-anchor=\"middle\" x=\"393\" y=\"-672.3\">(None, 30)</text>\n",
       "</g>\n",
       "<!-- 140367411846416&#45;&gt;140367411845072 -->\n",
       "<g class=\"edge\" id=\"edge3\">\n",
       "<title>140367411846416-&gt;140367411845072</title>\n",
       "<path d=\"M286,-747.3799C286,-739.1745 286,-729.7679 286,-720.8786\" fill=\"none\" stroke=\"#000000\"/>\n",
       "<polygon fill=\"#000000\" points=\"289.5001,-720.784 286,-710.784 282.5001,-720.784 289.5001,-720.784\" stroke=\"#000000\"/>\n",
       "</g>\n",
       "<!-- 140367411663312 -->\n",
       "<g class=\"node\" id=\"node5\">\n",
       "<title>140367411663312</title>\n",
       "<polygon fill=\"none\" points=\"148.5,-581.5 148.5,-627.5 423.5,-627.5 423.5,-581.5 148.5,-581.5\" stroke=\"#000000\"/>\n",
       "<text fill=\"#000000\" font-family=\"Times,serif\" font-size=\"14.00\" text-anchor=\"middle\" x=\"219.5\" y=\"-600.8\">encoder1_scale: Dense</text>\n",
       "<polyline fill=\"none\" points=\"290.5,-581.5 290.5,-627.5 \" stroke=\"#000000\"/>\n",
       "<text fill=\"#000000\" font-family=\"Times,serif\" font-size=\"14.00\" text-anchor=\"middle\" x=\"318.5\" y=\"-612.3\">input:</text>\n",
       "<polyline fill=\"none\" points=\"290.5,-604.5 346.5,-604.5 \" stroke=\"#000000\"/>\n",
       "<text fill=\"#000000\" font-family=\"Times,serif\" font-size=\"14.00\" text-anchor=\"middle\" x=\"318.5\" y=\"-589.3\">output:</text>\n",
       "<polyline fill=\"none\" points=\"346.5,-581.5 346.5,-627.5 \" stroke=\"#000000\"/>\n",
       "<text fill=\"#000000\" font-family=\"Times,serif\" font-size=\"14.00\" text-anchor=\"middle\" x=\"385\" y=\"-612.3\">(None, 30)</text>\n",
       "<polyline fill=\"none\" points=\"346.5,-604.5 423.5,-604.5 \" stroke=\"#000000\"/>\n",
       "<text fill=\"#000000\" font-family=\"Times,serif\" font-size=\"14.00\" text-anchor=\"middle\" x=\"385\" y=\"-589.3\">(None, 20)</text>\n",
       "</g>\n",
       "<!-- 140367411845072&#45;&gt;140367411663312 -->\n",
       "<g class=\"edge\" id=\"edge4\">\n",
       "<title>140367411845072-&gt;140367411663312</title>\n",
       "<path d=\"M286,-664.3799C286,-656.1745 286,-646.7679 286,-637.8786\" fill=\"none\" stroke=\"#000000\"/>\n",
       "<polygon fill=\"#000000\" points=\"289.5001,-637.784 286,-627.784 282.5001,-637.784 289.5001,-637.784\" stroke=\"#000000\"/>\n",
       "</g>\n",
       "<!-- 140367411664336 -->\n",
       "<g class=\"node\" id=\"node6\">\n",
       "<title>140367411664336</title>\n",
       "<polygon fill=\"none\" points=\"134.5,-498.5 134.5,-544.5 437.5,-544.5 437.5,-498.5 134.5,-498.5\" stroke=\"#000000\"/>\n",
       "<text fill=\"#000000\" font-family=\"Times,serif\" font-size=\"14.00\" text-anchor=\"middle\" x=\"219.5\" y=\"-517.8\">encoder1_dropout: Dropout</text>\n",
       "<polyline fill=\"none\" points=\"304.5,-498.5 304.5,-544.5 \" stroke=\"#000000\"/>\n",
       "<text fill=\"#000000\" font-family=\"Times,serif\" font-size=\"14.00\" text-anchor=\"middle\" x=\"332.5\" y=\"-529.3\">input:</text>\n",
       "<polyline fill=\"none\" points=\"304.5,-521.5 360.5,-521.5 \" stroke=\"#000000\"/>\n",
       "<text fill=\"#000000\" font-family=\"Times,serif\" font-size=\"14.00\" text-anchor=\"middle\" x=\"332.5\" y=\"-506.3\">output:</text>\n",
       "<polyline fill=\"none\" points=\"360.5,-498.5 360.5,-544.5 \" stroke=\"#000000\"/>\n",
       "<text fill=\"#000000\" font-family=\"Times,serif\" font-size=\"14.00\" text-anchor=\"middle\" x=\"399\" y=\"-529.3\">(None, 20)</text>\n",
       "<polyline fill=\"none\" points=\"360.5,-521.5 437.5,-521.5 \" stroke=\"#000000\"/>\n",
       "<text fill=\"#000000\" font-family=\"Times,serif\" font-size=\"14.00\" text-anchor=\"middle\" x=\"399\" y=\"-506.3\">(None, 20)</text>\n",
       "</g>\n",
       "<!-- 140367411663312&#45;&gt;140367411664336 -->\n",
       "<g class=\"edge\" id=\"edge5\">\n",
       "<title>140367411663312-&gt;140367411664336</title>\n",
       "<path d=\"M286,-581.3799C286,-573.1745 286,-563.7679 286,-554.8786\" fill=\"none\" stroke=\"#000000\"/>\n",
       "<polygon fill=\"#000000\" points=\"289.5001,-554.784 286,-544.784 282.5001,-554.784 289.5001,-554.784\" stroke=\"#000000\"/>\n",
       "</g>\n",
       "<!-- 140367411663056 -->\n",
       "<g class=\"node\" id=\"node7\">\n",
       "<title>140367411663056</title>\n",
       "<polygon fill=\"none\" points=\"140.5,-415.5 140.5,-461.5 431.5,-461.5 431.5,-415.5 140.5,-415.5\" stroke=\"#000000\"/>\n",
       "<text fill=\"#000000\" font-family=\"Times,serif\" font-size=\"14.00\" text-anchor=\"middle\" x=\"219.5\" y=\"-434.8\">encoder1_act: Activation</text>\n",
       "<polyline fill=\"none\" points=\"298.5,-415.5 298.5,-461.5 \" stroke=\"#000000\"/>\n",
       "<text fill=\"#000000\" font-family=\"Times,serif\" font-size=\"14.00\" text-anchor=\"middle\" x=\"326.5\" y=\"-446.3\">input:</text>\n",
       "<polyline fill=\"none\" points=\"298.5,-438.5 354.5,-438.5 \" stroke=\"#000000\"/>\n",
       "<text fill=\"#000000\" font-family=\"Times,serif\" font-size=\"14.00\" text-anchor=\"middle\" x=\"326.5\" y=\"-423.3\">output:</text>\n",
       "<polyline fill=\"none\" points=\"354.5,-415.5 354.5,-461.5 \" stroke=\"#000000\"/>\n",
       "<text fill=\"#000000\" font-family=\"Times,serif\" font-size=\"14.00\" text-anchor=\"middle\" x=\"393\" y=\"-446.3\">(None, 20)</text>\n",
       "<polyline fill=\"none\" points=\"354.5,-438.5 431.5,-438.5 \" stroke=\"#000000\"/>\n",
       "<text fill=\"#000000\" font-family=\"Times,serif\" font-size=\"14.00\" text-anchor=\"middle\" x=\"393\" y=\"-423.3\">(None, 20)</text>\n",
       "</g>\n",
       "<!-- 140367411664336&#45;&gt;140367411663056 -->\n",
       "<g class=\"edge\" id=\"edge6\">\n",
       "<title>140367411664336-&gt;140367411663056</title>\n",
       "<path d=\"M286,-498.3799C286,-490.1745 286,-480.7679 286,-471.8786\" fill=\"none\" stroke=\"#000000\"/>\n",
       "<polygon fill=\"#000000\" points=\"289.5001,-471.784 286,-461.784 282.5001,-471.784 289.5001,-471.784\" stroke=\"#000000\"/>\n",
       "</g>\n",
       "<!-- 140367411046352 -->\n",
       "<g class=\"node\" id=\"node8\">\n",
       "<title>140367411046352</title>\n",
       "<polygon fill=\"none\" points=\"156.5,-332.5 156.5,-378.5 415.5,-378.5 415.5,-332.5 156.5,-332.5\" stroke=\"#000000\"/>\n",
       "<text fill=\"#000000\" font-family=\"Times,serif\" font-size=\"14.00\" text-anchor=\"middle\" x=\"219.5\" y=\"-351.8\">encoder_out: Dense</text>\n",
       "<polyline fill=\"none\" points=\"282.5,-332.5 282.5,-378.5 \" stroke=\"#000000\"/>\n",
       "<text fill=\"#000000\" font-family=\"Times,serif\" font-size=\"14.00\" text-anchor=\"middle\" x=\"310.5\" y=\"-363.3\">input:</text>\n",
       "<polyline fill=\"none\" points=\"282.5,-355.5 338.5,-355.5 \" stroke=\"#000000\"/>\n",
       "<text fill=\"#000000\" font-family=\"Times,serif\" font-size=\"14.00\" text-anchor=\"middle\" x=\"310.5\" y=\"-340.3\">output:</text>\n",
       "<polyline fill=\"none\" points=\"338.5,-332.5 338.5,-378.5 \" stroke=\"#000000\"/>\n",
       "<text fill=\"#000000\" font-family=\"Times,serif\" font-size=\"14.00\" text-anchor=\"middle\" x=\"377\" y=\"-363.3\">(None, 20)</text>\n",
       "<polyline fill=\"none\" points=\"338.5,-355.5 415.5,-355.5 \" stroke=\"#000000\"/>\n",
       "<text fill=\"#000000\" font-family=\"Times,serif\" font-size=\"14.00\" text-anchor=\"middle\" x=\"377\" y=\"-340.3\">(None, 1)</text>\n",
       "</g>\n",
       "<!-- 140367411663056&#45;&gt;140367411046352 -->\n",
       "<g class=\"edge\" id=\"edge7\">\n",
       "<title>140367411663056-&gt;140367411046352</title>\n",
       "<path d=\"M286,-415.3799C286,-407.1745 286,-397.7679 286,-388.8786\" fill=\"none\" stroke=\"#000000\"/>\n",
       "<polygon fill=\"#000000\" points=\"289.5001,-388.784 286,-378.784 282.5001,-388.784 289.5001,-388.784\" stroke=\"#000000\"/>\n",
       "</g>\n",
       "<!-- 140369132248528 -->\n",
       "<g class=\"node\" id=\"node9\">\n",
       "<title>140369132248528</title>\n",
       "<polygon fill=\"none\" points=\"0,-249.5 0,-295.5 260,-295.5 260,-249.5 0,-249.5\" stroke=\"#000000\"/>\n",
       "<text fill=\"#000000\" font-family=\"Times,serif\" font-size=\"14.00\" text-anchor=\"middle\" x=\"67\" y=\"-268.8\">circular_sin: Lambda</text>\n",
       "<polyline fill=\"none\" points=\"134,-249.5 134,-295.5 \" stroke=\"#000000\"/>\n",
       "<text fill=\"#000000\" font-family=\"Times,serif\" font-size=\"14.00\" text-anchor=\"middle\" x=\"162\" y=\"-280.3\">input:</text>\n",
       "<polyline fill=\"none\" points=\"134,-272.5 190,-272.5 \" stroke=\"#000000\"/>\n",
       "<text fill=\"#000000\" font-family=\"Times,serif\" font-size=\"14.00\" text-anchor=\"middle\" x=\"162\" y=\"-257.3\">output:</text>\n",
       "<polyline fill=\"none\" points=\"190,-249.5 190,-295.5 \" stroke=\"#000000\"/>\n",
       "<text fill=\"#000000\" font-family=\"Times,serif\" font-size=\"14.00\" text-anchor=\"middle\" x=\"225\" y=\"-280.3\">(None, 1)</text>\n",
       "<polyline fill=\"none\" points=\"190,-272.5 260,-272.5 \" stroke=\"#000000\"/>\n",
       "<text fill=\"#000000\" font-family=\"Times,serif\" font-size=\"14.00\" text-anchor=\"middle\" x=\"225\" y=\"-257.3\">(None, 1)</text>\n",
       "</g>\n",
       "<!-- 140367411046352&#45;&gt;140369132248528 -->\n",
       "<g class=\"edge\" id=\"edge8\">\n",
       "<title>140367411046352-&gt;140369132248528</title>\n",
       "<path d=\"M242.5453,-332.3799C223.9442,-322.4832 202.0585,-310.8388 182.556,-300.4625\" fill=\"none\" stroke=\"#000000\"/>\n",
       "<polygon fill=\"#000000\" points=\"183.9642,-297.2472 173.492,-295.6399 180.6762,-303.427 183.9642,-297.2472\" stroke=\"#000000\"/>\n",
       "</g>\n",
       "<!-- 140369131939408 -->\n",
       "<g class=\"node\" id=\"node10\">\n",
       "<title>140369131939408</title>\n",
       "<polygon fill=\"none\" points=\"278.5,-249.5 278.5,-295.5 539.5,-295.5 539.5,-249.5 278.5,-249.5\" stroke=\"#000000\"/>\n",
       "<text fill=\"#000000\" font-family=\"Times,serif\" font-size=\"14.00\" text-anchor=\"middle\" x=\"346\" y=\"-268.8\">circular_cos: Lambda</text>\n",
       "<polyline fill=\"none\" points=\"413.5,-249.5 413.5,-295.5 \" stroke=\"#000000\"/>\n",
       "<text fill=\"#000000\" font-family=\"Times,serif\" font-size=\"14.00\" text-anchor=\"middle\" x=\"441.5\" y=\"-280.3\">input:</text>\n",
       "<polyline fill=\"none\" points=\"413.5,-272.5 469.5,-272.5 \" stroke=\"#000000\"/>\n",
       "<text fill=\"#000000\" font-family=\"Times,serif\" font-size=\"14.00\" text-anchor=\"middle\" x=\"441.5\" y=\"-257.3\">output:</text>\n",
       "<polyline fill=\"none\" points=\"469.5,-249.5 469.5,-295.5 \" stroke=\"#000000\"/>\n",
       "<text fill=\"#000000\" font-family=\"Times,serif\" font-size=\"14.00\" text-anchor=\"middle\" x=\"504.5\" y=\"-280.3\">(None, 1)</text>\n",
       "<polyline fill=\"none\" points=\"469.5,-272.5 539.5,-272.5 \" stroke=\"#000000\"/>\n",
       "<text fill=\"#000000\" font-family=\"Times,serif\" font-size=\"14.00\" text-anchor=\"middle\" x=\"504.5\" y=\"-257.3\">(None, 1)</text>\n",
       "</g>\n",
       "<!-- 140367411046352&#45;&gt;140369131939408 -->\n",
       "<g class=\"edge\" id=\"edge9\">\n",
       "<title>140367411046352-&gt;140369131939408</title>\n",
       "<path d=\"M320.2624,-332.3799C334.4046,-322.8367 350.955,-311.6686 365.9066,-301.5793\" fill=\"none\" stroke=\"#000000\"/>\n",
       "<polygon fill=\"#000000\" points=\"368.1633,-304.2789 374.4948,-295.784 364.2477,-298.4764 368.1633,-304.2789\" stroke=\"#000000\"/>\n",
       "</g>\n",
       "<!-- 140367411240080 -->\n",
       "<g class=\"node\" id=\"node12\">\n",
       "<title>140367411240080</title>\n",
       "<polygon fill=\"none\" points=\"209,-166.5 209,-212.5 563,-212.5 563,-166.5 209,-166.5\" stroke=\"#000000\"/>\n",
       "<text fill=\"#000000\" font-family=\"Times,serif\" font-size=\"14.00\" text-anchor=\"middle\" x=\"289\" y=\"-185.8\">circular_out: Concatenate</text>\n",
       "<polyline fill=\"none\" points=\"369,-166.5 369,-212.5 \" stroke=\"#000000\"/>\n",
       "<text fill=\"#000000\" font-family=\"Times,serif\" font-size=\"14.00\" text-anchor=\"middle\" x=\"397\" y=\"-197.3\">input:</text>\n",
       "<polyline fill=\"none\" points=\"369,-189.5 425,-189.5 \" stroke=\"#000000\"/>\n",
       "<text fill=\"#000000\" font-family=\"Times,serif\" font-size=\"14.00\" text-anchor=\"middle\" x=\"397\" y=\"-174.3\">output:</text>\n",
       "<polyline fill=\"none\" points=\"425,-166.5 425,-212.5 \" stroke=\"#000000\"/>\n",
       "<text fill=\"#000000\" font-family=\"Times,serif\" font-size=\"14.00\" text-anchor=\"middle\" x=\"494\" y=\"-197.3\">[(None, 1), (None, 1)]</text>\n",
       "<polyline fill=\"none\" points=\"425,-189.5 563,-189.5 \" stroke=\"#000000\"/>\n",
       "<text fill=\"#000000\" font-family=\"Times,serif\" font-size=\"14.00\" text-anchor=\"middle\" x=\"494\" y=\"-174.3\">(None, 2)</text>\n",
       "</g>\n",
       "<!-- 140369132248528&#45;&gt;140367411240080 -->\n",
       "<g class=\"edge\" id=\"edge11\">\n",
       "<title>140369132248528-&gt;140367411240080</title>\n",
       "<path d=\"M200.9703,-249.4901C233.293,-239.0105 271.7144,-226.5535 305.1474,-215.7139\" fill=\"none\" stroke=\"#000000\"/>\n",
       "<polygon fill=\"#000000\" points=\"306.4586,-218.9683 314.8916,-212.5547 304.2996,-212.3095 306.4586,-218.9683\" stroke=\"#000000\"/>\n",
       "</g>\n",
       "<!-- 140369131939408&#45;&gt;140367411240080 -->\n",
       "<g class=\"edge\" id=\"edge12\">\n",
       "<title>140369131939408-&gt;140367411240080</title>\n",
       "<path d=\"M402.5932,-249.3799C400.2947,-241.0854 397.6561,-231.5633 395.1692,-222.5889\" fill=\"none\" stroke=\"#000000\"/>\n",
       "<polygon fill=\"#000000\" points=\"398.4956,-221.4862 392.4522,-212.784 391.7498,-223.3555 398.4956,-221.4862\" stroke=\"#000000\"/>\n",
       "</g>\n",
       "<!-- 140367411238992 -->\n",
       "<g class=\"node\" id=\"node13\">\n",
       "<title>140367411238992</title>\n",
       "<polygon fill=\"none\" points=\"301.5,-83.5 301.5,-129.5 674.5,-129.5 674.5,-83.5 301.5,-83.5\" stroke=\"#000000\"/>\n",
       "<text fill=\"#000000\" font-family=\"Times,serif\" font-size=\"14.00\" text-anchor=\"middle\" x=\"391\" y=\"-102.8\">decoder_concat: Concatenate</text>\n",
       "<polyline fill=\"none\" points=\"480.5,-83.5 480.5,-129.5 \" stroke=\"#000000\"/>\n",
       "<text fill=\"#000000\" font-family=\"Times,serif\" font-size=\"14.00\" text-anchor=\"middle\" x=\"508.5\" y=\"-114.3\">input:</text>\n",
       "<polyline fill=\"none\" points=\"480.5,-106.5 536.5,-106.5 \" stroke=\"#000000\"/>\n",
       "<text fill=\"#000000\" font-family=\"Times,serif\" font-size=\"14.00\" text-anchor=\"middle\" x=\"508.5\" y=\"-91.3\">output:</text>\n",
       "<polyline fill=\"none\" points=\"536.5,-83.5 536.5,-129.5 \" stroke=\"#000000\"/>\n",
       "<text fill=\"#000000\" font-family=\"Times,serif\" font-size=\"14.00\" text-anchor=\"middle\" x=\"605.5\" y=\"-114.3\">[(None, 1), (None, 2)]</text>\n",
       "<polyline fill=\"none\" points=\"536.5,-106.5 674.5,-106.5 \" stroke=\"#000000\"/>\n",
       "<text fill=\"#000000\" font-family=\"Times,serif\" font-size=\"14.00\" text-anchor=\"middle\" x=\"605.5\" y=\"-91.3\">(None, 3)</text>\n",
       "</g>\n",
       "<!-- 140367411155664&#45;&gt;140367411238992 -->\n",
       "<g class=\"edge\" id=\"edge13\">\n",
       "<title>140367411155664-&gt;140367411238992</title>\n",
       "<path d=\"M591,-747.4052C591,-715.3381 591,-655.5104 591,-604.5 591,-604.5 591,-604.5 591,-272.5 591,-224.4193 597.7644,-206.5949 572,-166 564.4481,-154.1011 553.578,-143.8869 542.1505,-135.4486\" fill=\"none\" stroke=\"#000000\"/>\n",
       "<polygon fill=\"#000000\" points=\"543.9785,-132.4567 533.7706,-129.6194 539.9811,-138.2031 543.9785,-132.4567\" stroke=\"#000000\"/>\n",
       "</g>\n",
       "<!-- 140367411240080&#45;&gt;140367411238992 -->\n",
       "<g class=\"edge\" id=\"edge14\">\n",
       "<title>140367411240080-&gt;140367411238992</title>\n",
       "<path d=\"M414.4127,-166.3799C425.9212,-157.0151 439.3527,-146.0855 451.5673,-136.1462\" fill=\"none\" stroke=\"#000000\"/>\n",
       "<polygon fill=\"#000000\" points=\"453.8385,-138.8105 459.3859,-129.784 449.4203,-133.3809 453.8385,-138.8105\" stroke=\"#000000\"/>\n",
       "</g>\n",
       "<!-- 140367410534416 -->\n",
       "<g class=\"node\" id=\"node14\">\n",
       "<title>140367410534416</title>\n",
       "<polygon fill=\"none\" points=\"349,-.5 349,-46.5 627,-46.5 627,-.5 349,-.5\" stroke=\"#000000\"/>\n",
       "<text fill=\"#000000\" font-family=\"Times,serif\" font-size=\"14.00\" text-anchor=\"middle\" x=\"411.5\" y=\"-19.8\">decoder_out: Dense</text>\n",
       "<polyline fill=\"none\" points=\"474,-.5 474,-46.5 \" stroke=\"#000000\"/>\n",
       "<text fill=\"#000000\" font-family=\"Times,serif\" font-size=\"14.00\" text-anchor=\"middle\" x=\"502\" y=\"-31.3\">input:</text>\n",
       "<polyline fill=\"none\" points=\"474,-23.5 530,-23.5 \" stroke=\"#000000\"/>\n",
       "<text fill=\"#000000\" font-family=\"Times,serif\" font-size=\"14.00\" text-anchor=\"middle\" x=\"502\" y=\"-8.3\">output:</text>\n",
       "<polyline fill=\"none\" points=\"530,-.5 530,-46.5 \" stroke=\"#000000\"/>\n",
       "<text fill=\"#000000\" font-family=\"Times,serif\" font-size=\"14.00\" text-anchor=\"middle\" x=\"578.5\" y=\"-31.3\">(None, 3)</text>\n",
       "<polyline fill=\"none\" points=\"530,-23.5 627,-23.5 \" stroke=\"#000000\"/>\n",
       "<text fill=\"#000000\" font-family=\"Times,serif\" font-size=\"14.00\" text-anchor=\"middle\" x=\"578.5\" y=\"-8.3\">(None, 38293)</text>\n",
       "</g>\n",
       "<!-- 140367411238992&#45;&gt;140367410534416 -->\n",
       "<g class=\"edge\" id=\"edge15\">\n",
       "<title>140367411238992-&gt;140367410534416</title>\n",
       "<path d=\"M488,-83.3799C488,-75.1745 488,-65.7679 488,-56.8786\" fill=\"none\" stroke=\"#000000\"/>\n",
       "<polygon fill=\"#000000\" points=\"491.5001,-56.784 488,-46.784 484.5001,-56.784 491.5001,-56.784\" stroke=\"#000000\"/>\n",
       "</g>\n",
       "</g>\n",
       "</svg>"
      ],
      "text/plain": [
       "<IPython.core.display.SVG object>"
      ]
     },
     "metadata": {},
     "output_type": "display_data"
    }
   ],
   "source": [
    "display(model.show_structure())\n"
   ]
  },
  {
   "cell_type": "code",
   "execution_count": 28,
   "metadata": {
    "pycharm": {
     "is_executing": false,
     "name": "#%%\n"
    }
   },
   "outputs": [
    {
     "name": "stdout",
     "output_type": "stream",
     "text": [
      "epoch: 100/1600, loss:  0.7777, time elapsed:  37.40s, time left:  561.03s\n",
      "epoch: 200/1600, loss:  0.7730, time elapsed:  74.49s, time left:  521.41s\n",
      "epoch: 300/1600, loss:  0.7709, time elapsed:  112.24s, time left:  486.38s\n",
      "epoch: 400/1600, loss:  0.7701, time elapsed:  147.82s, time left:  443.47s\n",
      "epoch: 500/1600, loss:  0.7697, time elapsed:  183.25s, time left:  403.15s\n",
      "epoch: 600/1600, loss:  0.7693, time elapsed:  222.34s, time left:  370.56s\n",
      "epoch: 700/1600, loss:  0.7692, time elapsed:  262.78s, time left:  337.86s\n",
      "epoch: 800/1600, loss:  0.7694, time elapsed:  300.19s, time left:  300.19s\n",
      "epoch: 900/1600, loss:  0.7693, time elapsed:  332.87s, time left:  258.90s\n",
      "epoch: 1000/1600, loss:  0.7690, time elapsed:  365.41s, time left:  219.24s\n",
      "epoch: 1100/1600, loss:  0.7688, time elapsed:  397.64s, time left:  180.74s\n",
      "epoch: 1200/1600, loss:  0.7690, time elapsed:  429.72s, time left:  143.24s\n",
      "epoch: 1300/1600, loss:  0.7687, time elapsed:  461.39s, time left:  106.47s\n",
      "epoch: 1400/1600, loss:  0.7687, time elapsed:  493.12s, time left:  70.45s\n",
      "epoch: 1500/1600, loss:  0.7689, time elapsed:  525.37s, time left:  35.02s\n",
      "epoch: 1600/1600, loss:  0.7689, time elapsed:  556.84s, time left:  0.00s\n"
     ]
    },
    {
     "data": {
      "text/plain": [
       "<keras.callbacks.History at 0x7faacc825990>"
      ]
     },
     "execution_count": 28,
     "metadata": {},
     "output_type": "execute_result"
    }
   ],
   "source": [
    "model.train(sttpm, epochs=1600, verbose=100, rate=2e-4)"
   ]
  },
  {
   "cell_type": "code",
   "execution_count": 29,
   "metadata": {
    "pycharm": {
     "is_executing": false,
     "name": "#%%\n"
    }
   },
   "outputs": [],
   "source": [
    "pseudotime = model.predict_pseudotime(sttpm)"
   ]
  },
  {
   "cell_type": "markdown",
   "metadata": {
    "pycharm": {
     "is_executing": false,
     "name": "#%% md\n"
    }
   },
   "source": [
    "## Illustrations\n",
    "We illustrate the results on a circle, to show its circular nature. \n",
    "There is virtually no start and end of the circle.\n",
    "Red, green and blue represents G0/G1, S and G2/M phase respectively.\n",
    "The inner lines represents single cells. The cells spread across the\n",
    "The areas outside"
   ]
  },
  {
   "cell_type": "code",
   "execution_count": 30,
   "metadata": {
    "pycharm": {
     "is_executing": false,
     "name": "#%%\n"
    }
   },
   "outputs": [],
   "source": [
    "import cyclum.illustration"
   ]
  },
  {
   "cell_type": "code",
   "execution_count": 31,
   "metadata": {
    "pycharm": {
     "is_executing": false,
     "name": "#%%\n"
    }
   },
   "outputs": [
    {
     "data": {
      "image/png": "[encoded data removed]",
      "text/plain": [
       "<Figure size 432x288 with 1 Axes>"
      ]
     },
     "metadata": {
      "needs_background": "light"
     },
     "output_type": "display_data"
    }
   ],
   "source": [
    "color_map = {'stage': {\"g0/g1\": \"red\", \"s\": \"green\", \"g2/m\": \"blue\"},\n",
    "                 'subcluster': {\"intact\": \"cyan\", \"perturbed\": \"violet\"}}\n",
    "cyclum.illustration.plot_round_distr_color(pseudotime, label['stage'], color_map['stage'])\n",
    "pass"
   ]
  },
  {
   "cell_type": "code",
   "execution_count": 32,
   "metadata": {
    "pycharm": {
     "is_executing": false,
     "name": "#%%\n"
    }
   },
   "outputs": [],
   "source": [
    "from cyclum.hdfrw import mat2hdf\n",
    "mat2hdf(pseudotime, '/home/shaoheng/Documents/data/EMTAB2805/cyclum-marker-weighted-pseudotime.h5')"
   ]
  }
 ],
 "metadata": {
  "kernelspec": {
   "display_name": "Python 3 [GPU]",
   "language": "python",
   "name": "optirun_python3"
  },
  "language_info": {
   "codemirror_mode": {
    "name": "ipython",
    "version": 3
   },
   "file_extension": ".py",
   "mimetype": "text/x-python",
   "name": "python",
   "nbconvert_exporter": "python",
   "pygments_lexer": "ipython3",
   "version": "3.7.4"
  },
  "pycharm": {
   "stem_cell": {
    "cell_type": "raw",
    "metadata": {
     "collapsed": false
    },
    "source": []
   }
  }
 },
 "nbformat": 4,
 "nbformat_minor": 1
}
