{
 "cells": [
  {
   "cell_type": "markdown",
   "source": [
    "# EMT-MET analysis using the object oriented core\n",
    "\n",
    "We redesigned the core of Cyclum to a more friendly object oriented core. The core is still under active development, but the major functions are already functional.\n",
    "\n",
    "We still use the mESC dataset. For simplicity we have converted the dataset into TPM.\n",
    "The original count data is available at ArrayExpress: [E-MTAB-2805](https://www.ebi.ac.uk/arrayexpress/experiments/E-MTAB-2805/). Tools to transform data are also provided and explained in the following sections."
   ],
   "metadata": {
    "collapsed": false
   }
  },
  {
   "cell_type": "markdown",
   "source": [
    "## Import necessary packages"
   ],
   "metadata": {
    "collapsed": false
   }
  },
  {
   "cell_type": "code",
   "execution_count": 9,
   "outputs": [
    {
     "name": "stdout",
     "text": [
      "The autoreload extension is already loaded. To reload it, use:\n  %reload_ext autoreload\n"
     ],
     "output_type": "stream"
    }
   ],
   "source": [
    "%matplotlib inline\n",
    "%load_ext autoreload\n",
    "%autoreload 1"
   ],
   "metadata": {
    "collapsed": false,
    "pycharm": {
     "name": "#%%\n",
     "is_executing": false
    }
   }
  },
  {
   "cell_type": "code",
   "execution_count": 10,
   "outputs": [],
   "source": [
    "import pandas as pd\n",
    "import numpy as np\n",
    "import sklearn as skl"
   ],
   "metadata": {
    "collapsed": false,
    "pycharm": {
     "name": "#%%\n",
     "is_executing": false
    }
   }
  },
  {
   "cell_type": "code",
   "execution_count": 11,
   "outputs": [],
   "source": [
    "import cyclum.tuning\n",
    "import cyclum.models\n",
    "from cyclum import writer\n"
   ],
   "metadata": {
    "collapsed": false,
    "pycharm": {
     "name": "#%%\n",
     "is_executing": false
    }
   }
  },
  {
   "cell_type": "markdown",
   "source": [
    "## Read data\n",
    "Here we have label, so we load both. However, the label is not used until evaluation."
   ],
   "metadata": {
    "collapsed": false
   }
  },
  {
   "cell_type": "code",
   "execution_count": 12,
   "outputs": [
    {
     "data": {
      "text/plain": "                            Cell_types        PC1       PC2\nCell                                                       \nintestine_E9.5_embryo1_sc10        Epi  12.554093  1.262988\nintestine_E9.5_embryo1_sc11        Epi  10.497880  2.639420\nintestine_E9.5_embryo1_sc5         Epi  10.657096  4.028669\nintestine_E9.5_embryo1_sc8         Epi  11.485452  4.704812\nintestine_E9.5_embryo1_sc9         Epi   9.883902  6.702098",
      "text/html": "<div>\n<style scoped>\n    .dataframe tbody tr th:only-of-type {\n        vertical-align: middle;\n    }\n\n    .dataframe tbody tr th {\n        vertical-align: top;\n    }\n\n    .dataframe thead th {\n        text-align: right;\n    }\n</style>\n<table border=\"1\" class=\"dataframe\">\n  <thead>\n    <tr style=\"text-align: right;\">\n      <th></th>\n      <th>Cell_types</th>\n      <th>PC1</th>\n      <th>PC2</th>\n    </tr>\n    <tr>\n      <th>Cell</th>\n      <th></th>\n      <th></th>\n      <th></th>\n    </tr>\n  </thead>\n  <tbody>\n    <tr>\n      <th>intestine_E9.5_embryo1_sc10</th>\n      <td>Epi</td>\n      <td>12.554093</td>\n      <td>1.262988</td>\n    </tr>\n    <tr>\n      <th>intestine_E9.5_embryo1_sc11</th>\n      <td>Epi</td>\n      <td>10.497880</td>\n      <td>2.639420</td>\n    </tr>\n    <tr>\n      <th>intestine_E9.5_embryo1_sc5</th>\n      <td>Epi</td>\n      <td>10.657096</td>\n      <td>4.028669</td>\n    </tr>\n    <tr>\n      <th>intestine_E9.5_embryo1_sc8</th>\n      <td>Epi</td>\n      <td>11.485452</td>\n      <td>4.704812</td>\n    </tr>\n    <tr>\n      <th>intestine_E9.5_embryo1_sc9</th>\n      <td>Epi</td>\n      <td>9.883902</td>\n      <td>6.702098</td>\n    </tr>\n  </tbody>\n</table>\n</div>"
     },
     "metadata": {},
     "output_type": "execute_result",
     "execution_count": 12
    }
   ],
   "source": [
    "file_name = '''GSM2319557_forebrain_E9.5_embryo1_expression_TPM.txt\n",
    "GSM2319558_heart_E9.5_embryo1_expression_TPM.txt\n",
    "GSM2319559_intestine_E9.5_embryo1_expression_TPM.txt\n",
    "GSM2319560_liver_E9.5_embryo1_expression_TPM.txt\n",
    "GSM2319561_hindbrain_E9.5_embryo1_expression_TPM.txt\n",
    "GSM2319562_somite_E9.5_embryo1_expression_TPM.txt\n",
    "GSM2319563_forebrain_E9.5_embryo2_expression_TPM.txt\n",
    "GSM2319564_heart_E9.5_embryo2_expression_TPM.txt\n",
    "GSM2319565_intestine_E9.5_embryo2_expression_TPM.txt\n",
    "GSM2319566_liver_E9.5_embryo2_expression_TPM.txt\n",
    "GSM2319567_lung_E9.5_embryo2_expression_TPM.txt\n",
    "GSM2319568_hindbrain_E9.5_embryo2_expression_TPM.txt\n",
    "GSM2319569_skin_E9.5_embryo2_expression_TPM.txt\n",
    "GSM2319570_somite_E9.5_embryo2_expression_TPM.txt\n",
    "GSM3027032_lung_liver_E9.5_embryo3_expression_TPM.txt\n",
    "GSM3027033_skin_intestine_somite_E9.5_embryo3_expression_TPM.txt\n",
    "GSM3027034_forebrain_E10.5_expression_TPM.txt\n",
    "GSM3027035_heart_E10.5_expression_TPM.txt\n",
    "GSM3027036_hindbrain_E10.5_expression_TPM.txt\n",
    "GSM3027037_intestine_E10.5_expression_TPM.txt\n",
    "GSM3027038_liver_E10.5_expression_TPM.txt\n",
    "GSM3027039_lung_E10.5_expression_TPM.txt\n",
    "GSM3027040_skin_E10.5_expression_TPM.txt\n",
    "GSM3027041_somite_E10.5_expression_TPM.txt\n",
    "GSM3027042_forebrain_E11.5_expression_TPM.txt\n",
    "GSM3027043_heart_E11.5_expression_TPM.txt\n",
    "GSM3027044_hindbrain_E11.5_expression_TPM.txt\n",
    "GSM3027045_intestine_E11.5_expression_TPM.txt\n",
    "GSM3027046_liver_E11.5_expression_TPM.txt\n",
    "GSM3027047_lung_E11.5_expression_TPM.txt\n",
    "GSM3027048_skin_E11.5_expression_TPM.txt\n",
    "GSM3027049_somite_E11.5_expression_TPM.txt'''.split('\\n')\n",
    "\n",
    "all_data = [pd.read_csv('/home/shaoheng/Documents/data/EMT/' + i, sep='\\t', index_col=0).T for i in file_name];\n",
    "\n",
    "cell_class = pd.read_csv('/home/shaoheng/Documents/data/EMT/13059_2018_1416_MOESM3_ESM.csv', sep='\\t', index_col=0)\n",
    "cell_class.head()"
   ],
   "metadata": {
    "collapsed": false,
    "pycharm": {
     "name": "#%%\n",
     "is_executing": false
    }
   }
  },
  {
   "cell_type": "code",
   "execution_count": 13,
   "outputs": [
    {
     "name": "stdout",
     "text": [
      "1916 cells x 23154 genes.\n"
     ],
     "output_type": "stream"
    },
    {
     "data": {
      "text/plain": "                                    0\nforebrain_E9.5_embryo1_sc1  forebrain\nforebrain_E9.5_embryo1_sc2  forebrain\nforebrain_E9.5_embryo1_sc3  forebrain\nforebrain_E9.5_embryo1_sc4  forebrain\nforebrain_E9.5_embryo1_sc5  forebrain",
      "text/html": "<div>\n<style scoped>\n    .dataframe tbody tr th:only-of-type {\n        vertical-align: middle;\n    }\n\n    .dataframe tbody tr th {\n        vertical-align: top;\n    }\n\n    .dataframe thead th {\n        text-align: right;\n    }\n</style>\n<table border=\"1\" class=\"dataframe\">\n  <thead>\n    <tr style=\"text-align: right;\">\n      <th></th>\n      <th>0</th>\n    </tr>\n  </thead>\n  <tbody>\n    <tr>\n      <th>forebrain_E9.5_embryo1_sc1</th>\n      <td>forebrain</td>\n    </tr>\n    <tr>\n      <th>forebrain_E9.5_embryo1_sc2</th>\n      <td>forebrain</td>\n    </tr>\n    <tr>\n      <th>forebrain_E9.5_embryo1_sc3</th>\n      <td>forebrain</td>\n    </tr>\n    <tr>\n      <th>forebrain_E9.5_embryo1_sc4</th>\n      <td>forebrain</td>\n    </tr>\n    <tr>\n      <th>forebrain_E9.5_embryo1_sc5</th>\n      <td>forebrain</td>\n    </tr>\n  </tbody>\n</table>\n</div>"
     },
     "metadata": {},
     "output_type": "execute_result",
     "execution_count": 13
    }
   ],
   "source": [
    "raw_Y = pd.concat(all_data, axis=0, join='inner')\n",
    "\n",
    "cell_type_list = list(map(lambda x: x.split('_')[0], raw_Y.index.tolist()))\n",
    "\n",
    "cell_type = pd.DataFrame(index=raw_Y.index, data=cell_type_list)\n",
    "\n",
    "print(\"%d cells x %d genes.\" % raw_Y.shape)\n",
    "cell_type.head()"
   ],
   "metadata": {
    "collapsed": false,
    "pycharm": {
     "name": "#%%\n",
     "is_executing": false
    }
   }
  },
  {
   "cell_type": "code",
   "execution_count": 14,
   "outputs": [
    {
     "name": "stdout",
     "text": [
      "Epi 289, Mes 352\n"
     ],
     "output_type": "stream"
    },
    {
     "name": "stderr",
     "text": [
      "/home/shaoheng/miniconda3/envs/tf-gpu/lib/python3.7/site-packages/pandas/core/indexing.py:961: FutureWarning: \nPassing list-likes to .loc or [] with any missing label will raise\nKeyError in the future, you can use .reindex() as an alternative.\n\nSee the documentation here:\nhttps://pandas.pydata.org/pandas-docs/stable/user_guide/indexing.html#deprecate-loc-reindex-listlike\n  return getattr(section, self.name)[new_key]\n"
     ],
     "output_type": "stream"
    }
   ],
   "source": [
    "cell_label = cell_class.loc[raw_Y.index, 'Cell_types']\n",
    "cell_label = cell_label.dropna()\n",
    "raw_Y = raw_Y.loc[cell_label.index, :]\n",
    "cell_type = cell_type.reindex(cell_label.index)\n",
    "print(f\"Epi {np.sum(cell_label.values == 'Epi')}, Mes {np.sum(cell_label.values == 'Mes')}\")\n",
    "\n",
    "Y = skl.preprocessing.scale(np.log1p(raw_Y))"
   ],
   "metadata": {
    "collapsed": false,
    "pycharm": {
     "name": "#%%\n",
     "is_executing": false
    }
   }
  },
  {
   "cell_type": "code",
   "execution_count": 17,
   "outputs": [],
   "source": [
    "from sklearn.decomposition import PCA\n",
    "pca_model = PCA(n_components=20)\n",
    "pca_load = pca_model.fit_transform(Y)"
   ],
   "metadata": {
    "collapsed": false,
    "pycharm": {
     "name": "#%%\n",
     "is_executing": false
    }
   }
  },
  {
   "cell_type": "code",
   "execution_count": 30,
   "outputs": [
    {
     "data": {
      "text/plain": "<Figure size 432x288 with 1 Axes>",
      "image/png": "[encoded data removed]"
     },
     "metadata": {
      "needs_background": "light"
     },
     "output_type": "display_data"
    }
   ],
   "source": [
    "import matplotlib.pyplot as plt\n",
    "\n",
    "plt.scatter(pca_load[cell_label == 'Epi', 0], pca_load[cell_label == 'Epi', 1], s = 2, c = 'blue', alpha=.3)\n",
    "plt.scatter(pca_load[cell_label == 'Mes', 0], pca_load[cell_label == 'Mes', 1], s = 2, c = 'red', alpha=.3)\n",
    "plt.xlabel('PC 1')\n",
    "plt.ylabel('PC 2')\n",
    "plt.legend(['Epithelial', 'Mesenchymal'])\n",
    "\n",
    "plt.savefig(\"/home/shaoheng/Documents/data/EMT/pca.pdf\")"
   ],
   "metadata": {
    "collapsed": false,
    "pycharm": {
     "name": "#%%\n",
     "is_executing": false
    }
   }
  },
  {
   "cell_type": "code",
   "execution_count": 29,
   "outputs": [
    {
     "data": {
      "text/plain": "<Figure size 432x288 with 1 Axes>",
      "image/png": "[encoded data removed]"
     },
     "metadata": {
      "needs_background": "light"
     },
     "output_type": "display_data"
    }
   ],
   "source": [
    "import umap\n",
    "\n",
    "umap_res = umap.UMAP().fit_transform(pca_load)\n",
    "\n",
    "plt.scatter(umap_res[cell_label == 'Epi', 0], umap_res[cell_label == 'Epi', 1], s = 2, c = 'blue', alpha=.3)\n",
    "plt.scatter(umap_res[cell_label == 'Mes', 0], umap_res[cell_label == 'Mes', 1], s = 2, c = 'red', alpha=.3)\n",
    "plt.xlabel('UMAP 1')\n",
    "plt.ylabel('UMAP 2')\n",
    "plt.legend(['Epithelial', 'Mesenchymal'])\n",
    "plt.savefig(\"/home/shaoheng/Documents/data/EMT/umap.pdf\")"
   ],
   "metadata": {
    "collapsed": false,
    "pycharm": {
     "name": "#%%\n",
     "is_executing": false
    }
   }
  }
 ],
 "metadata": {
  "kernelspec": {
   "name": "python3",
   "language": "python",
   "display_name": "Python 3"
  },
  "language_info": {
   "codemirror_mode": {
    "name": "ipython",
    "version": 2
   },
   "file_extension": ".py",
   "mimetype": "text/x-python",
   "name": "python",
   "nbconvert_exporter": "python",
   "pygments_lexer": "ipython2",
   "version": "2.7.6"
  },
  "pycharm": {
   "stem_cell": {
    "cell_type": "raw",
    "source": [],
    "metadata": {
     "collapsed": false
    }
   }
  }
 },
 "nbformat": 4,
 "nbformat_minor": 0
}